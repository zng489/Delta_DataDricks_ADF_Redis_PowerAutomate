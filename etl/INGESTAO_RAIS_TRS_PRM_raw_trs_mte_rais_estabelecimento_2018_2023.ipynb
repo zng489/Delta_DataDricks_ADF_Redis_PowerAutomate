{
 "cells": [
  {
   "cell_type": "code",
   "execution_count": 0,
   "metadata": {
    "application/vnd.databricks.v1+cell": {
     "cellMetadata": {
      "byteLimit": 2048000,
      "rowLimit": 10000
     },
     "inputWidgets": {},
     "nuid": "e87d599b-ce6c-4a44-b7a3-f7aae607dbd5",
     "showTitle": false,
     "title": ""
    }
   },
   "outputs": [],
   "source": [
    "\n",
    "file = {\"schema\":\"/mte\", \"type_raw\":\"/usr\", \"type_folder\":\"/oni\", \"file_folder\":\"/rais\", \"file_subfolder\":\"/rais_estabelecimentos_2018_2023\",\"prm_path\":\"/prm/usr/oni/mte/rais_publica_estabelecimento/FIEC_mte_rais_publica_estabelecimento_mapeamento_unificado_trusted.xlsx\"}\n",
    "\n",
    "\n",
    "adf = { \"adf_factory_name\": \"cnibigdatafactory\", \"adf_pipeline_name\": \"raw_trs_tb_email\", \"adf_pipeline_run_id\": \"61fc4f3c-c592-426d-bb36-c85cb184bb82\", \"adf_trigger_id\": \"92abb4ec-2b1f-44e0-8245-7bc165f91016\", \"adf_trigger_name\": \"92abb4ec-2b1f-44e0-8245-7bc165f91016\", \"adf_trigger_time\": \"2024-05-07T00:58:48.0960873Z\", \"adf_trigger_type\": \"PipelineActivity\" }\n",
    "\n",
    "dls = {\"folders\":{\"landing\":\"/tmp/dev/lnd\",\"error\":\"/tmp/dev/err\",\"archive\":\"/tmp/dev/ach\",\"staging\":\"/tmp/dev/stg\",\"log\":\"/tmp/dev/log\",\"raw\":\"/tmp/dev/raw\",\"trusted\":\"/tmp/dev/trs\",\"business\":\"/tmp/dev/biz\",\"prm\":\"/tmp/dev/prm\",\"historico\":\"/tmp/dev/hst\"},\"path_prefix\":\"tmp\",\"uld\":{\"folders\":{\"landing\":\"/tmp/dev/uld\",\"error\":\"/tmp/dev/err\",\"staging\":\"/tmp/dev/stg\",\"log\":\"/tmp/dev/log\",\"raw\":\"/tmp/dev/raw\",\"archive\":\"/tmp/dev/ach\"},\"systems\":{\"raw\":\"usr\"},\"path_prefix\":\"/tmp/dev/\"},\"systems\":{\"raw\":\"usr\"}}\n",
    "\n",
    "dbutils.widgets.text(\"user_parameters\", '{\"null\": \"null\"}')\n",
    "\n",
    "dbutils.widgets.text(\"env\", 'dev')\n",
    "\n",
    "dbutils.widgets.text(\"storage\", '{\"url\": \"https://cnibigdatadlsgen2.dfs.core.windows.net\", \"container\": \"datalake\"}')"
   ]
  },
  {
   "cell_type": "code",
   "execution_count": 0,
   "metadata": {
    "application/vnd.databricks.v1+cell": {
     "cellMetadata": {
      "byteLimit": 2048000,
      "rowLimit": 10000
     },
     "inputWidgets": {},
     "nuid": "70fffa22-5cc2-436a-a346-2299b4e983a9",
     "showTitle": false,
     "title": ""
    }
   },
   "outputs": [
    {
     "name": "stderr",
     "output_type": "stream",
     "text": [
      "WARNING:root:No input widget named 'adf' is defined\n",
      "WARNING:root:No input widget named 'dls' is defined\n",
      "WARNING:root:No input widget named 'table' is defined\n",
      "WARNING:root:No input widget named 'tables' is defined\n",
      "WARNING:root:No input widget named 'file' is defined\n",
      "WARNING:root:Cluster Name: fornecedor_dev\n",
      "WARNING:root:Parsed env value is 'dev', and type <class 'str'>\n",
      "WARNING:root:Execution env: 'dev'\n",
      "WARNING:root:Cluster is interactive: 'True'\n"
     ]
    }
   ],
   "source": [
    "# Biblioteca cni_connectors, que dá acesso aos dados no datalake\n",
    "from cni_connectors import adls_connector as adls_conn\n",
    "\n",
    "# A biblioteca criada para facilitar a declaração dos testes. É necessário importá-la.\n",
    "### from datatest.gx_context_provider import GXContextProvider\n",
    "\n",
    "# Essa declaração é necessária em todos os notebooks. Somente através dela podemos acessar os dados no datalake.\n",
    "var_adls_uri, notebook_params = adls_conn.connect_adls()\n",
    "\n",
    "from pyspark.sql.functions import udf, from_utc_timestamp, current_timestamp, lit, input_file_name, monotonically_increasing_id, substring_index\n",
    "from trs_control_field import trs_control_field as tcf\n",
    "import pyspark.sql.functions as f\n",
    "import crawler.functions as cf\n",
    "from pyspark.sql import SparkSession\n",
    "import time\n",
    "import pandas as pd\n",
    "from pyspark.sql.functions import col, when, explode, lit\n",
    "import json\n",
    "from unicodedata import normalize \n",
    "import datetime\n",
    "import re\n",
    "from core.string_utils import normalize_replace\n",
    "from pyspark.sql.functions import concat, lit, col"
   ]
  },
  {
   "cell_type": "code",
   "execution_count": 0,
   "metadata": {
    "application/vnd.databricks.v1+cell": {
     "cellMetadata": {
      "byteLimit": 2048000,
      "rowLimit": 10000
     },
     "inputWidgets": {},
     "nuid": "6a6be5af-683b-4f0b-a980-5c177928976a",
     "showTitle": false,
     "title": ""
    }
   },
   "outputs": [],
   "source": [
    "# Esses são os dicionários de configuração da transformação enviados pelo ADF e acessados via widgets. Os diretórios de origem e destino das tabelas são compostos por valores em 'dls' e 'tables'.\n",
    "# Parametros necessario para na ingestão\n",
    "\n",
    "\n",
    "\n",
    "file = notebook_params.var_file\n",
    "dls = notebook_params.var_dls\n",
    "adf = notebook_params.var_adf"
   ]
  },
  {
   "cell_type": "code",
   "execution_count": 0,
   "metadata": {
    "application/vnd.databricks.v1+cell": {
     "cellMetadata": {
      "byteLimit": 2048000,
      "rowLimit": 10000
     },
     "inputWidgets": {},
     "nuid": "aef4a44f-515c-42b5-9faa-bf625749cac4",
     "showTitle": false,
     "title": ""
    }
   },
   "outputs": [
    {
     "name": "stdout",
     "output_type": "stream",
     "text": [
      "/tmp/dev/lnd\n",
      "/tmp/dev/raw\n",
      "/tmp/dev/raw\n",
      "usr\n"
     ]
    }
   ],
   "source": [
    "uld = dls['folders']['landing']\n",
    "print(uld)\n",
    "\n",
    "raw = dls['folders']['raw']\n",
    "print(raw)\n",
    "\n",
    "trs = dls['folders']['trusted']\n",
    "print(raw)\n",
    "\n",
    "usr = dls['systems']['raw']\n",
    "print(usr)"
   ]
  },
  {
   "cell_type": "code",
   "execution_count": 0,
   "metadata": {
    "application/vnd.databricks.v1+cell": {
     "cellMetadata": {
      "byteLimit": 2048000,
      "rowLimit": 10000
     },
     "inputWidgets": {},
     "nuid": "22272cbd-517f-4ba3-83ca-91e774d79112",
     "showTitle": false,
     "title": ""
    }
   },
   "outputs": [
    {
     "name": "stdout",
     "output_type": "stream",
     "text": [
      "Out[63]: 'abfss://datalake@[REDACTED].dfs.core.windows.net/tmp/dev/raw/usr/oni/mte/rais/rais_estabelecimentos_2018_2023'"
     ]
    }
   ],
   "source": [
    "raw_path = \"{raw}{type_raw}{type_folder}{schema}{file_folder}{file_subfolder}\".format(raw=raw,type_raw=tables['type_raw'], type_folder=tables['type_folder'], schema=tables['schema'], file_folder=tables['file_folder'], file_subfolder=tables['file_subfolder'])\n",
    "adl_raw = f\"{var_adls_uri}{raw_path}\"\n",
    "adl_raw"
   ]
  },
  {
   "cell_type": "code",
   "execution_count": 0,
   "metadata": {
    "application/vnd.databricks.v1+cell": {
     "cellMetadata": {
      "byteLimit": 2048000,
      "rowLimit": 10000
     },
     "inputWidgets": {},
     "nuid": "bb1ef6c1-7b7b-4a8c-92ab-f1d28d2f04e6",
     "showTitle": false,
     "title": ""
    }
   },
   "outputs": [
    {
     "name": "stdout",
     "output_type": "stream",
     "text": [
      "Out[64]: 'abfss://datalake@[REDACTED].dfs.core.windows.net/tmp/dev/trs/oni/mte/rais/rais_estabelecimentos_2018_2023'"
     ]
    }
   ],
   "source": [
    "trs_path = \"{trs}{type_folder}{schema}{file_folder}{file_subfolder}\".format(trs=trs, type_folder=tables['type_folder'], schema=tables['schema'], file_folder=tables['file_folder'], file_subfolder=tables['file_subfolder'])\n",
    "adl_trs = f\"{var_adls_uri}{trs_path}\"\n",
    "adl_trs"
   ]
  },
  {
   "cell_type": "code",
   "execution_count": 0,
   "metadata": {
    "application/vnd.databricks.v1+cell": {
     "cellMetadata": {
      "byteLimit": 2048000,
      "rowLimit": 10000
     },
     "inputWidgets": {},
     "nuid": "37b1ea5e-2e38-424f-9349-a41110c9d46a",
     "showTitle": false,
     "title": ""
    }
   },
   "outputs": [
    {
     "name": "stdout",
     "output_type": "stream",
     "text": [
      "Out[69]: '/prm/usr/oni/mte/rais_publica_estabelecimento/FIEC_mte_rais_publica_estabelecimento_mapeamento_unificado_trusted.xlsx'"
     ]
    }
   ],
   "source": [
    "# Path sem {var_adls_uri} e cuidado com /tmp/dev\n",
    "# prm_path = \"{path_prefix}{prm_path}\".format(path_prefix=dls['path_prefix'], prm_path=tables['prm_path'])\n",
    "\n",
    "prm_path = tables['prm_path']\n",
    "prm_path"
   ]
  },
  {
   "cell_type": "code",
   "execution_count": 0,
   "metadata": {
    "application/vnd.databricks.v1+cell": {
     "cellMetadata": {
      "byteLimit": 2048000,
      "rowLimit": 10000
     },
     "inputWidgets": {},
     "nuid": "bfc806a0-10e9-40a6-b18b-6db4b3f36547",
     "showTitle": false,
     "title": ""
    }
   },
   "outputs": [],
   "source": [
    "headers = {\n",
    "  'name_header': 'Campo Origem',\n",
    "  'pos_header': 'C',\n",
    "  'pos_org': 'C',\n",
    "  'pos_dst': 'E',\n",
    "  'pos_type': 'F'\n",
    "}\n",
    "var_prm_dict = cf.parse_ba_doc(dbutils, prm_path, headers=headers)"
   ]
  },
  {
   "cell_type": "code",
   "execution_count": 0,
   "metadata": {
    "application/vnd.databricks.v1+cell": {
     "cellMetadata": {
      "byteLimit": 2048000,
      "rowLimit": 10000
     },
     "inputWidgets": {},
     "nuid": "67577bfa-d333-4912-ad4d-9347d266591e",
     "showTitle": false,
     "title": ""
    }
   },
   "outputs": [
    {
     "name": "stdout",
     "output_type": "stream",
     "text": [
      "Out[75]: {'RAIS_PUBLICA_ESTABELECIMENTO': [['ANO', 'NR_ANO', 'smallint'],\n",
      "  ['BAIRROS_SP', 'CD_BAIRROS_SP', 'string'],\n",
      "  ['BAIRROS_FORTALEZA', 'CD_BAIRROS_FORTALEZA', 'string'],\n",
      "  ['BAIRROS_RJ', 'CD_BAIRROS_RJ', 'string'],\n",
      "  ['DISTRITOS_SP', 'CD_DISTRITOS_SP', 'string'],\n",
      "  ['REGIOES_ADM_DF', 'CD_REGIOES_ADM_DF', 'string'],\n",
      "  ['QTD_VINCULOS_CLT', 'NR_QTD_VINCULOS_CLT', 'int'],\n",
      "  ['QTD_VINCULOS_ATIVOS', 'NR_QTD_VINCULOS_ATIVOS', 'int'],\n",
      "  ['QTD_VINCULOS_ESTATUTARIOS', 'NR_QTD_VINCULOS_ESTATUTARIOS', 'int'],\n",
      "  ['IND_CEI_VINCULADO', 'FL_IND_CEI_VINCULADO', 'boolean'],\n",
      "  ['IND_ESTAB_PARTICIPA_PAT', 'FL_IND_ESTAB_PARTICIPA_PAT', 'boolean'],\n",
      "  ['IND_RAIS_NEGATIVA', 'FL_IND_RAIS_NEGATIVA', 'boolean'],\n",
      "  ['IND_SIMPLES', 'FL_IND_SIMPLES', 'boolean'],\n",
      "  ['MUNICIPIO', 'CD_MUNICIPIO', 'string'],\n",
      "  ['NATUREZA_JURIDICA', 'CD_NATUREZA_JURIDICA', 'string'],\n",
      "  ['TAMANHO_ESTABELECIMENTO', 'CD_TAMANHO_ESTABELECIMENTO', 'string'],\n",
      "  ['TAMANHO_ESTABELECIMENTO', 'DS_TAMANHO_ESTABELECIMENTO', 'string'],\n",
      "  ['TIPO_ESTAB', 'CD_TIPO_ESTAB', 'string'],\n",
      "  ['TIPO_ESTAB_1', 'DS_TIPO_ESTAB', 'string'],\n",
      "  ['IND_ATIVIDADE_ANO', 'CD_IND_ATIVIDADE_ANO', 'string'],\n",
      "  ['CNAE_95_CLASSE', 'CD_CNAE10_CLASSE', 'string'],\n",
      "  ['CNAE_2_0_CLASSE', 'CD_CNAE20_CLASSE', 'string'],\n",
      "  ['CNAE_2_0_SUBCLASSE', 'CD_CNAE20_SUBCLASSE', 'string'],\n",
      "  ['UF', 'CD_UF', 'string'],\n",
      "  ['UF', 'SG_UF', 'string'],\n",
      "  ['IBGE_SUBSETOR', 'CD_IBGE_SUBSETOR', 'string'],\n",
      "  ['CEP_ESTAB', 'CD_CEP_ESTAB', 'string']]}"
     ]
    }
   ],
   "source": [
    "var_prm_dict"
   ]
  },
  {
   "cell_type": "code",
   "execution_count": 0,
   "metadata": {
    "application/vnd.databricks.v1+cell": {
     "cellMetadata": {
      "byteLimit": 2048000,
      "rowLimit": 10000
     },
     "inputWidgets": {},
     "nuid": "29b66c2a-50c3-48a8-a22f-295fec7e1762",
     "showTitle": false,
     "title": ""
    }
   },
   "outputs": [],
   "source": [
    "def __transform_columns(var_prm_dict__sheet_name: dict):\n",
    "  for org, dst, _type in var_prm_dict__sheet_name:\n",
    "    if org == 'N/A':\n",
    "      yield f.lit(None).cast(_type).alias(dst)\n",
    "    else:\n",
    "      yield f.col(org).cast(_type).alias(dst)"
   ]
  },
  {
   "cell_type": "code",
   "execution_count": 0,
   "metadata": {
    "application/vnd.databricks.v1+cell": {
     "cellMetadata": {
      "byteLimit": 2048000,
      "rowLimit": 10000
     },
     "inputWidgets": {},
     "nuid": "46b12672-4f9d-4452-870d-81b6e539756a",
     "showTitle": false,
     "title": ""
    }
   },
   "outputs": [],
   "source": [
    "df = spark.read.parquet(adl_raw)"
   ]
  },
  {
   "cell_type": "code",
   "execution_count": 0,
   "metadata": {
    "application/vnd.databricks.v1+cell": {
     "cellMetadata": {
      "byteLimit": 2048000,
      "rowLimit": 10000
     },
     "inputWidgets": {},
     "nuid": "9b1a7ae8-62d9-4d18-b87b-7fc6c9c5da54",
     "showTitle": false,
     "title": ""
    }
   },
   "outputs": [],
   "source": [
    "# sheet_name = table['table'].upper()\n",
    "sheet_name = 'RAIS_PUBLICA_ESTABELECIMENTO'"
   ]
  },
  {
   "cell_type": "code",
   "execution_count": 0,
   "metadata": {
    "application/vnd.databricks.v1+cell": {
     "cellMetadata": {
      "byteLimit": 2048000,
      "rowLimit": 10000
     },
     "inputWidgets": {},
     "nuid": "1e50cc84-3603-49c9-8cfb-ba3d7d61b4ec",
     "showTitle": false,
     "title": ""
    }
   },
   "outputs": [],
   "source": [
    "# Limpar espaços extras nas colunas do tipo string:\n",
    "for column in df.columns:\n",
    "  if df.select(column).dtypes[0][1] == 'string':\n",
    "    df = df.withColumn(column, f.trim(f.col(column)))\n",
    "\n",
    "# Replace empty strings with null values:\n",
    "df = df.replace('', None)"
   ]
  },
  {
   "cell_type": "code",
   "execution_count": 0,
   "metadata": {
    "application/vnd.databricks.v1+cell": {
     "cellMetadata": {
      "byteLimit": 2048000,
      "rowLimit": 10000
     },
     "inputWidgets": {},
     "nuid": "38f13bc2-7dfe-429f-848b-cb1e02305621",
     "showTitle": false,
     "title": ""
    }
   },
   "outputs": [],
   "source": [
    "# Replace \"{ñ class}\" and variations with null values:\n",
    "values_to_replace = [\n",
    "  '{ñ class}',\n",
    "  '{ñ class',#\n",
    "  '{ñ clas',\n",
    "  '{ñ cla',#\n",
    "  '{ñ cl',\n",
    "  '{ñ c',\n",
    "  '{ñ'\n",
    "]\n",
    "for value in values_to_replace:\n",
    "  df = df.replace(value, None)"
   ]
  },
  {
   "cell_type": "code",
   "execution_count": 0,
   "metadata": {
    "application/vnd.databricks.v1+cell": {
     "cellMetadata": {
      "byteLimit": 2048000,
      "rowLimit": 10000
     },
     "inputWidgets": {},
     "nuid": "69220502-3269-4ca9-8dcf-cdabdaad0cf4",
     "showTitle": false,
     "title": ""
    }
   },
   "outputs": [
    {
     "name": "stdout",
     "output_type": "stream",
     "text": [
      "Out[81]: ['nm_arq_in',\n",
      " 'ID_CEI_VINCULADO',\n",
      " 'ID_CEPAO_ESTAB',\n",
      " 'CD_CNAE10_CLASSE',\n",
      " 'ID_CNPJ_CEI',\n",
      " 'ID_CNPJ_RAIZ',\n",
      " 'DT_ABERTURA',\n",
      " 'DT_BAIXA',\n",
      " 'DT_ENCERRAMENTO',\n",
      " 'NM_EMAIL',\n",
      " 'FL_IND_CEI_VINCULADO',\n",
      " 'FL_IND_ESTAB_PARTICIPA_PAT',\n",
      " 'FL_IND_RAIS_NEGAT',\n",
      " 'FL_IND_SIMPLES',\n",
      " 'CD_MUNICIPIO',\n",
      " 'CD_NATUREZA_JURIDICA',\n",
      " 'NM_LOGRADOURO',\n",
      " 'NR_LOGRADOURO',\n",
      " 'NM_BAIRRO',\n",
      " 'NR_TELEFONE_EMPRE',\n",
      " 'QT_VINC_ATIV',\n",
      " 'QT_VINC_CLT',\n",
      " 'QT_VINC_ESTAT',\n",
      " 'ID_RAZAO_SOCIAL',\n",
      " 'CD_TAMANHO_ESTABELECIMENTO',\n",
      " 'CD_TIPO_ESTAB_ID',\n",
      " 'CD_IBGE_SUBSETOR',\n",
      " 'FL_IND_ATIV_ANO',\n",
      " 'CD_CNAE20_CLASSE',\n",
      " 'CD_CNAE20_SUBCLASSE',\n",
      " 'CD_UF',\n",
      " 'nr_reg',\n",
      " 'dh_insercao_raw',\n",
      " 'dh_arq_in',\n",
      " 'ANO']"
     ]
    }
   ],
   "source": [
    "df.columns"
   ]
  },
  {
   "cell_type": "code",
   "execution_count": 0,
   "metadata": {
    "application/vnd.databricks.v1+cell": {
     "cellMetadata": {
      "byteLimit": 2048000,
      "rowLimit": 10000
     },
     "inputWidgets": {},
     "nuid": "cdba1d05-992e-403c-a7a9-5171a7b3378d",
     "showTitle": false,
     "title": ""
    }
   },
   "outputs": [
    {
     "data": {
      "text/plain": [
       "\u001b[0;31m---------------------------------------------------------------------------\u001b[0m\n",
       "\u001b[0;31mAnalysisException\u001b[0m                         Traceback (most recent call last)\n",
       "File \u001b[0;32m<command-2780836098773537>:2\u001b[0m\n",
       "\u001b[1;32m      1\u001b[0m cf\u001b[38;5;241m.\u001b[39mcheck_ba_doc(df, parse_ba\u001b[38;5;241m=\u001b[39mvar_prm_dict, sheet\u001b[38;5;241m=\u001b[39msheet_name)\n",
       "\u001b[0;32m----> 2\u001b[0m df \u001b[38;5;241m=\u001b[39m df\u001b[38;5;241m.\u001b[39mselect(\u001b[38;5;241m*\u001b[39m__transform_columns(var_prm_dict[sheet_name]))\n",
       "\n",
       "File \u001b[0;32m/databricks/spark/python/pyspark/instrumentation_utils.py:48\u001b[0m, in \u001b[0;36m_wrap_function.<locals>.wrapper\u001b[0;34m(*args, **kwargs)\u001b[0m\n",
       "\u001b[1;32m     46\u001b[0m start \u001b[38;5;241m=\u001b[39m time\u001b[38;5;241m.\u001b[39mperf_counter()\n",
       "\u001b[1;32m     47\u001b[0m \u001b[38;5;28;01mtry\u001b[39;00m:\n",
       "\u001b[0;32m---> 48\u001b[0m     res \u001b[38;5;241m=\u001b[39m \u001b[43mfunc\u001b[49m\u001b[43m(\u001b[49m\u001b[38;5;241;43m*\u001b[39;49m\u001b[43margs\u001b[49m\u001b[43m,\u001b[49m\u001b[43m \u001b[49m\u001b[38;5;241;43m*\u001b[39;49m\u001b[38;5;241;43m*\u001b[39;49m\u001b[43mkwargs\u001b[49m\u001b[43m)\u001b[49m\n",
       "\u001b[1;32m     49\u001b[0m     logger\u001b[38;5;241m.\u001b[39mlog_success(\n",
       "\u001b[1;32m     50\u001b[0m         module_name, class_name, function_name, time\u001b[38;5;241m.\u001b[39mperf_counter() \u001b[38;5;241m-\u001b[39m start, signature\n",
       "\u001b[1;32m     51\u001b[0m     )\n",
       "\u001b[1;32m     52\u001b[0m     \u001b[38;5;28;01mreturn\u001b[39;00m res\n",
       "\n",
       "File \u001b[0;32m/databricks/spark/python/pyspark/sql/dataframe.py:3023\u001b[0m, in \u001b[0;36mDataFrame.select\u001b[0;34m(self, *cols)\u001b[0m\n",
       "\u001b[1;32m   2978\u001b[0m \u001b[38;5;28;01mdef\u001b[39;00m \u001b[38;5;21mselect\u001b[39m(\u001b[38;5;28mself\u001b[39m, \u001b[38;5;241m*\u001b[39mcols: \u001b[38;5;124m\"\u001b[39m\u001b[38;5;124mColumnOrName\u001b[39m\u001b[38;5;124m\"\u001b[39m) \u001b[38;5;241m-\u001b[39m\u001b[38;5;241m>\u001b[39m \u001b[38;5;124m\"\u001b[39m\u001b[38;5;124mDataFrame\u001b[39m\u001b[38;5;124m\"\u001b[39m:  \u001b[38;5;66;03m# type: ignore[misc]\u001b[39;00m\n",
       "\u001b[1;32m   2979\u001b[0m \u001b[38;5;250m    \u001b[39m\u001b[38;5;124;03m\"\"\"Projects a set of expressions and returns a new :class:`DataFrame`.\u001b[39;00m\n",
       "\u001b[1;32m   2980\u001b[0m \n",
       "\u001b[1;32m   2981\u001b[0m \u001b[38;5;124;03m    .. versionadded:: 1.3.0\u001b[39;00m\n",
       "\u001b[0;32m   (...)\u001b[0m\n",
       "\u001b[1;32m   3021\u001b[0m \u001b[38;5;124;03m    +-----+---+\u001b[39;00m\n",
       "\u001b[1;32m   3022\u001b[0m \u001b[38;5;124;03m    \"\"\"\u001b[39;00m\n",
       "\u001b[0;32m-> 3023\u001b[0m     jdf \u001b[38;5;241m=\u001b[39m \u001b[38;5;28;43mself\u001b[39;49m\u001b[38;5;241;43m.\u001b[39;49m\u001b[43m_jdf\u001b[49m\u001b[38;5;241;43m.\u001b[39;49m\u001b[43mselect\u001b[49m\u001b[43m(\u001b[49m\u001b[38;5;28;43mself\u001b[39;49m\u001b[38;5;241;43m.\u001b[39;49m\u001b[43m_jcols\u001b[49m\u001b[43m(\u001b[49m\u001b[38;5;241;43m*\u001b[39;49m\u001b[43mcols\u001b[49m\u001b[43m)\u001b[49m\u001b[43m)\u001b[49m\n",
       "\u001b[1;32m   3024\u001b[0m     \u001b[38;5;28;01mreturn\u001b[39;00m DataFrame(jdf, \u001b[38;5;28mself\u001b[39m\u001b[38;5;241m.\u001b[39msparkSession)\n",
       "\n",
       "File \u001b[0;32m/databricks/spark/python/lib/py4j-0.10.9.5-src.zip/py4j/java_gateway.py:1321\u001b[0m, in \u001b[0;36mJavaMember.__call__\u001b[0;34m(self, *args)\u001b[0m\n",
       "\u001b[1;32m   1315\u001b[0m command \u001b[38;5;241m=\u001b[39m proto\u001b[38;5;241m.\u001b[39mCALL_COMMAND_NAME \u001b[38;5;241m+\u001b[39m\\\n",
       "\u001b[1;32m   1316\u001b[0m     \u001b[38;5;28mself\u001b[39m\u001b[38;5;241m.\u001b[39mcommand_header \u001b[38;5;241m+\u001b[39m\\\n",
       "\u001b[1;32m   1317\u001b[0m     args_command \u001b[38;5;241m+\u001b[39m\\\n",
       "\u001b[1;32m   1318\u001b[0m     proto\u001b[38;5;241m.\u001b[39mEND_COMMAND_PART\n",
       "\u001b[1;32m   1320\u001b[0m answer \u001b[38;5;241m=\u001b[39m \u001b[38;5;28mself\u001b[39m\u001b[38;5;241m.\u001b[39mgateway_client\u001b[38;5;241m.\u001b[39msend_command(command)\n",
       "\u001b[0;32m-> 1321\u001b[0m return_value \u001b[38;5;241m=\u001b[39m \u001b[43mget_return_value\u001b[49m\u001b[43m(\u001b[49m\n",
       "\u001b[1;32m   1322\u001b[0m \u001b[43m    \u001b[49m\u001b[43manswer\u001b[49m\u001b[43m,\u001b[49m\u001b[43m \u001b[49m\u001b[38;5;28;43mself\u001b[39;49m\u001b[38;5;241;43m.\u001b[39;49m\u001b[43mgateway_client\u001b[49m\u001b[43m,\u001b[49m\u001b[43m \u001b[49m\u001b[38;5;28;43mself\u001b[39;49m\u001b[38;5;241;43m.\u001b[39;49m\u001b[43mtarget_id\u001b[49m\u001b[43m,\u001b[49m\u001b[43m \u001b[49m\u001b[38;5;28;43mself\u001b[39;49m\u001b[38;5;241;43m.\u001b[39;49m\u001b[43mname\u001b[49m\u001b[43m)\u001b[49m\n",
       "\u001b[1;32m   1324\u001b[0m \u001b[38;5;28;01mfor\u001b[39;00m temp_arg \u001b[38;5;129;01min\u001b[39;00m temp_args:\n",
       "\u001b[1;32m   1325\u001b[0m     temp_arg\u001b[38;5;241m.\u001b[39m_detach()\n",
       "\n",
       "File \u001b[0;32m/databricks/spark/python/pyspark/errors/exceptions.py:234\u001b[0m, in \u001b[0;36mcapture_sql_exception.<locals>.deco\u001b[0;34m(*a, **kw)\u001b[0m\n",
       "\u001b[1;32m    230\u001b[0m converted \u001b[38;5;241m=\u001b[39m convert_exception(e\u001b[38;5;241m.\u001b[39mjava_exception)\n",
       "\u001b[1;32m    231\u001b[0m \u001b[38;5;28;01mif\u001b[39;00m \u001b[38;5;129;01mnot\u001b[39;00m \u001b[38;5;28misinstance\u001b[39m(converted, UnknownException):\n",
       "\u001b[1;32m    232\u001b[0m     \u001b[38;5;66;03m# Hide where the exception came from that shows a non-Pythonic\u001b[39;00m\n",
       "\u001b[1;32m    233\u001b[0m     \u001b[38;5;66;03m# JVM exception message.\u001b[39;00m\n",
       "\u001b[0;32m--> 234\u001b[0m     \u001b[38;5;28;01mraise\u001b[39;00m converted \u001b[38;5;28;01mfrom\u001b[39;00m \u001b[38;5;28;01mNone\u001b[39;00m\n",
       "\u001b[1;32m    235\u001b[0m \u001b[38;5;28;01melse\u001b[39;00m:\n",
       "\u001b[1;32m    236\u001b[0m     \u001b[38;5;28;01mraise\u001b[39;00m\n",
       "\n",
       "\u001b[0;31mAnalysisException\u001b[0m: [UNRESOLVED_COLUMN.WITH_SUGGESTION] A column or function parameter with name `BAIRROS_SP` cannot be resolved. Did you mean one of the following? [`NM_BAIRRO`, `ANO`, `CD_UF`, `dh_arq_in`, `nm_arq_in`].;\n",
       "'Project [cast(ANO#205628 as smallint) AS NR_ANO#212858, cast('BAIRROS_SP as string) AS CD_BAIRROS_SP#212859, cast('BAIRROS_FORTALEZA as string) AS CD_BAIRROS_FORTALEZA#212860, cast('BAIRROS_RJ as string) AS CD_BAIRROS_RJ#212861, cast('DISTRITOS_SP as string) AS CD_DISTRITOS_SP#212862, cast('REGIOES_ADM_DF as string) AS CD_REGIOES_ADM_DF#212863, cast('QTD_VINCULOS_CLT as int) AS NR_QTD_VINCULOS_CLT#212864, cast('QTD_VINCULOS_ATIVOS as int) AS NR_QTD_VINCULOS_ATIVOS#212865, cast('QTD_VINCULOS_ESTATUTARIOS as int) AS NR_QTD_VINCULOS_ESTATUTARIOS#212866, cast('IND_CEI_VINCULADO as boolean) AS FL_IND_CEI_VINCULADO#212867, cast('IND_ESTAB_PARTICIPA_PAT as boolean) AS FL_IND_ESTAB_PARTICIPA_PAT#212868, cast('IND_RAIS_NEGATIVA as boolean) AS FL_IND_RAIS_NEGATIVA#212869, cast('IND_SIMPLES as boolean) AS FL_IND_SIMPLES#212870, cast('MUNICIPIO as string) AS CD_MUNICIPIO#212871, cast('NATUREZA_JURIDICA as string) AS CD_NATUREZA_JURIDICA#212872, cast('TAMANHO_ESTABELECIMENTO as string) AS CD_TAMANHO_ESTABELECIMENTO#212873, cast('TAMANHO_ESTABELECIMENTO as string) AS DS_TAMANHO_ESTABELECIMENTO#212874, cast('TIPO_ESTAB as string) AS CD_TIPO_ESTAB#212875, cast('TIPO_ESTAB_1 as string) AS DS_TIPO_ESTAB#212876, cast('IND_ATIVIDADE_ANO as string) AS CD_IND_ATIVIDADE_ANO#212877, cast('CNAE_95_CLASSE as string) AS CD_CNAE10_CLASSE#212878, cast('CNAE_2_0_CLASSE as string) AS CD_CNAE20_CLASSE#212879, cast('CNAE_2_0_SUBCLASSE as string) AS CD_CNAE20_SUBCLASSE#212880, cast('UF as string) AS CD_UF#212881, ... 3 more fields]\n",
       "+- Project [CASE WHEN (nm_arq_in#212571 = {ñ) THEN cast(null as string) ELSE nm_arq_in#212571 END AS nm_arq_in#212648, ID_CEI_VINCULADO#205595L, ID_CEPAO_ESTAB#205596, CD_CNAE10_CLASSE#205597, CASE WHEN (ID_CNPJ_CEI#212572 = {ñ) THEN cast(null as string) ELSE ID_CNPJ_CEI#212572 END AS ID_CNPJ_CEI#212649, CASE WHEN (ID_CNPJ_RAIZ#212573 = {ñ) THEN cast(null as string) ELSE ID_CNPJ_RAIZ#212573 END AS ID_CNPJ_RAIZ#212650, DT_ABERTURA#205600, DT_BAIXA#205601, DT_ENCERRAMENTO#205602, CASE WHEN (NM_EMAIL#212574 = {ñ) THEN cast(null as string) ELSE NM_EMAIL#212574 END AS NM_EMAIL#212651, FL_IND_CEI_VINCULADO#205604, FL_IND_ESTAB_PARTICIPA_PAT#205605, FL_IND_RAIS_NEGAT#205606, FL_IND_SIMPLES#205607, CD_MUNICIPIO#205608, CD_NATUREZA_JURIDICA#205609, CASE WHEN (NM_LOGRADOURO#212575 = {ñ) THEN cast(null as string) ELSE NM_LOGRADOURO#212575 END AS NM_LOGRADOURO#212652, NR_LOGRADOURO#205611, CASE WHEN (NM_BAIRRO#212576 = {ñ) THEN cast(null as string) ELSE NM_BAIRRO#212576 END AS NM_BAIRRO#212653, NR_TELEFONE_EMPRE#205613L, QT_VINC_ATIV#205614, QT_VINC_CLT#205615, QT_VINC_ESTAT#205616, CASE WHEN (ID_RAZAO_SOCIAL#212577 = {ñ) THEN cast(null as string) ELSE ID_RAZAO_SOCIAL#212577 END AS ID_RAZAO_SOCIAL#212654, ... 11 more fields]\n",
       "   +- Project [CASE WHEN (nm_arq_in#212494 = {ñ c) THEN cast(null as string) ELSE nm_arq_in#212494 END AS nm_arq_in#212571, ID_CEI_VINCULADO#205595L, ID_CEPAO_ESTAB#205596, CD_CNAE10_CLASSE#205597, CASE WHEN (ID_CNPJ_CEI#212495 = {ñ c) THEN cast(null as string) ELSE ID_CNPJ_CEI#212495 END AS ID_CNPJ_CEI#212572, CASE WHEN (ID_CNPJ_RAIZ#212496 = {ñ c) THEN cast(null as string) ELSE ID_CNPJ_RAIZ#212496 END AS ID_CNPJ_RAIZ#212573, DT_ABERTURA#205600, DT_BAIXA#205601, DT_ENCERRAMENTO#205602, CASE WHEN (NM_EMAIL#212497 = {ñ c) THEN cast(null as string) ELSE NM_EMAIL#212497 END AS NM_EMAIL#212574, FL_IND_CEI_VINCULADO#205604, FL_IND_ESTAB_PARTICIPA_PAT#205605, FL_IND_RAIS_NEGAT#205606, FL_IND_SIMPLES#205607, CD_MUNICIPIO#205608, CD_NATUREZA_JURIDICA#205609, CASE WHEN (NM_LOGRADOURO#212498 = {ñ c) THEN cast(null as string) ELSE NM_LOGRADOURO#212498 END AS NM_LOGRADOURO#212575, NR_LOGRADOURO#205611, CASE WHEN (NM_BAIRRO#212499 = {ñ c) THEN cast(null as string) ELSE NM_BAIRRO#212499 END AS NM_BAIRRO#212576, NR_TELEFONE_EMPRE#205613L, QT_VINC_ATIV#205614, QT_VINC_CLT#205615, QT_VINC_ESTAT#205616, CASE WHEN (ID_RAZAO_SOCIAL#212500 = {ñ c) THEN cast(null as string) ELSE ID_RAZAO_SOCIAL#212500 END AS ID_RAZAO_SOCIAL#212577, ... 11 more fields]\n",
       "      +- Project [CASE WHEN (nm_arq_in#212417 = {ñ cl) THEN cast(null as string) ELSE nm_arq_in#212417 END AS nm_arq_in#212494, ID_CEI_VINCULADO#205595L, ID_CEPAO_ESTAB#205596, CD_CNAE10_CLASSE#205597, CASE WHEN (ID_CNPJ_CEI#212418 = {ñ cl) THEN cast(null as string) ELSE ID_CNPJ_CEI#212418 END AS ID_CNPJ_CEI#212495, CASE WHEN (ID_CNPJ_RAIZ#212419 = {ñ cl) THEN cast(null as string) ELSE ID_CNPJ_RAIZ#212419 END AS ID_CNPJ_RAIZ#212496, DT_ABERTURA#205600, DT_BAIXA#205601, DT_ENCERRAMENTO#205602, CASE WHEN (NM_EMAIL#212420 = {ñ cl) THEN cast(null as string) ELSE NM_EMAIL#212420 END AS NM_EMAIL#212497, FL_IND_CEI_VINCULADO#205604, FL_IND_ESTAB_PARTICIPA_PAT#205605, FL_IND_RAIS_NEGAT#205606, FL_IND_SIMPLES#205607, CD_MUNICIPIO#205608, CD_NATUREZA_JURIDICA#205609, CASE WHEN (NM_LOGRADOURO#212421 = {ñ cl) THEN cast(null as string) ELSE NM_LOGRADOURO#212421 END AS NM_LOGRADOURO#212498, NR_LOGRADOURO#205611, CASE WHEN (NM_BAIRRO#212422 = {ñ cl) THEN cast(null as string) ELSE NM_BAIRRO#212422 END AS NM_BAIRRO#212499, NR_TELEFONE_EMPRE#205613L, QT_VINC_ATIV#205614, QT_VINC_CLT#205615, QT_VINC_ESTAT#205616, CASE WHEN (ID_RAZAO_SOCIAL#212423 = {ñ cl) THEN cast(null as string) ELSE ID_RAZAO_SOCIAL#212423 END AS ID_RAZAO_SOCIAL#212500, ... 11 more fields]\n",
       "         +- Project [CASE WHEN (nm_arq_in#212340 = {ñ cla) THEN cast(null as string) ELSE nm_arq_in#212340 END AS nm_arq_in#212417, ID_CEI_VINCULADO#205595L, ID_CEPAO_ESTAB#205596, CD_CNAE10_CLASSE#205597, CASE WHEN (ID_CNPJ_CEI#212341 = {ñ cla) THEN cast(null as string) ELSE ID_CNPJ_CEI#212341 END AS ID_CNPJ_CEI#212418, CASE WHEN (ID_CNPJ_RAIZ#212342 = {ñ cla) THEN cast(null as string) ELSE ID_CNPJ_RAIZ#212342 END AS ID_CNPJ_RAIZ#212419, DT_ABERTURA#205600, DT_BAIXA#205601, DT_ENCERRAMENTO#205602, CASE WHEN (NM_EMAIL#212343 = {ñ cla) THEN cast(null as string) ELSE NM_EMAIL#212343 END AS NM_EMAIL#212420, FL_IND_CEI_VINCULADO#205604, FL_IND_ESTAB_PARTICIPA_PAT#205605, FL_IND_RAIS_NEGAT#205606, FL_IND_SIMPLES#205607, CD_MUNICIPIO#205608, CD_NATUREZA_JURIDICA#205609, CASE WHEN (NM_LOGRADOURO#212344 = {ñ cla) THEN cast(null as string) ELSE NM_LOGRADOURO#212344 END AS NM_LOGRADOURO#212421, NR_LOGRADOURO#205611, CASE WHEN (NM_BAIRRO#212345 = {ñ cla) THEN cast(null as string) ELSE NM_BAIRRO#212345 END AS NM_BAIRRO#212422, NR_TELEFONE_EMPRE#205613L, QT_VINC_ATIV#205614, QT_VINC_CLT#205615, QT_VINC_ESTAT#205616, CASE WHEN (ID_RAZAO_SOCIAL#212346 = {ñ cla) THEN cast(null as string) ELSE ID_RAZAO_SOCIAL#212346 END AS ID_RAZAO_SOCIAL#212423, ... 11 more fields]\n",
       "            +- Project [CASE WHEN (nm_arq_in#212263 = {ñ clas) THEN cast(null as string) ELSE nm_arq_in#212263 END AS nm_arq_in#212340, ID_CEI_VINCULADO#205595L, ID_CEPAO_ESTAB#205596, CD_CNAE10_CLASSE#205597, CASE WHEN (ID_CNPJ_CEI#212264 = {ñ clas) THEN cast(null as string) ELSE ID_CNPJ_CEI#212264 END AS ID_CNPJ_CEI#212341, CASE WHEN (ID_CNPJ_RAIZ#212265 = {ñ clas) THEN cast(null as string) ELSE ID_CNPJ_RAIZ#212265 END AS ID_CNPJ_RAIZ#212342, DT_ABERTURA#205600, DT_BAIXA#205601, DT_ENCERRAMENTO#205602, CASE WHEN (NM_EMAIL#212266 = {ñ clas) THEN cast(null as string) ELSE NM_EMAIL#212266 END AS NM_EMAIL#212343, FL_IND_CEI_VINCULADO#205604, FL_IND_ESTAB_PARTICIPA_PAT#205605, FL_IND_RAIS_NEGAT#205606, FL_IND_SIMPLES#205607, CD_MUNICIPIO#205608, CD_NATUREZA_JURIDICA#205609, CASE WHEN (NM_LOGRADOURO#212267 = {ñ clas) THEN cast(null as string) ELSE NM_LOGRADOURO#212267 END AS NM_LOGRADOURO#212344, NR_LOGRADOURO#205611, CASE WHEN (NM_BAIRRO#212268 = {ñ clas) THEN cast(null as string) ELSE NM_BAIRRO#212268 END AS NM_BAIRRO#212345, NR_TELEFONE_EMPRE#205613L, QT_VINC_ATIV#205614, QT_VINC_CLT#205615, QT_VINC_ESTAT#205616, CASE WHEN (ID_RAZAO_SOCIAL#212269 = {ñ clas) THEN cast(null as string) ELSE ID_RAZAO_SOCIAL#212269 END AS ID_RAZAO_SOCIAL#212346, ... 11 more fields]\n",
       "               +- Project [CASE WHEN (nm_arq_in#212186 = {ñ class) THEN cast(null as string) ELSE nm_arq_in#212186 END AS nm_arq_in#212263, ID_CEI_VINCULADO#205595L, ID_CEPAO_ESTAB#205596, CD_CNAE10_CLASSE#205597, CASE WHEN (ID_CNPJ_CEI#212187 = {ñ class) THEN cast(null as string) ELSE ID_CNPJ_CEI#212187 END AS ID_CNPJ_CEI#212264, CASE WHEN (ID_CNPJ_RAIZ#212188 = {ñ class) THEN cast(null as string) ELSE ID_CNPJ_RAIZ#212188 END AS ID_CNPJ_RAIZ#212265, DT_ABERTURA#205600, DT_BAIXA#205601, DT_ENCERRAMENTO#205602, CASE WHEN (NM_EMAIL#212189 = {ñ class) THEN cast(null as string) ELSE NM_EMAIL#212189 END AS NM_EMAIL#212266, FL_IND_CEI_VINCULADO#205604, FL_IND_ESTAB_PARTICIPA_PAT#205605, FL_IND_RAIS_NEGAT#205606, FL_IND_SIMPLES#205607, CD_MUNICIPIO#205608, CD_NATUREZA_JURIDICA#205609, CASE WHEN (NM_LOGRADOURO#212190 = {ñ class) THEN cast(null as string) ELSE NM_LOGRADOURO#212190 END AS NM_LOGRADOURO#212267, NR_LOGRADOURO#205611, CASE WHEN (NM_BAIRRO#212191 = {ñ class) THEN cast(null as string) ELSE NM_BAIRRO#212191 END AS NM_BAIRRO#212268, NR_TELEFONE_EMPRE#205613L, QT_VINC_ATIV#205614, QT_VINC_CLT#205615, QT_VINC_ESTAT#205616, CASE WHEN (ID_RAZAO_SOCIAL#212192 = {ñ class) THEN cast(null as string) ELSE ID_RAZAO_SOCIAL#212192 END AS ID_RAZAO_SOCIAL#212269, ... 11 more fields]\n",
       "                  +- Project [CASE WHEN (nm_arq_in#212093 = {ñ class}) THEN cast(null as string) ELSE nm_arq_in#212093 END AS nm_arq_in#212186, ID_CEI_VINCULADO#205595L, ID_CEPAO_ESTAB#205596, CD_CNAE10_CLASSE#205597, CASE WHEN (ID_CNPJ_CEI#212094 = {ñ class}) THEN cast(null as string) ELSE ID_CNPJ_CEI#212094 END AS ID_CNPJ_CEI#212187, CASE WHEN (ID_CNPJ_RAIZ#212095 = {ñ class}) THEN cast(null as string) ELSE ID_CNPJ_RAIZ#212095 END AS ID_CNPJ_RAIZ#212188, DT_ABERTURA#205600, DT_BAIXA#205601, DT_ENCERRAMENTO#205602, CASE WHEN (NM_EMAIL#212096 = {ñ class}) THEN cast(null as string) ELSE NM_EMAIL#212096 END AS NM_EMAIL#212189, FL_IND_CEI_VINCULADO#205604, FL_IND_ESTAB_PARTICIPA_PAT#205605, FL_IND_RAIS_NEGAT#205606, FL_IND_SIMPLES#205607, CD_MUNICIPIO#205608, CD_NATUREZA_JURIDICA#205609, CASE WHEN (NM_LOGRADOURO#212097 = {ñ class}) THEN cast(null as string) ELSE NM_LOGRADOURO#212097 END AS NM_LOGRADOURO#212190, NR_LOGRADOURO#205611, CASE WHEN (NM_BAIRRO#212098 = {ñ class}) THEN cast(null as string) ELSE NM_BAIRRO#212098 END AS NM_BAIRRO#212191, NR_TELEFONE_EMPRE#205613L, QT_VINC_ATIV#205614, QT_VINC_CLT#205615, QT_VINC_ESTAT#205616, CASE WHEN (ID_RAZAO_SOCIAL#212099 = {ñ class}) THEN cast(null as string) ELSE ID_RAZAO_SOCIAL#212099 END AS ID_RAZAO_SOCIAL#212192, ... 11 more fields]\n",
       "                     +- Project [CASE WHEN (nm_arq_in#211772 = ) THEN cast(null as string) ELSE nm_arq_in#211772 END AS nm_arq_in#212093, ID_CEI_VINCULADO#205595L, ID_CEPAO_ESTAB#205596, CD_CNAE10_CLASSE#205597, CASE WHEN (ID_CNPJ_CEI#211812 = ) THEN cast(null as string) ELSE ID_CNPJ_CEI#211812 END AS ID_CNPJ_CEI#212094, CASE WHEN (ID_CNPJ_RAIZ#211849 = ) THEN cast(null as string) ELSE ID_CNPJ_RAIZ#211849 END AS ID_CNPJ_RAIZ#212095, DT_ABERTURA#205600, DT_BAIXA#205601, DT_ENCERRAMENTO#205602, CASE WHEN (NM_EMAIL#211889 = ) THEN cast(null as string) ELSE NM_EMAIL#211889 END AS NM_EMAIL#212096, FL_IND_CEI_VINCULADO#205604, FL_IND_ESTAB_PARTICIPA_PAT#205605, FL_IND_RAIS_NEGAT#205606, FL_IND_SIMPLES#205607, CD_MUNICIPIO#205608, CD_NATUREZA_JURIDICA#205609, CASE WHEN (NM_LOGRADOURO#211932 = ) THEN cast(null as string) ELSE NM_LOGRADOURO#211932 END AS NM_LOGRADOURO#212097, NR_LOGRADOURO#205611, CASE WHEN (NM_BAIRRO#211970 = ) THEN cast(null as string) ELSE NM_BAIRRO#211970 END AS NM_BAIRRO#212098, NR_TELEFONE_EMPRE#205613L, QT_VINC_ATIV#205614, QT_VINC_CLT#205615, QT_VINC_ESTAT#205616, CASE WHEN (ID_RAZAO_SOCIAL#212011 = ) THEN cast(null as string) ELSE ID_RAZAO_SOCIAL#212011 END AS ID_RAZAO_SOCIAL#212099, ... 11 more fields]\n",
       "                        +- Project [nm_arq_in#211772, ID_CEI_VINCULADO#205595L, ID_CEPAO_ESTAB#205596, CD_CNAE10_CLASSE#205597, ID_CNPJ_CEI#211812, ID_CNPJ_RAIZ#211849, DT_ABERTURA#205600, DT_BAIXA#205601, DT_ENCERRAMENTO#205602, NM_EMAIL#211889, FL_IND_CEI_VINCULADO#205604, FL_IND_ESTAB_PARTICIPA_PAT#205605, FL_IND_RAIS_NEGAT#205606, FL_IND_SIMPLES#205607, CD_MUNICIPIO#205608, CD_NATUREZA_JURIDICA#205609, NM_LOGRADOURO#211932, NR_LOGRADOURO#205611, NM_BAIRRO#211970, NR_TELEFONE_EMPRE#205613L, QT_VINC_ATIV#205614, QT_VINC_CLT#205615, QT_VINC_ESTAT#205616, trim(ID_RAZAO_SOCIAL#205617, None) AS ID_RAZAO_SOCIAL#212011, ... 11 more fields]\n",
       "                           +- Project [nm_arq_in#211772, ID_CEI_VINCULADO#205595L, ID_CEPAO_ESTAB#205596, CD_CNAE10_CLASSE#205597, ID_CNPJ_CEI#211812, ID_CNPJ_RAIZ#211849, DT_ABERTURA#205600, DT_BAIXA#205601, DT_ENCERRAMENTO#205602, NM_EMAIL#211889, FL_IND_CEI_VINCULADO#205604, FL_IND_ESTAB_PARTICIPA_PAT#205605, FL_IND_RAIS_NEGAT#205606, FL_IND_SIMPLES#205607, CD_MUNICIPIO#205608, CD_NATUREZA_JURIDICA#205609, NM_LOGRADOURO#211932, NR_LOGRADOURO#205611, trim(NM_BAIRRO#205612, None) AS NM_BAIRRO#211970, NR_TELEFONE_EMPRE#205613L, QT_VINC_ATIV#205614, QT_VINC_CLT#205615, QT_VINC_ESTAT#205616, ID_RAZAO_SOCIAL#205617, ... 11 more fields]\n",
       "                              +- Project [nm_arq_in#211772, ID_CEI_VINCULADO#205595L, ID_CEPAO_ESTAB#205596, CD_CNAE10_CLASSE#205597, ID_CNPJ_CEI#211812, ID_CNPJ_RAIZ#211849, DT_ABERTURA#205600, DT_BAIXA#205601, DT_ENCERRAMENTO#205602, NM_EMAIL#211889, FL_IND_CEI_VINCULADO#205604, FL_IND_ESTAB_PARTICIPA_PAT#205605, FL_IND_RAIS_NEGAT#205606, FL_IND_SIMPLES#205607, CD_MUNICIPIO#205608, CD_NATUREZA_JURIDICA#205609, trim(NM_LOGRADOURO#205610, None) AS NM_LOGRADOURO#211932, NR_LOGRADOURO#205611, NM_BAIRRO#205612, NR_TELEFONE_EMPRE#205613L, QT_VINC_ATIV#205614, QT_VINC_CLT#205615, QT_VINC_ESTAT#205616, ID_RAZAO_SOCIAL#205617, ... 11 more fields]\n",
       "                                 +- Project [nm_arq_in#211772, ID_CEI_VINCULADO#205595L, ID_CEPAO_ESTAB#205596, CD_CNAE10_CLASSE#205597, ID_CNPJ_CEI#211812, ID_CNPJ_RAIZ#211849, DT_ABERTURA#205600, DT_BAIXA#205601, DT_ENCERRAMENTO#205602, trim(NM_EMAIL#205603, None) AS NM_EMAIL#211889, FL_IND_CEI_VINCULADO#205604, FL_IND_ESTAB_PARTICIPA_PAT#205605, FL_IND_RAIS_NEGAT#205606, FL_IND_SIMPLES#205607, CD_MUNICIPIO#205608, CD_NATUREZA_JURIDICA#205609, NM_LOGRADOURO#205610, NR_LOGRADOURO#205611, NM_BAIRRO#205612, NR_TELEFONE_EMPRE#205613L, QT_VINC_ATIV#205614, QT_VINC_CLT#205615, QT_VINC_ESTAT#205616, ID_RAZAO_SOCIAL#205617, ... 11 more fields]\n",
       "                                    +- Project [nm_arq_in#211772, ID_CEI_VINCULADO#205595L, ID_CEPAO_ESTAB#205596, CD_CNAE10_CLASSE#205597, ID_CNPJ_CEI#211812, trim(ID_CNPJ_RAIZ#205599, None) AS ID_CNPJ_RAIZ#211849, DT_ABERTURA#205600, DT_BAIXA#205601, DT_ENCERRAMENTO#205602, NM_EMAIL#205603, FL_IND_CEI_VINCULADO#205604, FL_IND_ESTAB_PARTICIPA_PAT#205605, FL_IND_RAIS_NEGAT#205606, FL_IND_SIMPLES#205607, CD_MUNICIPIO#205608, CD_NATUREZA_JURIDICA#205609, NM_LOGRADOURO#205610, NR_LOGRADOURO#205611, NM_BAIRRO#205612, NR_TELEFONE_EMPRE#205613L, QT_VINC_ATIV#205614, QT_VINC_CLT#205615, QT_VINC_ESTAT#205616, ID_RAZAO_SOCIAL#205617, ... 11 more fields]\n",
       "                                       +- Project [nm_arq_in#211772, ID_CEI_VINCULADO#205595L, ID_CEPAO_ESTAB#205596, CD_CNAE10_CLASSE#205597, trim(ID_CNPJ_CEI#205598, None) AS ID_CNPJ_CEI#211812, ID_CNPJ_RAIZ#205599, DT_ABERTURA#205600, DT_BAIXA#205601, DT_ENCERRAMENTO#205602, NM_EMAIL#205603, FL_IND_CEI_VINCULADO#205604, FL_IND_ESTAB_PARTICIPA_PAT#205605, FL_IND_RAIS_NEGAT#205606, FL_IND_SIMPLES#205607, CD_MUNICIPIO#205608, CD_NATUREZA_JURIDICA#205609, NM_LOGRADOURO#205610, NR_LOGRADOURO#205611, NM_BAIRRO#205612, NR_TELEFONE_EMPRE#205613L, QT_VINC_ATIV#205614, QT_VINC_CLT#205615, QT_VINC_ESTAT#205616, ID_RAZAO_SOCIAL#205617, ... 11 more fields]\n",
       "                                          +- Project [trim(nm_arq_in#205594, None) AS nm_arq_in#211772, ID_CEI_VINCULADO#205595L, ID_CEPAO_ESTAB#205596, CD_CNAE10_CLASSE#205597, ID_CNPJ_CEI#205598, ID_CNPJ_RAIZ#205599, DT_ABERTURA#205600, DT_BAIXA#205601, DT_ENCERRAMENTO#205602, NM_EMAIL#205603, FL_IND_CEI_VINCULADO#205604, FL_IND_ESTAB_PARTICIPA_PAT#205605, FL_IND_RAIS_NEGAT#205606, FL_IND_SIMPLES#205607, CD_MUNICIPIO#205608, CD_NATUREZA_JURIDICA#205609, NM_LOGRADOURO#205610, NR_LOGRADOURO#205611, NM_BAIRRO#205612, NR_TELEFONE_EMPRE#205613L, QT_VINC_ATIV#205614, QT_VINC_CLT#205615, QT_VINC_ESTAT#205616, ID_RAZAO_SOCIAL#205617, ... 11 more fields]\n",
       "                                             +- Relation [nm_arq_in#205594,ID_CEI_VINCULADO#205595L,ID_CEPAO_ESTAB#205596,CD_CNAE10_CLASSE#205597,ID_CNPJ_CEI#205598,ID_CNPJ_RAIZ#205599,DT_ABERTURA#205600,DT_BAIXA#205601,DT_ENCERRAMENTO#205602,NM_EMAIL#205603,FL_IND_CEI_VINCULADO#205604,FL_IND_ESTAB_PARTICIPA_PAT#205605,FL_IND_RAIS_NEGAT#205606,FL_IND_SIMPLES#205607,CD_MUNICIPIO#205608,CD_NATUREZA_JURIDICA#205609,NM_LOGRADOURO#205610,NR_LOGRADOURO#205611,NM_BAIRRO#205612,NR_TELEFONE_EMPRE#205613L,QT_VINC_ATIV#205614,QT_VINC_CLT#205615,QT_VINC_ESTAT#205616,ID_RAZAO_SOCIAL#205617,... 11 more fields] parquet\n"
      ]
     },
     "metadata": {
      "application/vnd.databricks.v1+output": {
       "arguments": {},
       "data": "\u001b[0;31m---------------------------------------------------------------------------\u001b[0m\n\u001b[0;31mAnalysisException\u001b[0m                         Traceback (most recent call last)\nFile \u001b[0;32m<command-2780836098773537>:2\u001b[0m\n\u001b[1;32m      1\u001b[0m cf\u001b[38;5;241m.\u001b[39mcheck_ba_doc(df, parse_ba\u001b[38;5;241m=\u001b[39mvar_prm_dict, sheet\u001b[38;5;241m=\u001b[39msheet_name)\n\u001b[0;32m----> 2\u001b[0m df \u001b[38;5;241m=\u001b[39m df\u001b[38;5;241m.\u001b[39mselect(\u001b[38;5;241m*\u001b[39m__transform_columns(var_prm_dict[sheet_name]))\n\nFile \u001b[0;32m/databricks/spark/python/pyspark/instrumentation_utils.py:48\u001b[0m, in \u001b[0;36m_wrap_function.<locals>.wrapper\u001b[0;34m(*args, **kwargs)\u001b[0m\n\u001b[1;32m     46\u001b[0m start \u001b[38;5;241m=\u001b[39m time\u001b[38;5;241m.\u001b[39mperf_counter()\n\u001b[1;32m     47\u001b[0m \u001b[38;5;28;01mtry\u001b[39;00m:\n\u001b[0;32m---> 48\u001b[0m     res \u001b[38;5;241m=\u001b[39m \u001b[43mfunc\u001b[49m\u001b[43m(\u001b[49m\u001b[38;5;241;43m*\u001b[39;49m\u001b[43margs\u001b[49m\u001b[43m,\u001b[49m\u001b[43m \u001b[49m\u001b[38;5;241;43m*\u001b[39;49m\u001b[38;5;241;43m*\u001b[39;49m\u001b[43mkwargs\u001b[49m\u001b[43m)\u001b[49m\n\u001b[1;32m     49\u001b[0m     logger\u001b[38;5;241m.\u001b[39mlog_success(\n\u001b[1;32m     50\u001b[0m         module_name, class_name, function_name, time\u001b[38;5;241m.\u001b[39mperf_counter() \u001b[38;5;241m-\u001b[39m start, signature\n\u001b[1;32m     51\u001b[0m     )\n\u001b[1;32m     52\u001b[0m     \u001b[38;5;28;01mreturn\u001b[39;00m res\n\nFile \u001b[0;32m/databricks/spark/python/pyspark/sql/dataframe.py:3023\u001b[0m, in \u001b[0;36mDataFrame.select\u001b[0;34m(self, *cols)\u001b[0m\n\u001b[1;32m   2978\u001b[0m \u001b[38;5;28;01mdef\u001b[39;00m \u001b[38;5;21mselect\u001b[39m(\u001b[38;5;28mself\u001b[39m, \u001b[38;5;241m*\u001b[39mcols: \u001b[38;5;124m\"\u001b[39m\u001b[38;5;124mColumnOrName\u001b[39m\u001b[38;5;124m\"\u001b[39m) \u001b[38;5;241m-\u001b[39m\u001b[38;5;241m>\u001b[39m \u001b[38;5;124m\"\u001b[39m\u001b[38;5;124mDataFrame\u001b[39m\u001b[38;5;124m\"\u001b[39m:  \u001b[38;5;66;03m# type: ignore[misc]\u001b[39;00m\n\u001b[1;32m   2979\u001b[0m \u001b[38;5;250m    \u001b[39m\u001b[38;5;124;03m\"\"\"Projects a set of expressions and returns a new :class:`DataFrame`.\u001b[39;00m\n\u001b[1;32m   2980\u001b[0m \n\u001b[1;32m   2981\u001b[0m \u001b[38;5;124;03m    .. versionadded:: 1.3.0\u001b[39;00m\n\u001b[0;32m   (...)\u001b[0m\n\u001b[1;32m   3021\u001b[0m \u001b[38;5;124;03m    +-----+---+\u001b[39;00m\n\u001b[1;32m   3022\u001b[0m \u001b[38;5;124;03m    \"\"\"\u001b[39;00m\n\u001b[0;32m-> 3023\u001b[0m     jdf \u001b[38;5;241m=\u001b[39m \u001b[38;5;28;43mself\u001b[39;49m\u001b[38;5;241;43m.\u001b[39;49m\u001b[43m_jdf\u001b[49m\u001b[38;5;241;43m.\u001b[39;49m\u001b[43mselect\u001b[49m\u001b[43m(\u001b[49m\u001b[38;5;28;43mself\u001b[39;49m\u001b[38;5;241;43m.\u001b[39;49m\u001b[43m_jcols\u001b[49m\u001b[43m(\u001b[49m\u001b[38;5;241;43m*\u001b[39;49m\u001b[43mcols\u001b[49m\u001b[43m)\u001b[49m\u001b[43m)\u001b[49m\n\u001b[1;32m   3024\u001b[0m     \u001b[38;5;28;01mreturn\u001b[39;00m DataFrame(jdf, \u001b[38;5;28mself\u001b[39m\u001b[38;5;241m.\u001b[39msparkSession)\n\nFile \u001b[0;32m/databricks/spark/python/lib/py4j-0.10.9.5-src.zip/py4j/java_gateway.py:1321\u001b[0m, in \u001b[0;36mJavaMember.__call__\u001b[0;34m(self, *args)\u001b[0m\n\u001b[1;32m   1315\u001b[0m command \u001b[38;5;241m=\u001b[39m proto\u001b[38;5;241m.\u001b[39mCALL_COMMAND_NAME \u001b[38;5;241m+\u001b[39m\\\n\u001b[1;32m   1316\u001b[0m     \u001b[38;5;28mself\u001b[39m\u001b[38;5;241m.\u001b[39mcommand_header \u001b[38;5;241m+\u001b[39m\\\n\u001b[1;32m   1317\u001b[0m     args_command \u001b[38;5;241m+\u001b[39m\\\n\u001b[1;32m   1318\u001b[0m     proto\u001b[38;5;241m.\u001b[39mEND_COMMAND_PART\n\u001b[1;32m   1320\u001b[0m answer \u001b[38;5;241m=\u001b[39m \u001b[38;5;28mself\u001b[39m\u001b[38;5;241m.\u001b[39mgateway_client\u001b[38;5;241m.\u001b[39msend_command(command)\n\u001b[0;32m-> 1321\u001b[0m return_value \u001b[38;5;241m=\u001b[39m \u001b[43mget_return_value\u001b[49m\u001b[43m(\u001b[49m\n\u001b[1;32m   1322\u001b[0m \u001b[43m    \u001b[49m\u001b[43manswer\u001b[49m\u001b[43m,\u001b[49m\u001b[43m \u001b[49m\u001b[38;5;28;43mself\u001b[39;49m\u001b[38;5;241;43m.\u001b[39;49m\u001b[43mgateway_client\u001b[49m\u001b[43m,\u001b[49m\u001b[43m \u001b[49m\u001b[38;5;28;43mself\u001b[39;49m\u001b[38;5;241;43m.\u001b[39;49m\u001b[43mtarget_id\u001b[49m\u001b[43m,\u001b[49m\u001b[43m \u001b[49m\u001b[38;5;28;43mself\u001b[39;49m\u001b[38;5;241;43m.\u001b[39;49m\u001b[43mname\u001b[49m\u001b[43m)\u001b[49m\n\u001b[1;32m   1324\u001b[0m \u001b[38;5;28;01mfor\u001b[39;00m temp_arg \u001b[38;5;129;01min\u001b[39;00m temp_args:\n\u001b[1;32m   1325\u001b[0m     temp_arg\u001b[38;5;241m.\u001b[39m_detach()\n\nFile \u001b[0;32m/databricks/spark/python/pyspark/errors/exceptions.py:234\u001b[0m, in \u001b[0;36mcapture_sql_exception.<locals>.deco\u001b[0;34m(*a, **kw)\u001b[0m\n\u001b[1;32m    230\u001b[0m converted \u001b[38;5;241m=\u001b[39m convert_exception(e\u001b[38;5;241m.\u001b[39mjava_exception)\n\u001b[1;32m    231\u001b[0m \u001b[38;5;28;01mif\u001b[39;00m \u001b[38;5;129;01mnot\u001b[39;00m \u001b[38;5;28misinstance\u001b[39m(converted, UnknownException):\n\u001b[1;32m    232\u001b[0m     \u001b[38;5;66;03m# Hide where the exception came from that shows a non-Pythonic\u001b[39;00m\n\u001b[1;32m    233\u001b[0m     \u001b[38;5;66;03m# JVM exception message.\u001b[39;00m\n\u001b[0;32m--> 234\u001b[0m     \u001b[38;5;28;01mraise\u001b[39;00m converted \u001b[38;5;28;01mfrom\u001b[39;00m \u001b[38;5;28;01mNone\u001b[39;00m\n\u001b[1;32m    235\u001b[0m \u001b[38;5;28;01melse\u001b[39;00m:\n\u001b[1;32m    236\u001b[0m     \u001b[38;5;28;01mraise\u001b[39;00m\n\n\u001b[0;31mAnalysisException\u001b[0m: [UNRESOLVED_COLUMN.WITH_SUGGESTION] A column or function parameter with name `BAIRROS_SP` cannot be resolved. Did you mean one of the following? [`NM_BAIRRO`, `ANO`, `CD_UF`, `dh_arq_in`, `nm_arq_in`].;\n'Project [cast(ANO#205628 as smallint) AS NR_ANO#212858, cast('BAIRROS_SP as string) AS CD_BAIRROS_SP#212859, cast('BAIRROS_FORTALEZA as string) AS CD_BAIRROS_FORTALEZA#212860, cast('BAIRROS_RJ as string) AS CD_BAIRROS_RJ#212861, cast('DISTRITOS_SP as string) AS CD_DISTRITOS_SP#212862, cast('REGIOES_ADM_DF as string) AS CD_REGIOES_ADM_DF#212863, cast('QTD_VINCULOS_CLT as int) AS NR_QTD_VINCULOS_CLT#212864, cast('QTD_VINCULOS_ATIVOS as int) AS NR_QTD_VINCULOS_ATIVOS#212865, cast('QTD_VINCULOS_ESTATUTARIOS as int) AS NR_QTD_VINCULOS_ESTATUTARIOS#212866, cast('IND_CEI_VINCULADO as boolean) AS FL_IND_CEI_VINCULADO#212867, cast('IND_ESTAB_PARTICIPA_PAT as boolean) AS FL_IND_ESTAB_PARTICIPA_PAT#212868, cast('IND_RAIS_NEGATIVA as boolean) AS FL_IND_RAIS_NEGATIVA#212869, cast('IND_SIMPLES as boolean) AS FL_IND_SIMPLES#212870, cast('MUNICIPIO as string) AS CD_MUNICIPIO#212871, cast('NATUREZA_JURIDICA as string) AS CD_NATUREZA_JURIDICA#212872, cast('TAMANHO_ESTABELECIMENTO as string) AS CD_TAMANHO_ESTABELECIMENTO#212873, cast('TAMANHO_ESTABELECIMENTO as string) AS DS_TAMANHO_ESTABELECIMENTO#212874, cast('TIPO_ESTAB as string) AS CD_TIPO_ESTAB#212875, cast('TIPO_ESTAB_1 as string) AS DS_TIPO_ESTAB#212876, cast('IND_ATIVIDADE_ANO as string) AS CD_IND_ATIVIDADE_ANO#212877, cast('CNAE_95_CLASSE as string) AS CD_CNAE10_CLASSE#212878, cast('CNAE_2_0_CLASSE as string) AS CD_CNAE20_CLASSE#212879, cast('CNAE_2_0_SUBCLASSE as string) AS CD_CNAE20_SUBCLASSE#212880, cast('UF as string) AS CD_UF#212881, ... 3 more fields]\n+- Project [CASE WHEN (nm_arq_in#212571 = {ñ) THEN cast(null as string) ELSE nm_arq_in#212571 END AS nm_arq_in#212648, ID_CEI_VINCULADO#205595L, ID_CEPAO_ESTAB#205596, CD_CNAE10_CLASSE#205597, CASE WHEN (ID_CNPJ_CEI#212572 = {ñ) THEN cast(null as string) ELSE ID_CNPJ_CEI#212572 END AS ID_CNPJ_CEI#212649, CASE WHEN (ID_CNPJ_RAIZ#212573 = {ñ) THEN cast(null as string) ELSE ID_CNPJ_RAIZ#212573 END AS ID_CNPJ_RAIZ#212650, DT_ABERTURA#205600, DT_BAIXA#205601, DT_ENCERRAMENTO#205602, CASE WHEN (NM_EMAIL#212574 = {ñ) THEN cast(null as string) ELSE NM_EMAIL#212574 END AS NM_EMAIL#212651, FL_IND_CEI_VINCULADO#205604, FL_IND_ESTAB_PARTICIPA_PAT#205605, FL_IND_RAIS_NEGAT#205606, FL_IND_SIMPLES#205607, CD_MUNICIPIO#205608, CD_NATUREZA_JURIDICA#205609, CASE WHEN (NM_LOGRADOURO#212575 = {ñ) THEN cast(null as string) ELSE NM_LOGRADOURO#212575 END AS NM_LOGRADOURO#212652, NR_LOGRADOURO#205611, CASE WHEN (NM_BAIRRO#212576 = {ñ) THEN cast(null as string) ELSE NM_BAIRRO#212576 END AS NM_BAIRRO#212653, NR_TELEFONE_EMPRE#205613L, QT_VINC_ATIV#205614, QT_VINC_CLT#205615, QT_VINC_ESTAT#205616, CASE WHEN (ID_RAZAO_SOCIAL#212577 = {ñ) THEN cast(null as string) ELSE ID_RAZAO_SOCIAL#212577 END AS ID_RAZAO_SOCIAL#212654, ... 11 more fields]\n   +- Project [CASE WHEN (nm_arq_in#212494 = {ñ c) THEN cast(null as string) ELSE nm_arq_in#212494 END AS nm_arq_in#212571, ID_CEI_VINCULADO#205595L, ID_CEPAO_ESTAB#205596, CD_CNAE10_CLASSE#205597, CASE WHEN (ID_CNPJ_CEI#212495 = {ñ c) THEN cast(null as string) ELSE ID_CNPJ_CEI#212495 END AS ID_CNPJ_CEI#212572, CASE WHEN (ID_CNPJ_RAIZ#212496 = {ñ c) THEN cast(null as string) ELSE ID_CNPJ_RAIZ#212496 END AS ID_CNPJ_RAIZ#212573, DT_ABERTURA#205600, DT_BAIXA#205601, DT_ENCERRAMENTO#205602, CASE WHEN (NM_EMAIL#212497 = {ñ c) THEN cast(null as string) ELSE NM_EMAIL#212497 END AS NM_EMAIL#212574, FL_IND_CEI_VINCULADO#205604, FL_IND_ESTAB_PARTICIPA_PAT#205605, FL_IND_RAIS_NEGAT#205606, FL_IND_SIMPLES#205607, CD_MUNICIPIO#205608, CD_NATUREZA_JURIDICA#205609, CASE WHEN (NM_LOGRADOURO#212498 = {ñ c) THEN cast(null as string) ELSE NM_LOGRADOURO#212498 END AS NM_LOGRADOURO#212575, NR_LOGRADOURO#205611, CASE WHEN (NM_BAIRRO#212499 = {ñ c) THEN cast(null as string) ELSE NM_BAIRRO#212499 END AS NM_BAIRRO#212576, NR_TELEFONE_EMPRE#205613L, QT_VINC_ATIV#205614, QT_VINC_CLT#205615, QT_VINC_ESTAT#205616, CASE WHEN (ID_RAZAO_SOCIAL#212500 = {ñ c) THEN cast(null as string) ELSE ID_RAZAO_SOCIAL#212500 END AS ID_RAZAO_SOCIAL#212577, ... 11 more fields]\n      +- Project [CASE WHEN (nm_arq_in#212417 = {ñ cl) THEN cast(null as string) ELSE nm_arq_in#212417 END AS nm_arq_in#212494, ID_CEI_VINCULADO#205595L, ID_CEPAO_ESTAB#205596, CD_CNAE10_CLASSE#205597, CASE WHEN (ID_CNPJ_CEI#212418 = {ñ cl) THEN cast(null as string) ELSE ID_CNPJ_CEI#212418 END AS ID_CNPJ_CEI#212495, CASE WHEN (ID_CNPJ_RAIZ#212419 = {ñ cl) THEN cast(null as string) ELSE ID_CNPJ_RAIZ#212419 END AS ID_CNPJ_RAIZ#212496, DT_ABERTURA#205600, DT_BAIXA#205601, DT_ENCERRAMENTO#205602, CASE WHEN (NM_EMAIL#212420 = {ñ cl) THEN cast(null as string) ELSE NM_EMAIL#212420 END AS NM_EMAIL#212497, FL_IND_CEI_VINCULADO#205604, FL_IND_ESTAB_PARTICIPA_PAT#205605, FL_IND_RAIS_NEGAT#205606, FL_IND_SIMPLES#205607, CD_MUNICIPIO#205608, CD_NATUREZA_JURIDICA#205609, CASE WHEN (NM_LOGRADOURO#212421 = {ñ cl) THEN cast(null as string) ELSE NM_LOGRADOURO#212421 END AS NM_LOGRADOURO#212498, NR_LOGRADOURO#205611, CASE WHEN (NM_BAIRRO#212422 = {ñ cl) THEN cast(null as string) ELSE NM_BAIRRO#212422 END AS NM_BAIRRO#212499, NR_TELEFONE_EMPRE#205613L, QT_VINC_ATIV#205614, QT_VINC_CLT#205615, QT_VINC_ESTAT#205616, CASE WHEN (ID_RAZAO_SOCIAL#212423 = {ñ cl) THEN cast(null as string) ELSE ID_RAZAO_SOCIAL#212423 END AS ID_RAZAO_SOCIAL#212500, ... 11 more fields]\n         +- Project [CASE WHEN (nm_arq_in#212340 = {ñ cla) THEN cast(null as string) ELSE nm_arq_in#212340 END AS nm_arq_in#212417, ID_CEI_VINCULADO#205595L, ID_CEPAO_ESTAB#205596, CD_CNAE10_CLASSE#205597, CASE WHEN (ID_CNPJ_CEI#212341 = {ñ cla) THEN cast(null as string) ELSE ID_CNPJ_CEI#212341 END AS ID_CNPJ_CEI#212418, CASE WHEN (ID_CNPJ_RAIZ#212342 = {ñ cla) THEN cast(null as string) ELSE ID_CNPJ_RAIZ#212342 END AS ID_CNPJ_RAIZ#212419, DT_ABERTURA#205600, DT_BAIXA#205601, DT_ENCERRAMENTO#205602, CASE WHEN (NM_EMAIL#212343 = {ñ cla) THEN cast(null as string) ELSE NM_EMAIL#212343 END AS NM_EMAIL#212420, FL_IND_CEI_VINCULADO#205604, FL_IND_ESTAB_PARTICIPA_PAT#205605, FL_IND_RAIS_NEGAT#205606, FL_IND_SIMPLES#205607, CD_MUNICIPIO#205608, CD_NATUREZA_JURIDICA#205609, CASE WHEN (NM_LOGRADOURO#212344 = {ñ cla) THEN cast(null as string) ELSE NM_LOGRADOURO#212344 END AS NM_LOGRADOURO#212421, NR_LOGRADOURO#205611, CASE WHEN (NM_BAIRRO#212345 = {ñ cla) THEN cast(null as string) ELSE NM_BAIRRO#212345 END AS NM_BAIRRO#212422, NR_TELEFONE_EMPRE#205613L, QT_VINC_ATIV#205614, QT_VINC_CLT#205615, QT_VINC_ESTAT#205616, CASE WHEN (ID_RAZAO_SOCIAL#212346 = {ñ cla) THEN cast(null as string) ELSE ID_RAZAO_SOCIAL#212346 END AS ID_RAZAO_SOCIAL#212423, ... 11 more fields]\n            +- Project [CASE WHEN (nm_arq_in#212263 = {ñ clas) THEN cast(null as string) ELSE nm_arq_in#212263 END AS nm_arq_in#212340, ID_CEI_VINCULADO#205595L, ID_CEPAO_ESTAB#205596, CD_CNAE10_CLASSE#205597, CASE WHEN (ID_CNPJ_CEI#212264 = {ñ clas) THEN cast(null as string) ELSE ID_CNPJ_CEI#212264 END AS ID_CNPJ_CEI#212341, CASE WHEN (ID_CNPJ_RAIZ#212265 = {ñ clas) THEN cast(null as string) ELSE ID_CNPJ_RAIZ#212265 END AS ID_CNPJ_RAIZ#212342, DT_ABERTURA#205600, DT_BAIXA#205601, DT_ENCERRAMENTO#205602, CASE WHEN (NM_EMAIL#212266 = {ñ clas) THEN cast(null as string) ELSE NM_EMAIL#212266 END AS NM_EMAIL#212343, FL_IND_CEI_VINCULADO#205604, FL_IND_ESTAB_PARTICIPA_PAT#205605, FL_IND_RAIS_NEGAT#205606, FL_IND_SIMPLES#205607, CD_MUNICIPIO#205608, CD_NATUREZA_JURIDICA#205609, CASE WHEN (NM_LOGRADOURO#212267 = {ñ clas) THEN cast(null as string) ELSE NM_LOGRADOURO#212267 END AS NM_LOGRADOURO#212344, NR_LOGRADOURO#205611, CASE WHEN (NM_BAIRRO#212268 = {ñ clas) THEN cast(null as string) ELSE NM_BAIRRO#212268 END AS NM_BAIRRO#212345, NR_TELEFONE_EMPRE#205613L, QT_VINC_ATIV#205614, QT_VINC_CLT#205615, QT_VINC_ESTAT#205616, CASE WHEN (ID_RAZAO_SOCIAL#212269 = {ñ clas) THEN cast(null as string) ELSE ID_RAZAO_SOCIAL#212269 END AS ID_RAZAO_SOCIAL#212346, ... 11 more fields]\n               +- Project [CASE WHEN (nm_arq_in#212186 = {ñ class) THEN cast(null as string) ELSE nm_arq_in#212186 END AS nm_arq_in#212263, ID_CEI_VINCULADO#205595L, ID_CEPAO_ESTAB#205596, CD_CNAE10_CLASSE#205597, CASE WHEN (ID_CNPJ_CEI#212187 = {ñ class) THEN cast(null as string) ELSE ID_CNPJ_CEI#212187 END AS ID_CNPJ_CEI#212264, CASE WHEN (ID_CNPJ_RAIZ#212188 = {ñ class) THEN cast(null as string) ELSE ID_CNPJ_RAIZ#212188 END AS ID_CNPJ_RAIZ#212265, DT_ABERTURA#205600, DT_BAIXA#205601, DT_ENCERRAMENTO#205602, CASE WHEN (NM_EMAIL#212189 = {ñ class) THEN cast(null as string) ELSE NM_EMAIL#212189 END AS NM_EMAIL#212266, FL_IND_CEI_VINCULADO#205604, FL_IND_ESTAB_PARTICIPA_PAT#205605, FL_IND_RAIS_NEGAT#205606, FL_IND_SIMPLES#205607, CD_MUNICIPIO#205608, CD_NATUREZA_JURIDICA#205609, CASE WHEN (NM_LOGRADOURO#212190 = {ñ class) THEN cast(null as string) ELSE NM_LOGRADOURO#212190 END AS NM_LOGRADOURO#212267, NR_LOGRADOURO#205611, CASE WHEN (NM_BAIRRO#212191 = {ñ class) THEN cast(null as string) ELSE NM_BAIRRO#212191 END AS NM_BAIRRO#212268, NR_TELEFONE_EMPRE#205613L, QT_VINC_ATIV#205614, QT_VINC_CLT#205615, QT_VINC_ESTAT#205616, CASE WHEN (ID_RAZAO_SOCIAL#212192 = {ñ class) THEN cast(null as string) ELSE ID_RAZAO_SOCIAL#212192 END AS ID_RAZAO_SOCIAL#212269, ... 11 more fields]\n                  +- Project [CASE WHEN (nm_arq_in#212093 = {ñ class}) THEN cast(null as string) ELSE nm_arq_in#212093 END AS nm_arq_in#212186, ID_CEI_VINCULADO#205595L, ID_CEPAO_ESTAB#205596, CD_CNAE10_CLASSE#205597, CASE WHEN (ID_CNPJ_CEI#212094 = {ñ class}) THEN cast(null as string) ELSE ID_CNPJ_CEI#212094 END AS ID_CNPJ_CEI#212187, CASE WHEN (ID_CNPJ_RAIZ#212095 = {ñ class}) THEN cast(null as string) ELSE ID_CNPJ_RAIZ#212095 END AS ID_CNPJ_RAIZ#212188, DT_ABERTURA#205600, DT_BAIXA#205601, DT_ENCERRAMENTO#205602, CASE WHEN (NM_EMAIL#212096 = {ñ class}) THEN cast(null as string) ELSE NM_EMAIL#212096 END AS NM_EMAIL#212189, FL_IND_CEI_VINCULADO#205604, FL_IND_ESTAB_PARTICIPA_PAT#205605, FL_IND_RAIS_NEGAT#205606, FL_IND_SIMPLES#205607, CD_MUNICIPIO#205608, CD_NATUREZA_JURIDICA#205609, CASE WHEN (NM_LOGRADOURO#212097 = {ñ class}) THEN cast(null as string) ELSE NM_LOGRADOURO#212097 END AS NM_LOGRADOURO#212190, NR_LOGRADOURO#205611, CASE WHEN (NM_BAIRRO#212098 = {ñ class}) THEN cast(null as string) ELSE NM_BAIRRO#212098 END AS NM_BAIRRO#212191, NR_TELEFONE_EMPRE#205613L, QT_VINC_ATIV#205614, QT_VINC_CLT#205615, QT_VINC_ESTAT#205616, CASE WHEN (ID_RAZAO_SOCIAL#212099 = {ñ class}) THEN cast(null as string) ELSE ID_RAZAO_SOCIAL#212099 END AS ID_RAZAO_SOCIAL#212192, ... 11 more fields]\n                     +- Project [CASE WHEN (nm_arq_in#211772 = ) THEN cast(null as string) ELSE nm_arq_in#211772 END AS nm_arq_in#212093, ID_CEI_VINCULADO#205595L, ID_CEPAO_ESTAB#205596, CD_CNAE10_CLASSE#205597, CASE WHEN (ID_CNPJ_CEI#211812 = ) THEN cast(null as string) ELSE ID_CNPJ_CEI#211812 END AS ID_CNPJ_CEI#212094, CASE WHEN (ID_CNPJ_RAIZ#211849 = ) THEN cast(null as string) ELSE ID_CNPJ_RAIZ#211849 END AS ID_CNPJ_RAIZ#212095, DT_ABERTURA#205600, DT_BAIXA#205601, DT_ENCERRAMENTO#205602, CASE WHEN (NM_EMAIL#211889 = ) THEN cast(null as string) ELSE NM_EMAIL#211889 END AS NM_EMAIL#212096, FL_IND_CEI_VINCULADO#205604, FL_IND_ESTAB_PARTICIPA_PAT#205605, FL_IND_RAIS_NEGAT#205606, FL_IND_SIMPLES#205607, CD_MUNICIPIO#205608, CD_NATUREZA_JURIDICA#205609, CASE WHEN (NM_LOGRADOURO#211932 = ) THEN cast(null as string) ELSE NM_LOGRADOURO#211932 END AS NM_LOGRADOURO#212097, NR_LOGRADOURO#205611, CASE WHEN (NM_BAIRRO#211970 = ) THEN cast(null as string) ELSE NM_BAIRRO#211970 END AS NM_BAIRRO#212098, NR_TELEFONE_EMPRE#205613L, QT_VINC_ATIV#205614, QT_VINC_CLT#205615, QT_VINC_ESTAT#205616, CASE WHEN (ID_RAZAO_SOCIAL#212011 = ) THEN cast(null as string) ELSE ID_RAZAO_SOCIAL#212011 END AS ID_RAZAO_SOCIAL#212099, ... 11 more fields]\n                        +- Project [nm_arq_in#211772, ID_CEI_VINCULADO#205595L, ID_CEPAO_ESTAB#205596, CD_CNAE10_CLASSE#205597, ID_CNPJ_CEI#211812, ID_CNPJ_RAIZ#211849, DT_ABERTURA#205600, DT_BAIXA#205601, DT_ENCERRAMENTO#205602, NM_EMAIL#211889, FL_IND_CEI_VINCULADO#205604, FL_IND_ESTAB_PARTICIPA_PAT#205605, FL_IND_RAIS_NEGAT#205606, FL_IND_SIMPLES#205607, CD_MUNICIPIO#205608, CD_NATUREZA_JURIDICA#205609, NM_LOGRADOURO#211932, NR_LOGRADOURO#205611, NM_BAIRRO#211970, NR_TELEFONE_EMPRE#205613L, QT_VINC_ATIV#205614, QT_VINC_CLT#205615, QT_VINC_ESTAT#205616, trim(ID_RAZAO_SOCIAL#205617, None) AS ID_RAZAO_SOCIAL#212011, ... 11 more fields]\n                           +- Project [nm_arq_in#211772, ID_CEI_VINCULADO#205595L, ID_CEPAO_ESTAB#205596, CD_CNAE10_CLASSE#205597, ID_CNPJ_CEI#211812, ID_CNPJ_RAIZ#211849, DT_ABERTURA#205600, DT_BAIXA#205601, DT_ENCERRAMENTO#205602, NM_EMAIL#211889, FL_IND_CEI_VINCULADO#205604, FL_IND_ESTAB_PARTICIPA_PAT#205605, FL_IND_RAIS_NEGAT#205606, FL_IND_SIMPLES#205607, CD_MUNICIPIO#205608, CD_NATUREZA_JURIDICA#205609, NM_LOGRADOURO#211932, NR_LOGRADOURO#205611, trim(NM_BAIRRO#205612, None) AS NM_BAIRRO#211970, NR_TELEFONE_EMPRE#205613L, QT_VINC_ATIV#205614, QT_VINC_CLT#205615, QT_VINC_ESTAT#205616, ID_RAZAO_SOCIAL#205617, ... 11 more fields]\n                              +- Project [nm_arq_in#211772, ID_CEI_VINCULADO#205595L, ID_CEPAO_ESTAB#205596, CD_CNAE10_CLASSE#205597, ID_CNPJ_CEI#211812, ID_CNPJ_RAIZ#211849, DT_ABERTURA#205600, DT_BAIXA#205601, DT_ENCERRAMENTO#205602, NM_EMAIL#211889, FL_IND_CEI_VINCULADO#205604, FL_IND_ESTAB_PARTICIPA_PAT#205605, FL_IND_RAIS_NEGAT#205606, FL_IND_SIMPLES#205607, CD_MUNICIPIO#205608, CD_NATUREZA_JURIDICA#205609, trim(NM_LOGRADOURO#205610, None) AS NM_LOGRADOURO#211932, NR_LOGRADOURO#205611, NM_BAIRRO#205612, NR_TELEFONE_EMPRE#205613L, QT_VINC_ATIV#205614, QT_VINC_CLT#205615, QT_VINC_ESTAT#205616, ID_RAZAO_SOCIAL#205617, ... 11 more fields]\n                                 +- Project [nm_arq_in#211772, ID_CEI_VINCULADO#205595L, ID_CEPAO_ESTAB#205596, CD_CNAE10_CLASSE#205597, ID_CNPJ_CEI#211812, ID_CNPJ_RAIZ#211849, DT_ABERTURA#205600, DT_BAIXA#205601, DT_ENCERRAMENTO#205602, trim(NM_EMAIL#205603, None) AS NM_EMAIL#211889, FL_IND_CEI_VINCULADO#205604, FL_IND_ESTAB_PARTICIPA_PAT#205605, FL_IND_RAIS_NEGAT#205606, FL_IND_SIMPLES#205607, CD_MUNICIPIO#205608, CD_NATUREZA_JURIDICA#205609, NM_LOGRADOURO#205610, NR_LOGRADOURO#205611, NM_BAIRRO#205612, NR_TELEFONE_EMPRE#205613L, QT_VINC_ATIV#205614, QT_VINC_CLT#205615, QT_VINC_ESTAT#205616, ID_RAZAO_SOCIAL#205617, ... 11 more fields]\n                                    +- Project [nm_arq_in#211772, ID_CEI_VINCULADO#205595L, ID_CEPAO_ESTAB#205596, CD_CNAE10_CLASSE#205597, ID_CNPJ_CEI#211812, trim(ID_CNPJ_RAIZ#205599, None) AS ID_CNPJ_RAIZ#211849, DT_ABERTURA#205600, DT_BAIXA#205601, DT_ENCERRAMENTO#205602, NM_EMAIL#205603, FL_IND_CEI_VINCULADO#205604, FL_IND_ESTAB_PARTICIPA_PAT#205605, FL_IND_RAIS_NEGAT#205606, FL_IND_SIMPLES#205607, CD_MUNICIPIO#205608, CD_NATUREZA_JURIDICA#205609, NM_LOGRADOURO#205610, NR_LOGRADOURO#205611, NM_BAIRRO#205612, NR_TELEFONE_EMPRE#205613L, QT_VINC_ATIV#205614, QT_VINC_CLT#205615, QT_VINC_ESTAT#205616, ID_RAZAO_SOCIAL#205617, ... 11 more fields]\n                                       +- Project [nm_arq_in#211772, ID_CEI_VINCULADO#205595L, ID_CEPAO_ESTAB#205596, CD_CNAE10_CLASSE#205597, trim(ID_CNPJ_CEI#205598, None) AS ID_CNPJ_CEI#211812, ID_CNPJ_RAIZ#205599, DT_ABERTURA#205600, DT_BAIXA#205601, DT_ENCERRAMENTO#205602, NM_EMAIL#205603, FL_IND_CEI_VINCULADO#205604, FL_IND_ESTAB_PARTICIPA_PAT#205605, FL_IND_RAIS_NEGAT#205606, FL_IND_SIMPLES#205607, CD_MUNICIPIO#205608, CD_NATUREZA_JURIDICA#205609, NM_LOGRADOURO#205610, NR_LOGRADOURO#205611, NM_BAIRRO#205612, NR_TELEFONE_EMPRE#205613L, QT_VINC_ATIV#205614, QT_VINC_CLT#205615, QT_VINC_ESTAT#205616, ID_RAZAO_SOCIAL#205617, ... 11 more fields]\n                                          +- Project [trim(nm_arq_in#205594, None) AS nm_arq_in#211772, ID_CEI_VINCULADO#205595L, ID_CEPAO_ESTAB#205596, CD_CNAE10_CLASSE#205597, ID_CNPJ_CEI#205598, ID_CNPJ_RAIZ#205599, DT_ABERTURA#205600, DT_BAIXA#205601, DT_ENCERRAMENTO#205602, NM_EMAIL#205603, FL_IND_CEI_VINCULADO#205604, FL_IND_ESTAB_PARTICIPA_PAT#205605, FL_IND_RAIS_NEGAT#205606, FL_IND_SIMPLES#205607, CD_MUNICIPIO#205608, CD_NATUREZA_JURIDICA#205609, NM_LOGRADOURO#205610, NR_LOGRADOURO#205611, NM_BAIRRO#205612, NR_TELEFONE_EMPRE#205613L, QT_VINC_ATIV#205614, QT_VINC_CLT#205615, QT_VINC_ESTAT#205616, ID_RAZAO_SOCIAL#205617, ... 11 more fields]\n                                             +- Relation [nm_arq_in#205594,ID_CEI_VINCULADO#205595L,ID_CEPAO_ESTAB#205596,CD_CNAE10_CLASSE#205597,ID_CNPJ_CEI#205598,ID_CNPJ_RAIZ#205599,DT_ABERTURA#205600,DT_BAIXA#205601,DT_ENCERRAMENTO#205602,NM_EMAIL#205603,FL_IND_CEI_VINCULADO#205604,FL_IND_ESTAB_PARTICIPA_PAT#205605,FL_IND_RAIS_NEGAT#205606,FL_IND_SIMPLES#205607,CD_MUNICIPIO#205608,CD_NATUREZA_JURIDICA#205609,NM_LOGRADOURO#205610,NR_LOGRADOURO#205611,NM_BAIRRO#205612,NR_TELEFONE_EMPRE#205613L,QT_VINC_ATIV#205614,QT_VINC_CLT#205615,QT_VINC_ESTAT#205616,ID_RAZAO_SOCIAL#205617,... 11 more fields] parquet\n",
       "errorSummary": "<span class='ansi-red-fg'>AnalysisException</span>: [UNRESOLVED_COLUMN.WITH_SUGGESTION] A column or function parameter with name `BAIRROS_SP` cannot be resolved. Did you mean one of the following? [`NM_BAIRRO`, `ANO`, `CD_UF`, `dh_arq_in`, `nm_arq_in`].;\n'Project [cast(ANO#205628 as smallint) AS NR_ANO#212858, cast('BAIRROS_SP as string) AS CD_BAIRROS_SP#212859, cast('BAIRROS_FORTALEZA as string) AS CD_BAIRROS_FORTALEZA#212860, cast('BAIRROS_RJ as string) AS CD_BAIRROS_RJ#212861, cast('DISTRITOS_SP as string) AS CD_DISTRITOS_SP#212862, cast('REGIOES_ADM_DF as string) AS CD_REGIOES_ADM_DF#212863, cast('QTD_VINCULOS_CLT as int) AS NR_QTD_VINCULOS_CLT#212864, cast('QTD_VINCULOS_ATIVOS as int) AS NR_QTD_VINCULOS_ATIVOS#212865, cast('QTD_VINCULOS_ESTATUTARIOS as int) AS NR_QTD_VINCULOS_ESTATUTARIOS#212866, cast('IND_CEI_VINCULADO as boolean) AS FL_IND_CEI_VINCULADO#212867, cast('IND_ESTAB_PARTICIPA_PAT as boolean) AS FL_IND_ESTAB_PARTICIPA_PAT#212868, cast('IND_RAIS_NEGATIVA as boolean) AS FL_IND_RAIS_NEGATIVA#212869, cast('IND_SIMPLES as boolean) AS FL_IND_SIMPLES#212870, cast('MUNICIPIO as string) AS CD_MUNICIPIO#212871, cast('NATUREZA_JURIDICA as string) AS CD_NATUREZA_JURIDICA#212872, cast('TAMANHO_ESTABELECIMENTO as string) AS CD_TAMANHO_ESTABELECIMENTO#212873, cast('TAMANHO_ESTABELECIMENTO as string) AS DS_TAMANHO_ESTABELECIMENTO#212874, cast('TIPO_ESTAB as string) AS CD_TIPO_ESTAB#212875, cast('TIPO_ESTAB_1 as string) AS DS_TIPO_ESTAB#212876, cast('IND_ATIVIDADE_ANO as string) AS CD_IND_ATIVIDADE_ANO#212877, cast('CNAE_95_CLASSE as string) AS CD_CNAE10_CLASSE#212878, cast('CNAE_2_0_CLASSE as string) AS CD_CNAE20_CLASSE#212879, cast('CNAE_2_0_SUBCLASSE as string) AS CD_CNAE20_SUBCLASSE#212880, cast('UF as string) AS CD_UF#212881, ... 3 more fields]\n+- Project [CASE WHEN (nm_arq_in#212571 = {ñ) THEN cast(null as string) ELSE nm_arq_in#212571 END AS nm_arq_in#212648, ID_CEI_VINCULADO#205595L, ID_CEPAO_ESTAB#205596, CD_CNAE10_CLASSE#205597, CASE WHEN (ID_CNPJ_CEI#212572 = {ñ) THEN cast(null as string) ELSE ID_CNPJ_CEI#212572 END AS ID_CNPJ_CEI#212649, CASE WHEN (ID_CNPJ_RAIZ#212573 = {ñ) THEN cast(null as string) ELSE ID_CNPJ_RAIZ#212573 END AS ID_CNPJ_RAIZ#212650, DT_ABERTURA#205600, DT_BAIXA#205601, DT_ENCERRAMENTO#205602, CASE WHEN (NM_EMAIL#212574 = {ñ) THEN cast(null as string) ELSE NM_EMAIL#212574 END AS NM_EMAIL#212651, FL_IND_CEI_VINCULADO#205604, FL_IND_ESTAB_PARTICIPA_PAT#205605, FL_IND_RAIS_NEGAT#205606, FL_IND_SIMPLES#205607, CD_MUNICIPIO#205608, CD_NATUREZA_JURIDICA#205609, CASE WHEN (NM_LOGRADOURO#212575 = {ñ) THEN cast(null as string) ELSE NM_LOGRADOURO#212575 END AS NM_LOGRADOURO#212652, NR_LOGRADOURO#205611, CASE WHEN (NM_BAIRRO#212576 = {ñ) THEN cast(null as string) ELSE NM_BAIRRO#212576 END AS NM_BAIRRO#212653, NR_TELEFONE_EMPRE#205613L, QT_VINC_ATIV#205614, QT_VINC_CLT#205615, QT_VINC_ESTAT#205616, CASE WHEN (ID_RAZAO_SOCIAL#212577 = {ñ) THEN cast(null as string) ELSE ID_RAZAO_SOCIAL#212577 END AS ID_RAZAO_SOCIAL#212654, ... 11 more fields]\n   +- Project [CASE WHEN (nm_arq_in#212494 = {ñ c) THEN cast(null as string) ELSE nm_arq_in#212494 END AS nm_arq_in#212571, ID_CEI_VINCULADO#205595L, ID_CEPAO_ESTAB#205596, CD_CNAE10_CLASSE#205597, CASE WHEN (ID_CNPJ_CEI#212495 = {ñ c) THEN cast(null as string) ELSE ID_CNPJ_CEI#212495 END AS ID_CNPJ_CEI#212572, CASE WHEN (ID_CNPJ_RAIZ#212496 = {ñ c) THEN cast(null as string) ELSE ID_CNPJ_RAIZ#212496 END AS ID_CNPJ_RAIZ#212573, DT_ABERTURA#205600, DT_BAIXA#205601, DT_ENCERRAMENTO#205602, CASE WHEN (NM_EMAIL#212497 = {ñ c) THEN cast(null as string) ELSE NM_EMAIL#212497 END AS NM_EMAIL#212574, FL_IND_CEI_VINCULADO#205604, FL_IND_ESTAB_PARTICIPA_PAT#205605, FL_IND_RAIS_NEGAT#205606, FL_IND_SIMPLES#205607, CD_MUNICIPIO#205608, CD_NATUREZA_JURIDICA#205609, CASE WHEN (NM_LOGRADOURO#212498 = {ñ c) THEN cast(null as string) ELSE NM_LOGRADOURO#212498 END AS NM_LOGRADOURO#212575, NR_LOGRADOURO#205611, CASE WHEN (NM_BAIRRO#212499 = {ñ c) THEN cast(null as string) ELSE NM_BAIRRO#212499 END AS NM_BAIRRO#212576, NR_TELEFONE_EMPRE#205613L, QT_VINC_ATIV#205614, QT_VINC_CLT#205615, QT_VINC_ESTAT#205616, CASE WHEN (ID_RAZAO_SOCIAL#212500 = {ñ c) THEN cast(null as string) ELSE ID_RAZAO_SOCIAL#212500 END AS ID_RAZAO_SOCIAL#212577, ... 11 more fields]\n      +- Project [CASE WHEN (nm_arq_in#212417 = {ñ cl) THEN cast(null as string) ELSE nm_arq_in#212417 END AS nm_arq_in#212494, ID_CEI_VINCULADO#205595L, ID_CEPAO_ESTAB#205596, CD_CNAE10_CLASSE#205597, CASE WHEN (ID_CNPJ_CEI#212418 = {ñ cl) THEN cast(null as string) ELSE ID_CNPJ_CEI#212418 END AS ID_CNPJ_CEI#212495, CASE WHEN (ID_CNPJ_RAIZ#212419 = {ñ cl) THEN cast(null as string) ELSE ID_CNPJ_RAIZ#212419 END AS ID_CNPJ_RAIZ#212496, DT_ABERTURA#205600, DT_BAIXA#205601, DT_ENCERRAMENTO#205602, CASE WHEN (NM_EMAIL#212420 = {ñ cl) THEN cast(null as string) ELSE NM_EMAIL#212420 END AS NM_EMAIL#212497, FL_IND_CEI_VINCULADO#205604, FL_IND_ESTAB_PARTICIPA_PAT#205605, FL_IND_RAIS_NEGAT#205606, FL_IND_SIMPLES#205607, CD_MUNICIPIO#205608, CD_NATUREZA_JURIDICA#205609, CASE WHEN (NM_LOGRADOURO#212421 = {ñ cl) THEN cast(null as string) ELSE NM_LOGRADOURO#212421 END AS NM_LOGRADOURO#212498, NR_LOGRADOURO#205611, CASE WHEN (NM_BAIRRO#212422 = {ñ cl) THEN cast(null as string) ELSE NM_BAIRRO#212422 END AS NM_BAIRRO#212499, NR_TELEFONE_EMPRE#205613L, QT_VINC_ATIV#205614, QT_VINC_CLT#205615, QT_VINC_ESTAT#205616, CASE WHEN (ID_RAZAO_SOCIAL#212423 = {ñ cl) THEN cast(null as string) ELSE ID_RAZAO_SOCIAL#212423 END AS ID_RAZAO_SOCIAL#212500, ... 11 more fields]\n         +- Project [CASE WHEN (nm_arq_in#212340 = {ñ cla) THEN cast(null as string) ELSE nm_arq_in#212340 END AS nm_arq_in#212417, ID_CEI_VINCULADO#205595L, ID_CEPAO_ESTAB#205596, CD_CNAE10_CLASSE#205597, CASE WHEN (ID_CNPJ_CEI#212341 = {ñ cla) THEN cast(null as string) ELSE ID_CNPJ_CEI#212341 END AS ID_CNPJ_CEI#212418, CASE WHEN (ID_CNPJ_RAIZ#212342 = {ñ cla) THEN cast(null as string) ELSE ID_CNPJ_RAIZ#212342 END AS ID_CNPJ_RAIZ#212419, DT_ABERTURA#205600, DT_BAIXA#205601, DT_ENCERRAMENTO#205602, CASE WHEN (NM_EMAIL#212343 = {ñ cla) THEN cast(null as string) ELSE NM_EMAIL#212343 END AS NM_EMAIL#212420, FL_IND_CEI_VINCULADO#205604, FL_IND_ESTAB_PARTICIPA_PAT#205605, FL_IND_RAIS_NEGAT#205606, FL_IND_SIMPLES#205607, CD_MUNICIPIO#205608, CD_NATUREZA_JURIDICA#205609, CASE WHEN (NM_LOGRADOURO#212344 = {ñ cla) THEN cast(null as string) ELSE NM_LOGRADOURO#212344 END AS NM_LOGRADOURO#212421, NR_LOGRADOURO#205611, CASE WHEN (NM_BAIRRO#212345 = {ñ cla) THEN cast(null as string) ELSE NM_BAIRRO#212345 END AS NM_BAIRRO#212422, NR_TELEFONE_EMPRE#205613L, QT_VINC_ATIV#205614, QT_VINC_CLT#205615, QT_VINC_ESTAT#205616, CASE WHEN (ID_RAZAO_SOCIAL#212346 = {ñ cla) THEN cast(null as string) ELSE ID_RAZAO_SOCIAL#212346 END AS ID_RAZAO_SOCIAL#212423, ... 11 more fields]\n            +- Project [CASE WHEN (nm_arq_in#212263 = {ñ clas) THEN cast(null as string) ELSE nm_arq_in#212263 END AS nm_arq_in#212340, ID_CEI_VINCULADO#205595L, ID_CEPAO_ESTAB#205596, CD_CNAE10_CLASSE#205597, CASE WHEN (ID_CNPJ_CEI#212264 = {ñ clas) THEN cast(null as string) ELSE ID_CNPJ_CEI#212264 END AS ID_CNPJ_CEI#212341, CASE WHEN (ID_CNPJ_RAIZ#212265 = {ñ clas) THEN cast(null as string) ELSE ID_CNPJ_RAIZ#212265 END AS ID_CNPJ_RAIZ#212342, DT_ABERTURA#205600, DT_BAIXA#205601, DT_ENCERRAMENTO#205602, CASE WHEN (NM_EMAIL#212266 = {ñ clas) THEN cast(null as string) ELSE NM_EMAIL#212266 END AS NM_EMAIL#212343, FL_IND_CEI_VINCULADO#205604, FL_IND_ESTAB_PARTICIPA_PAT#205605, FL_IND_RAIS_NEGAT#205606, FL_IND_SIMPLES#205607, CD_MUNICIPIO#205608, CD_NATUREZA_JURIDICA#205609, CASE WHEN (NM_LOGRADOURO#212267 = {ñ clas) THEN cast(null as string) ELSE NM_LOGRADOURO#212267 END AS NM_LOGRADOURO#212344, NR_LOGRADOURO#205611, CASE WHEN (NM_BAIRRO#212268 = {ñ clas) THEN cast(null as string) ELSE NM_BAIRRO#212268 END AS NM_BAIRRO#212345, NR_TELEFONE_EMPRE#205613L, QT_VINC_ATIV#205614, QT_VINC_CLT#205615, QT_VINC_ESTAT#205616, CASE WHEN (ID_RAZAO_SOCIAL#212269 = {ñ clas) THEN cast(null as string) ELSE ID_RAZAO_SOCIAL#212269 END AS ID_RAZAO_SOCIAL#212346, ... 11 more fields]\n               +- Project [CASE WHEN (nm_arq_in#212186 = {ñ class) THEN cast(null as string) ELSE nm_arq_in#212186 END AS nm_arq_in#212263, ID_CEI_VINCULADO#205595L, ID_CEPAO_ESTAB#205596, CD_CNAE10_CLASSE#205597, CASE WHEN (ID_CNPJ_CEI#212187 = {ñ class) THEN cast(null as string) ELSE ID_CNPJ_CEI#212187 END AS ID_CNPJ_CEI#212264, CASE WHEN (ID_CNPJ_RAIZ#212188 = {ñ class) THEN cast(null as string) ELSE ID_CNPJ_RAIZ#212188 END AS ID_CNPJ_RAIZ#212265, DT_ABERTURA#205600, DT_BAIXA#205601, DT_ENCERRAMENTO#205602, CASE WHEN (NM_EMAIL#212189 = {ñ class) THEN cast(null as string) ELSE NM_EMAIL#212189 END AS NM_EMAIL#212266, FL_IND_CEI_VINCULADO#205604, FL_IND_ESTAB_PARTICIPA_PAT#205605, FL_IND_RAIS_NEGAT#205606, FL_IND_SIMPLES#205607, CD_MUNICIPIO#205608, CD_NATUREZA_JURIDICA#205609, CASE WHEN (NM_LOGRADOURO#212190 = {ñ class) THEN cast(null as string) ELSE NM_LOGRADOURO#212190 END AS NM_LOGRADOURO#212267, NR_LOGRADOURO#205611, CASE WHEN (NM_BAIRRO#212191 = {ñ class) THEN cast(null as string) ELSE NM_BAIRRO#212191 END AS NM_BAIRRO#212268, NR_TELEFONE_EMPRE#205613L, QT_VINC_ATIV#205614, QT_VINC_CLT#205615, QT_VINC_ESTAT#205616, CASE WHEN (ID_RAZAO_SOCIAL#212192 = {ñ class) THEN cast(null as string) ELSE ID_RAZAO_SOCIAL#212192 END AS ID_RAZAO_SOCIAL#212269, ... 11 more fields]\n                  +- Project [CASE WHEN (nm_arq_in#212093 = {ñ class}) THEN cast(null as string) ELSE nm_arq_in#212093 END AS nm_arq_in#212186, ID_CEI_VINCULADO#205595L, ID_CEPAO_ESTAB#205596, CD_CNAE10_CLASSE#205597, CASE WHEN (ID_CNPJ_CEI#212094 = {ñ class}) THEN cast(null as string) ELSE ID_CNPJ_CEI#212094 END AS ID_CNPJ_CEI#212187, CASE WHEN (ID_CNPJ_RAIZ#212095 = {ñ class}) THEN cast(null as string) ELSE ID_CNPJ_RAIZ#212095 END AS ID_CNPJ_RAIZ#212188, DT_ABERTURA#205600, DT_BAIXA#205601, DT_ENCERRAMENTO#205602, CASE WHEN (NM_EMAIL#212096 = {ñ class}) THEN cast(null as string) ELSE NM_EMAIL#212096 END AS NM_EMAIL#212189, FL_IND_CEI_VINCULADO#205604, FL_IND_ESTAB_PARTICIPA_PAT#205605, FL_IND_RAIS_NEGAT#205606, FL_IND_SIMPLES#205607, CD_MUNICIPIO#205608, CD_NATUREZA_JURIDICA#205609, CASE WHEN (NM_LOGRADOURO#212097 = {ñ class}) THEN cast(null as string) ELSE NM_LOGRADOURO#212097 END AS NM_LOGRADOURO#212190, NR_LOGRADOURO#205611, CASE WHEN (NM_BAIRRO#212098 = {ñ class}) THEN cast(null as string) ELSE NM_BAIRRO#212098 END AS NM_BAIRRO#212191, NR_TELEFONE_EMPRE#205613L, QT_VINC_ATIV#205614, QT_VINC_CLT#205615, QT_VINC_ESTAT#205616, CASE WHEN (ID_RAZAO_SOCIAL#212099 = {ñ class}) THEN cast(null as string) ELSE ID_RAZAO_SOCIAL#212099 END AS ID_RAZAO_SOCIAL#212192, ... 11 more fields]\n                     +- Project [CASE WHEN (nm_arq_in#211772 = ) THEN cast(null as string) ELSE nm_arq_in#211772 END AS nm_arq_in#212093, ID_CEI_VINCULADO#205595L, ID_CEPAO_ESTAB#205596, CD_CNAE10_CLASSE#205597, CASE WHEN (ID_CNPJ_CEI#211812 = ) THEN cast(null as string) ELSE ID_CNPJ_CEI#211812 END AS ID_CNPJ_CEI#212094, CASE WHEN (ID_CNPJ_RAIZ#211849 = ) THEN cast(null as string) ELSE ID_CNPJ_RAIZ#211849 END AS ID_CNPJ_RAIZ#212095, DT_ABERTURA#205600, DT_BAIXA#205601, DT_ENCERRAMENTO#205602, CASE WHEN (NM_EMAIL#211889 = ) THEN cast(null as string) ELSE NM_EMAIL#211889 END AS NM_EMAIL#212096, FL_IND_CEI_VINCULADO#205604, FL_IND_ESTAB_PARTICIPA_PAT#205605, FL_IND_RAIS_NEGAT#205606, FL_IND_SIMPLES#205607, CD_MUNICIPIO#205608, CD_NATUREZA_JURIDICA#205609, CASE WHEN (NM_LOGRADOURO#211932 = ) THEN cast(null as string) ELSE NM_LOGRADOURO#211932 END AS NM_LOGRADOURO#212097, NR_LOGRADOURO#205611, CASE WHEN (NM_BAIRRO#211970 = ) THEN cast(null as string) ELSE NM_BAIRRO#211970 END AS NM_BAIRRO#212098, NR_TELEFONE_EMPRE#205613L, QT_VINC_ATIV#205614, QT_VINC_CLT#205615, QT_VINC_ESTAT#205616, CASE WHEN (ID_RAZAO_SOCIAL#212011 = ) THEN cast(null as string) ELSE ID_RAZAO_SOCIAL#212011 END AS ID_RAZAO_SOCIAL#212099, ... 11 more fields]\n                        +- Project [nm_arq_in#211772, ID_CEI_VINCULADO#205595L, ID_CEPAO_ESTAB#205596, CD_CNAE10_CLASSE#205597, ID_CNPJ_CEI#211812, ID_CNPJ_RAIZ#211849, DT_ABERTURA#205600, DT_BAIXA#205601, DT_ENCERRAMENTO#205602, NM_EMAIL#211889, FL_IND_CEI_VINCULADO#205604, FL_IND_ESTAB_PARTICIPA_PAT#205605, FL_IND_RAIS_NEGAT#205606, FL_IND_SIMPLES#205607, CD_MUNICIPIO#205608, CD_NATUREZA_JURIDICA#205609, NM_LOGRADOURO#211932, NR_LOGRADOURO#205611, NM_BAIRRO#211970, NR_TELEFONE_EMPRE#205613L, QT_VINC_ATIV#205614, QT_VINC_CLT#205615, QT_VINC_ESTAT#205616, trim(ID_RAZAO_SOCIAL#205617, None) AS ID_RAZAO_SOCIAL#212011, ... 11 more fields]\n                           +- Project [nm_arq_in#211772, ID_CEI_VINCULADO#205595L, ID_CEPAO_ESTAB#205596, CD_CNAE10_CLASSE#205597, ID_CNPJ_CEI#211812, ID_CNPJ_RAIZ#211849, DT_ABERTURA#205600, DT_BAIXA#205601, DT_ENCERRAMENTO#205602, NM_EMAIL#211889, FL_IND_CEI_VINCULADO#205604, FL_IND_ESTAB_PARTICIPA_PAT#205605, FL_IND_RAIS_NEGAT#205606, FL_IND_SIMPLES#205607, CD_MUNICIPIO#205608, CD_NATUREZA_JURIDICA#205609, NM_LOGRADOURO#211932, NR_LOGRADOURO#205611, trim(NM_BAIRRO#205612, None) AS NM_BAIRRO#211970, NR_TELEFONE_EMPRE#205613L, QT_VINC_ATIV#205614, QT_VINC_CLT#205615, QT_VINC_ESTAT#205616, ID_RAZAO_SOCIAL#205617, ... 11 more fields]\n                              +- Project [nm_arq_in#211772, ID_CEI_VINCULADO#205595L, ID_CEPAO_ESTAB#205596, CD_CNAE10_CLASSE#205597, ID_CNPJ_CEI#211812, ID_CNPJ_RAIZ#211849, DT_ABERTURA#205600, DT_BAIXA#205601, DT_ENCERRAMENTO#205602, NM_EMAIL#211889, FL_IND_CEI_VINCULADO#205604, FL_IND_ESTAB_PARTICIPA_PAT#205605, FL_IND_RAIS_NEGAT#205606, FL_IND_SIMPLES#205607, CD_MUNICIPIO#205608, CD_NATUREZA_JURIDICA#205609, trim(NM_LOGRADOURO#205610, None) AS NM_LOGRADOURO#211932, NR_LOGRADOURO#205611, NM_BAIRRO#205612, NR_TELEFONE_EMPRE#205613L, QT_VINC_ATIV#205614, QT_VINC_CLT#205615, QT_VINC_ESTAT#205616, ID_RAZAO_SOCIAL#205617, ... 11 more fields]\n                                 +- Project [nm_arq_in#211772, ID_CEI_VINCULADO#205595L, ID_CEPAO_ESTAB#205596, CD_CNAE10_CLASSE#205597, ID_CNPJ_CEI#211812, ID_CNPJ_RAIZ#211849, DT_ABERTURA#205600, DT_BAIXA#205601, DT_ENCERRAMENTO#205602, trim(NM_EMAIL#205603, None) AS NM_EMAIL#211889, FL_IND_CEI_VINCULADO#205604, FL_IND_ESTAB_PARTICIPA_PAT#205605, FL_IND_RAIS_NEGAT#205606, FL_IND_SIMPLES#205607, CD_MUNICIPIO#205608, CD_NATUREZA_JURIDICA#205609, NM_LOGRADOURO#205610, NR_LOGRADOURO#205611, NM_BAIRRO#205612, NR_TELEFONE_EMPRE#205613L, QT_VINC_ATIV#205614, QT_VINC_CLT#205615, QT_VINC_ESTAT#205616, ID_RAZAO_SOCIAL#205617, ... 11 more fields]\n                                    +- Project [nm_arq_in#211772, ID_CEI_VINCULADO#205595L, ID_CEPAO_ESTAB#205596, CD_CNAE10_CLASSE#205597, ID_CNPJ_CEI#211812, trim(ID_CNPJ_RAIZ#205599, None) AS ID_CNPJ_RAIZ#211849, DT_ABERTURA#205600, DT_BAIXA#205601, DT_ENCERRAMENTO#205602, NM_EMAIL#205603, FL_IND_CEI_VINCULADO#205604, FL_IND_ESTAB_PARTICIPA_PAT#205605, FL_IND_RAIS_NEGAT#205606, FL_IND_SIMPLES#205607, CD_MUNICIPIO#205608, CD_NATUREZA_JURIDICA#205609, NM_LOGRADOURO#205610, NR_LOGRADOURO#205611, NM_BAIRRO#205612, NR_TELEFONE_EMPRE#205613L, QT_VINC_ATIV#205614, QT_VINC_CLT#205615, QT_VINC_ESTAT#205616, ID_RAZAO_SOCIAL#205617, ... 11 more fields]\n                                       +- Project [nm_arq_in#211772, ID_CEI_VINCULADO#205595L, ID_CEPAO_ESTAB#205596, CD_CNAE10_CLASSE#205597, trim(ID_CNPJ_CEI#205598, None) AS ID_CNPJ_CEI#211812, ID_CNPJ_RAIZ#205599, DT_ABERTURA#205600, DT_BAIXA#205601, DT_ENCERRAMENTO#205602, NM_EMAIL#205603, FL_IND_CEI_VINCULADO#205604, FL_IND_ESTAB_PARTICIPA_PAT#205605, FL_IND_RAIS_NEGAT#205606, FL_IND_SIMPLES#205607, CD_MUNICIPIO#205608, CD_NATUREZA_JURIDICA#205609, NM_LOGRADOURO#205610, NR_LOGRADOURO#205611, NM_BAIRRO#205612, NR_TELEFONE_EMPRE#205613L, QT_VINC_ATIV#205614, QT_VINC_CLT#205615, QT_VINC_ESTAT#205616, ID_RAZAO_SOCIAL#205617, ... 11 more fields]\n                                          +- Project [trim(nm_arq_in#205594, None) AS nm_arq_in#211772, ID_CEI_VINCULADO#205595L, ID_CEPAO_ESTAB#205596, CD_CNAE10_CLASSE#205597, ID_CNPJ_CEI#205598, ID_CNPJ_RAIZ#205599, DT_ABERTURA#205600, DT_BAIXA#205601, DT_ENCERRAMENTO#205602, NM_EMAIL#205603, FL_IND_CEI_VINCULADO#205604, FL_IND_ESTAB_PARTICIPA_PAT#205605, FL_IND_RAIS_NEGAT#205606, FL_IND_SIMPLES#205607, CD_MUNICIPIO#205608, CD_NATUREZA_JURIDICA#205609, NM_LOGRADOURO#205610, NR_LOGRADOURO#205611, NM_BAIRRO#205612, NR_TELEFONE_EMPRE#205613L, QT_VINC_ATIV#205614, QT_VINC_CLT#205615, QT_VINC_ESTAT#205616, ID_RAZAO_SOCIAL#205617, ... 11 more fields]\n                                             +- Relation [nm_arq_in#205594,ID_CEI_VINCULADO#205595L,ID_CEPAO_ESTAB#205596,CD_CNAE10_CLASSE#205597,ID_CNPJ_CEI#205598,ID_CNPJ_RAIZ#205599,DT_ABERTURA#205600,DT_BAIXA#205601,DT_ENCERRAMENTO#205602,NM_EMAIL#205603,FL_IND_CEI_VINCULADO#205604,FL_IND_ESTAB_PARTICIPA_PAT#205605,FL_IND_RAIS_NEGAT#205606,FL_IND_SIMPLES#205607,CD_MUNICIPIO#205608,CD_NATUREZA_JURIDICA#205609,NM_LOGRADOURO#205610,NR_LOGRADOURO#205611,NM_BAIRRO#205612,NR_TELEFONE_EMPRE#205613L,QT_VINC_ATIV#205614,QT_VINC_CLT#205615,QT_VINC_ESTAT#205616,ID_RAZAO_SOCIAL#205617,... 11 more fields] parquet\n",
       "errorTraceType": "ansi",
       "metadata": {},
       "type": "ipynbError"
      }
     },
     "output_type": "display_data"
    }
   ],
   "source": [
    "cf.check_ba_doc(df, parse_ba=var_prm_dict, sheet=sheet_name)\n",
    "df = df.select(*__transform_columns(var_prm_dict[sheet_name]))"
   ]
  },
  {
   "cell_type": "code",
   "execution_count": 0,
   "metadata": {
    "application/vnd.databricks.v1+cell": {
     "cellMetadata": {},
     "inputWidgets": {},
     "nuid": "7a7fa419-d119-44a8-9ded-7fbf4cca512d",
     "showTitle": false,
     "title": ""
    }
   },
   "outputs": [],
   "source": [
    "map_dict = {\n",
    "  '11': 'RO',\n",
    "  '12': 'AC',\n",
    "  '13': 'AM',\n",
    "  '14': 'RR',\n",
    "  '15': 'PA',\n",
    "  '16': 'AP',\n",
    "  '17': 'TO',\n",
    "  '21': 'MA',\n",
    "  '22': 'PI',\n",
    "  '23': 'CE',\n",
    "  '24': 'RN',\n",
    "  '25': 'PB',\n",
    "  '26': 'PE',\n",
    "  '27': 'AL',\n",
    "  '28': 'SE',\n",
    "  '29': 'BA',\n",
    "  '31': 'MG',\n",
    "  '32': 'ES',\n",
    "  '33': 'RJ',\n",
    "  '35': 'SP',\n",
    "  '41': 'PR',\n",
    "  '42': 'SC',\n",
    "  '43': 'RS',\n",
    "  '50': 'MS',\n",
    "  '51': 'MT',\n",
    "  '52': 'GO',\n",
    "  '53': 'DF'\n",
    "}\n",
    "df = df.replace(map_dict, subset=['SG_UF'])"
   ]
  },
  {
   "cell_type": "code",
   "execution_count": 0,
   "metadata": {
    "application/vnd.databricks.v1+cell": {
     "cellMetadata": {},
     "inputWidgets": {},
     "nuid": "e2e6d119-9ae9-4d18-986c-205f37d2c1b2",
     "showTitle": false,
     "title": ""
    }
   },
   "outputs": [],
   "source": [
    "map_dict = {\n",
    "  '01': 'ZERO',\n",
    "  '02': 'ATE 4',\n",
    "  '03': 'DE 5 A 9',\n",
    "  '04': 'DE 10 A 19',\n",
    "  '05': 'DE 20 A 49',\n",
    "  '06': 'DE 50 A 99',\n",
    "  '07': 'DE 100 A 249',\n",
    "  '08': 'DE 250 A 499',\n",
    "  '09': 'DE 500 A 999',\n",
    "  '10': '1000 OU MAIS',\n",
    "  '-1': 'IGNORADO'\n",
    "}\n",
    "df = df.replace(map_dict, subset=['DS_TAMANHO_ESTABELECIMENTO'])"
   ]
  },
  {
   "cell_type": "code",
   "execution_count": 0,
   "metadata": {
    "application/vnd.databricks.v1+cell": {
     "cellMetadata": {},
     "inputWidgets": {},
     "nuid": "4322e59f-14b9-4308-a570-15379ee58a7d",
     "showTitle": false,
     "title": ""
    }
   },
   "outputs": [],
   "source": [
    "df = tcf.add_control_fields(df, adf)\n",
    "df.write.mode('overwrite').partitionBy('NR_ANO').parquet(path=adl_trs)"
   ]
  }
 ],
 "metadata": {
  "application/vnd.databricks.v1+notebook": {
   "dashboards": [],
   "environmentMetadata": null,
   "language": "python",
   "notebookMetadata": {
    "pythonIndentUnit": 2
   },
   "notebookName": "raw_trs_mte_rais_estabelecimento_2018_2023",
   "widgets": {
    "env": {
     "currentValue": "dev",
     "nuid": "ef2a8122-a1c4-48a8-a056-def86e4f9036",
     "typedWidgetInfo": {
      "autoCreated": false,
      "defaultValue": "dev",
      "label": null,
      "name": "env",
      "options": {
       "validationRegex": null,
       "widgetDisplayType": "Text"
      },
      "parameterDataType": "String"
     },
     "widgetInfo": {
      "defaultValue": "dev",
      "label": null,
      "name": "env",
      "options": {
       "autoCreated": null,
       "validationRegex": null,
       "widgetType": "text"
      },
      "widgetType": "text"
     }
    },
    "storage": {
     "currentValue": "{\"url\": \"https://cnibigdatadlsgen2.dfs.core.windows.net\", \"container\": \"datalake\"}",
     "nuid": "ba2a0950-3674-41ba-9ccb-fcbc17e39ded",
     "typedWidgetInfo": {
      "autoCreated": false,
      "defaultValue": "{\"url\": \"https://cnibigdatadlsgen2.dfs.core.windows.net\", \"container\": \"datalake\"}",
      "label": null,
      "name": "storage",
      "options": {
       "validationRegex": null,
       "widgetDisplayType": "Text"
      },
      "parameterDataType": "String"
     },
     "widgetInfo": {
      "defaultValue": "{\"url\": \"https://cnibigdatadlsgen2.dfs.core.windows.net\", \"container\": \"datalake\"}",
      "label": null,
      "name": "storage",
      "options": {
       "autoCreated": null,
       "validationRegex": null,
       "widgetType": "text"
      },
      "widgetType": "text"
     }
    },
    "user_parameters": {
     "currentValue": "{\"null\": \"null\"}",
     "nuid": "870bdb44-153a-43e3-836d-bf4a1bda6b21",
     "typedWidgetInfo": {
      "autoCreated": false,
      "defaultValue": "{\"null\": \"null\"}",
      "label": null,
      "name": "user_parameters",
      "options": {
       "validationRegex": null,
       "widgetDisplayType": "Text"
      },
      "parameterDataType": "String"
     },
     "widgetInfo": {
      "defaultValue": "{\"null\": \"null\"}",
      "label": null,
      "name": "user_parameters",
      "options": {
       "autoCreated": null,
       "validationRegex": null,
       "widgetType": "text"
      },
      "widgetType": "text"
     }
    }
   }
  },
  "language_info": {
   "name": "python"
  }
 },
 "nbformat": 4,
 "nbformat_minor": 0
}
