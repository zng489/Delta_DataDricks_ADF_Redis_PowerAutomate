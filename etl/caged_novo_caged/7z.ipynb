{
 "cells": [
  {
   "cell_type": "code",
   "execution_count": 2,
   "metadata": {},
   "outputs": [
    {
     "name": "stdout",
     "output_type": "stream",
     "text": [
      "Extracting C:\\Users\\zhang.yuan\\Desktop\\2020\\202001\\CAGEDMOV202001ID.7z...\n",
      "Extracted CAGEDMOV202001ID.7z to C:\\Users\\zhang.yuan\\Desktop\\2020\\202001\\CAGEDMOV202001ID\n"
     ]
    }
   ],
   "source": [
    "import os\n",
    "import py7zr\n",
    "\n",
    "# Specify the directory containing the .7z files\n",
    "directory = r'C:\\Users\\zhang.yuan\\Desktop\\2020\\202001'\n",
    "\n",
    "# Loop through each file in the directory\n",
    "for filename in os.listdir(directory):\n",
    "    if filename.endswith('.7z'):\n",
    "        file_path = os.path.join(directory, filename)\n",
    "        print(f'Extracting {file_path}...')\n",
    "        \n",
    "        # Extract the 7z file\n",
    "        with py7zr.SevenZipFile(file_path, mode='r') as archive:\n",
    "            archive.extractall(path=os.path.join(directory, filename[:-3]))  # Create a folder for each extracted file\n",
    "\n",
    "        print(f'Extracted {filename} to {os.path.join(directory, filename[:-3])}')\n"
   ]
  },
  {
   "cell_type": "code",
   "execution_count": 9,
   "metadata": {},
   "outputs": [
    {
     "name": "stdout",
     "output_type": "stream",
     "text": [
      "Extraindo C:\\Users\\zhang.yuan\\Desktop\\2024\\202401\\CAGEDEXC202401ID.7z...\n",
      "Extraído CAGEDEXC202401ID.7z para C:\\Users\\zhang.yuan\\Desktop\\2024\\202401\\CAGEDEXC202401ID\n",
      "Extraindo C:\\Users\\zhang.yuan\\Desktop\\2024\\202401\\CAGEDFOR202401ID.7z...\n",
      "Extraído CAGEDFOR202401ID.7z para C:\\Users\\zhang.yuan\\Desktop\\2024\\202401\\CAGEDFOR202401ID\n",
      "Extraindo C:\\Users\\zhang.yuan\\Desktop\\2024\\202401\\CAGEDMOV202401ID.7z...\n",
      "Extraído CAGEDMOV202401ID.7z para C:\\Users\\zhang.yuan\\Desktop\\2024\\202401\\CAGEDMOV202401ID\n",
      "Extraindo C:\\Users\\zhang.yuan\\Desktop\\2024\\202402\\CAGEDEXC202402ID.7z...\n",
      "Extraído CAGEDEXC202402ID.7z para C:\\Users\\zhang.yuan\\Desktop\\2024\\202402\\CAGEDEXC202402ID\n",
      "Extraindo C:\\Users\\zhang.yuan\\Desktop\\2024\\202402\\CAGEDFOR202402ID.7z...\n",
      "Extraído CAGEDFOR202402ID.7z para C:\\Users\\zhang.yuan\\Desktop\\2024\\202402\\CAGEDFOR202402ID\n",
      "Extraindo C:\\Users\\zhang.yuan\\Desktop\\2024\\202402\\CAGEDMOV202402ID.7z...\n",
      "Extraído CAGEDMOV202402ID.7z para C:\\Users\\zhang.yuan\\Desktop\\2024\\202402\\CAGEDMOV202402ID\n",
      "Extraindo C:\\Users\\zhang.yuan\\Desktop\\2024\\202403\\CAGEDEXC202403ID.7z...\n",
      "Extraído CAGEDEXC202403ID.7z para C:\\Users\\zhang.yuan\\Desktop\\2024\\202403\\CAGEDEXC202403ID\n",
      "Extraindo C:\\Users\\zhang.yuan\\Desktop\\2024\\202403\\CAGEDFOR202403ID.7z...\n",
      "Extraído CAGEDFOR202403ID.7z para C:\\Users\\zhang.yuan\\Desktop\\2024\\202403\\CAGEDFOR202403ID\n",
      "Extraindo C:\\Users\\zhang.yuan\\Desktop\\2024\\202403\\CAGEDMOV202403ID.7z...\n",
      "Extraído CAGEDMOV202403ID.7z para C:\\Users\\zhang.yuan\\Desktop\\2024\\202403\\CAGEDMOV202403ID\n",
      "Extraindo C:\\Users\\zhang.yuan\\Desktop\\2024\\202404\\CAGEDEXC202404ID.7z...\n",
      "Extraído CAGEDEXC202404ID.7z para C:\\Users\\zhang.yuan\\Desktop\\2024\\202404\\CAGEDEXC202404ID\n",
      "Extraindo C:\\Users\\zhang.yuan\\Desktop\\2024\\202404\\CAGEDFOR202404ID.7z...\n",
      "Extraído CAGEDFOR202404ID.7z para C:\\Users\\zhang.yuan\\Desktop\\2024\\202404\\CAGEDFOR202404ID\n",
      "Extraindo C:\\Users\\zhang.yuan\\Desktop\\2024\\202404\\CAGEDMOV202404ID.7z...\n",
      "Extraído CAGEDMOV202404ID.7z para C:\\Users\\zhang.yuan\\Desktop\\2024\\202404\\CAGEDMOV202404ID\n",
      "Extraindo C:\\Users\\zhang.yuan\\Desktop\\2024\\202405\\CAGEDEXC202405ID.7z...\n",
      "Extraído CAGEDEXC202405ID.7z para C:\\Users\\zhang.yuan\\Desktop\\2024\\202405\\CAGEDEXC202405ID\n",
      "Extraindo C:\\Users\\zhang.yuan\\Desktop\\2024\\202405\\CAGEDFOR202405ID.7z...\n",
      "Extraído CAGEDFOR202405ID.7z para C:\\Users\\zhang.yuan\\Desktop\\2024\\202405\\CAGEDFOR202405ID\n",
      "Extraindo C:\\Users\\zhang.yuan\\Desktop\\2024\\202405\\CAGEDMOV202405ID.7z...\n",
      "Extraído CAGEDMOV202405ID.7z para C:\\Users\\zhang.yuan\\Desktop\\2024\\202405\\CAGEDMOV202405ID\n",
      "Extraindo C:\\Users\\zhang.yuan\\Desktop\\2024\\202406\\CAGEDEXC202406ID.7z...\n",
      "Extraído CAGEDEXC202406ID.7z para C:\\Users\\zhang.yuan\\Desktop\\2024\\202406\\CAGEDEXC202406ID\n",
      "Extraindo C:\\Users\\zhang.yuan\\Desktop\\2024\\202406\\CAGEDFOR202406ID.7z...\n",
      "Extraído CAGEDFOR202406ID.7z para C:\\Users\\zhang.yuan\\Desktop\\2024\\202406\\CAGEDFOR202406ID\n",
      "Extraindo C:\\Users\\zhang.yuan\\Desktop\\2024\\202406\\CAGEDMOV202406ID.7z...\n",
      "Extraído CAGEDMOV202406ID.7z para C:\\Users\\zhang.yuan\\Desktop\\2024\\202406\\CAGEDMOV202406ID\n",
      "Extraindo C:\\Users\\zhang.yuan\\Desktop\\2024\\202407\\CAGEDEXC202407ID.7z...\n",
      "Extraído CAGEDEXC202407ID.7z para C:\\Users\\zhang.yuan\\Desktop\\2024\\202407\\CAGEDEXC202407ID\n",
      "Extraindo C:\\Users\\zhang.yuan\\Desktop\\2024\\202407\\CAGEDFOR202407ID.7z...\n",
      "Extraído CAGEDFOR202407ID.7z para C:\\Users\\zhang.yuan\\Desktop\\2024\\202407\\CAGEDFOR202407ID\n",
      "Extraindo C:\\Users\\zhang.yuan\\Desktop\\2024\\202407\\CAGEDMOV202407ID.7z...\n",
      "Extraído CAGEDMOV202407ID.7z para C:\\Users\\zhang.yuan\\Desktop\\2024\\202407\\CAGEDMOV202407ID\n",
      "Extraindo C:\\Users\\zhang.yuan\\Desktop\\2024\\202408\\CAGEDEXC202408ID.7z...\n",
      "Extraído CAGEDEXC202408ID.7z para C:\\Users\\zhang.yuan\\Desktop\\2024\\202408\\CAGEDEXC202408ID\n",
      "Extraindo C:\\Users\\zhang.yuan\\Desktop\\2024\\202408\\CAGEDFOR202408ID.7z...\n",
      "Extraído CAGEDFOR202408ID.7z para C:\\Users\\zhang.yuan\\Desktop\\2024\\202408\\CAGEDFOR202408ID\n",
      "Extraindo C:\\Users\\zhang.yuan\\Desktop\\2024\\202408\\CAGEDMOV202408ID.7z...\n",
      "Extraído CAGEDMOV202408ID.7z para C:\\Users\\zhang.yuan\\Desktop\\2024\\202408\\CAGEDMOV202408ID\n",
      "Extraindo C:\\Users\\zhang.yuan\\Desktop\\2024\\202409\\CAGEDEXC202409ID.7z...\n",
      "Extraído CAGEDEXC202409ID.7z para C:\\Users\\zhang.yuan\\Desktop\\2024\\202409\\CAGEDEXC202409ID\n",
      "Extraindo C:\\Users\\zhang.yuan\\Desktop\\2024\\202409\\CAGEDFOR202409ID.7z...\n",
      "Extraído CAGEDFOR202409ID.7z para C:\\Users\\zhang.yuan\\Desktop\\2024\\202409\\CAGEDFOR202409ID\n",
      "Extraindo C:\\Users\\zhang.yuan\\Desktop\\2024\\202409\\CAGEDMOV202409ID.7z...\n",
      "Extraído CAGEDMOV202409ID.7z para C:\\Users\\zhang.yuan\\Desktop\\2024\\202409\\CAGEDMOV202409ID\n",
      "Diretório C:\\Users\\zhang.yuan\\Desktop\\2024\\202410 não encontrado!\n",
      "Diretório C:\\Users\\zhang.yuan\\Desktop\\2024\\202411 não encontrado!\n",
      "Diretório C:\\Users\\zhang.yuan\\Desktop\\2024\\202412 não encontrado!\n"
     ]
    }
   ],
   "source": [
    "import os\n",
    "import py7zr\n",
    "\n",
    "# Loop através dos diretórios de 202001 até 202012\n",
    "for year_month in range(202401, 202413):  # 202001 até 202012\n",
    "    directory = rf'C:\\Users\\zhang.yuan\\Desktop\\2024\\{year_month}'  # Caminho do diretório atual\n",
    "\n",
    "    # Verificar se o diretório existe\n",
    "    if os.path.exists(directory):\n",
    "        # Loop através de cada arquivo no diretório\n",
    "        for filename in os.listdir(directory):\n",
    "            if filename.endswith('.7z'):  # Verifica se o arquivo é .7z\n",
    "                file_path = os.path.join(directory, filename)\n",
    "                print(f'Extraindo {file_path}...')\n",
    "\n",
    "                # Extrair o arquivo .7z\n",
    "                with py7zr.SevenZipFile(file_path, mode='r') as archive:\n",
    "                    # Cria uma pasta para cada arquivo extraído\n",
    "                    archive.extractall(path=os.path.join(directory, filename[:-3]))\n",
    "\n",
    "                print(f'Extraído {filename} para {os.path.join(directory, filename[:-3])}')\n",
    "    else:\n",
    "        print(f'Diretório {directory} não encontrado!')\n"
   ]
  },
  {
   "cell_type": "code",
   "execution_count": null,
   "metadata": {},
   "outputs": [],
   "source": []
  }
 ],
 "metadata": {
  "kernelspec": {
   "display_name": "oni_bot",
   "language": "python",
   "name": "python3"
  },
  "language_info": {
   "codemirror_mode": {
    "name": "ipython",
    "version": 3
   },
   "file_extension": ".py",
   "mimetype": "text/x-python",
   "name": "python",
   "nbconvert_exporter": "python",
   "pygments_lexer": "ipython3",
   "version": "3.8.10"
  }
 },
 "nbformat": 4,
 "nbformat_minor": 2
}
