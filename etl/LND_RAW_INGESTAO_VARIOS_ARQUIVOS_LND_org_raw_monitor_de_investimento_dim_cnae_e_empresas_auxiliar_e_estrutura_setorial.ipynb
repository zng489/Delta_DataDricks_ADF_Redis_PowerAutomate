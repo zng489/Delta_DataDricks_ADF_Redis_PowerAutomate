{
 "cells": [
  {
   "cell_type": "code",
   "execution_count": 0,
   "metadata": {
    "application/vnd.databricks.v1+cell": {
     "cellMetadata": {
      "byteLimit": 2048000,
      "rowLimit": 10000
     },
     "inputWidgets": {},
     "nuid": "ac4c8c29-556a-4b36-bac6-adf8410ca516",
     "showTitle": false,
     "title": ""
    }
   },
   "outputs": [],
   "source": [
    "file = {'namespace':'/oni','type_raw':'/usr', 'file_folder':'/observatorio_nacional/monitor_investimentos/painel_monitor', 'file_1':'/empresas_auxiliar/','file_2':'/dim_cnae/','file_3':'/estrutura_setorial/', 'prm_path':'', 'extension':'txt','column_delimiter':'','encoding':'','null_value':''}\n",
    "\n",
    "adf = { 'adf_factory_name': 'cnibigdatafactory', 'adf_pipeline_name': 'raw_trs_tb_email', 'adf_pipeline_run_id': '61fc4f3c-c592-426d-bb36-c85cb184bb82', 'adf_trigger_id': '92abb4ec-2b1f-44e0-8245-7bc165f91016', 'adf_trigger_name': '92abb4ec-2b1f-44e0-8245-7bc165f91016', 'adf_trigger_time': '2024-05-07T00:58:48.0960873Z', 'adf_trigger_type': 'PipelineActivity' }\n",
    "\n",
    "dls = { 'folders': { 'landing': '/tmp/dev/uld', 'error': '/tmp/dev/err', 'staging': '/tmp/dev/stg', 'log': '/tmp/dev/log', 'raw': '/tmp/dev/raw', 'archive': '/tmp/dev/ach' }, 'systems': { 'raw': 'usr' }, 'path_prefix': '' }\n",
    "\n",
    "\n",
    "dbutils.widgets.text('user_parameters', '{\"null\": \"null\"}')\n",
    "\n",
    "dbutils.widgets.text('env', 'dev')\n",
    "\n",
    "dbutils.widgets.text('storage', '{\"url\": \"https://cnibigdatadlsgen2.dfs.core.windows.net\", \"container\": \"datalake\"}')"
   ]
  },
  {
   "cell_type": "code",
   "execution_count": 0,
   "metadata": {
    "application/vnd.databricks.v1+cell": {
     "cellMetadata": {
      "byteLimit": 2048000,
      "rowLimit": 10000
     },
     "inputWidgets": {},
     "nuid": "cd67c09e-5625-4092-9721-61320d58210c",
     "showTitle": false,
     "title": ""
    }
   },
   "outputs": [
    {
     "output_type": "stream",
     "name": "stderr",
     "output_type": "stream",
     "text": [
      "WARNING:root:No input widget named 'adf' is defined\nWARNING:root:No input widget named 'dls' is defined\nWARNING:root:No input widget named 'table' is defined\nWARNING:root:No input widget named 'tables' is defined\nWARNING:root:No input widget named 'file' is defined\nWARNING:root:Cluster Name: fornecedor_dev\nWARNING:root:Parsed env value is 'dev', and type <class 'str'>\nWARNING:root:Execution env: 'dev'\nWARNING:root:Cluster is interactive: 'True'\n"
     ]
    }
   ],
   "source": [
    "# Biblioteca cni_connectors, que dá acesso aos dados no datalake\n",
    "from cni_connectors import adls_connector as adls_conn\n",
    "\n",
    "# A biblioteca criada para facilitar a declaração dos testes. É necessário importá-la.\n",
    "### from datatest.gx_context_provider import GXContextProvider\n",
    "\n",
    "# Essa declaração é necessária em todos os notebooks. Somente através dela podemos acessar os dados no datalake.\n",
    "var_adls_uri, notebook_params = adls_conn.connect_adls()\n",
    "\n",
    "from pyspark.sql.functions import udf, from_utc_timestamp, current_timestamp, lit, input_file_name, monotonically_increasing_id, substring_index\n",
    "from trs_control_field import trs_control_field as tcf\n",
    "import pyspark.sql.functions as f\n",
    "import crawler.functions as cf\n",
    "from pyspark.sql import SparkSession\n",
    "import time\n",
    "import pandas as pd\n",
    "from pyspark.sql.functions import col, when, explode, lit\n",
    "import json\n",
    "from unicodedata import normalize \n",
    "import datetime\n",
    "import re\n",
    "from core.string_utils import normalize_replace"
   ]
  },
  {
   "cell_type": "markdown",
   "metadata": {
    "application/vnd.databricks.v1+cell": {
     "cellMetadata": {},
     "inputWidgets": {},
     "nuid": "c1e39e22-e3ef-44e3-b7ea-bd9b1d833b3d",
     "showTitle": false,
     "title": ""
    }
   },
   "source": [
    "### Raw specific parameter section"
   ]
  },
  {
   "cell_type": "code",
   "execution_count": 0,
   "metadata": {
    "application/vnd.databricks.v1+cell": {
     "cellMetadata": {
      "byteLimit": 2048000,
      "rowLimit": 10000
     },
     "inputWidgets": {},
     "nuid": "75e0c8de-a2da-4e58-9cd6-005f1beafaf5",
     "showTitle": false,
     "title": ""
    }
   },
   "outputs": [],
   "source": [
    "# Esses são os dicionários de configuração da transformação enviados pelo ADF e acessados via widgets. Os diretórios de origem e destino das tabelas são compostos por valores em 'dls' e 'tables'.\n",
    "# Parametros necessario para na ingestão\n",
    "\n",
    "file = notebook_params.var_file\n",
    "dls = notebook_params.var_dls\n",
    "adf = notebook_params.var_adf"
   ]
  },
  {
   "cell_type": "code",
   "execution_count": 0,
   "metadata": {
    "application/vnd.databricks.v1+cell": {
     "cellMetadata": {
      "byteLimit": 2048000,
      "rowLimit": 10000
     },
     "inputWidgets": {},
     "nuid": "0ad98e8d-5ecc-4559-a5c6-283200a4e33e",
     "showTitle": false,
     "title": ""
    }
   },
   "outputs": [],
   "source": [
    "uld = dls['folders']['landing']\n",
    "raw = dls['folders']['raw']\n",
    "usr = dls['systems']['raw']"
   ]
  },
  {
   "cell_type": "code",
   "execution_count": 0,
   "metadata": {
    "application/vnd.databricks.v1+cell": {
     "cellMetadata": {
      "byteLimit": 2048000,
      "rowLimit": 10000
     },
     "inputWidgets": {},
     "nuid": "c4bf2b75-899f-4c71-84e4-39e21a7955ab",
     "showTitle": false,
     "title": ""
    }
   },
   "outputs": [],
   "source": [
    "uld_path_1 = \"{uld}{namespace}{file_folder}{file_1}\".format(uld=uld, namespace=file['namespace'], file_folder=file['file_folder'], file_1=file['file_1'])\n",
    "uld_path_2 = \"{uld}{namespace}{file_folder}{file_2}\".format(uld=uld, namespace=file['namespace'], file_folder=file['file_folder'], file_2=file['file_2'])\n",
    "uld_path_3 = \"{uld}{namespace}{file_folder}{file_3}\".format(uld=uld, namespace=file['namespace'], file_folder=file['file_folder'], file_3=file['file_3'])\n",
    "\n",
    "adl_uld_1 = f\"{var_adls_uri}{uld_path_1}\"\n",
    "adl_uld_2 = f\"{var_adls_uri}{uld_path_2}\"\n",
    "adl_uld_3 = f\"{var_adls_uri}{uld_path_3}\""
   ]
  },
  {
   "cell_type": "code",
   "execution_count": 0,
   "metadata": {
    "application/vnd.databricks.v1+cell": {
     "cellMetadata": {
      "byteLimit": 2048000,
      "rowLimit": 10000
     },
     "inputWidgets": {},
     "nuid": "2f6ff065-2268-4977-8596-b7485d944345",
     "showTitle": false,
     "title": ""
    }
   },
   "outputs": [],
   "source": [
    "raw_path_1 = \"{raw}{type_raw}{namespace}{file_folder}{file_1}\".format(raw=raw, type_raw=file['type_raw'], namespace=file['namespace'], file_folder=file['file_folder'], file_1=file['file_1'])\n",
    "raw_path_2 = \"{raw}{type_raw}{namespace}{file_folder}{file_2}\".format(raw=raw, type_raw=file['type_raw'], namespace=file['namespace'], file_folder=file['file_folder'], file_2=file['file_2'])\n",
    "raw_path_3 = \"{raw}{type_raw}{namespace}{file_folder}{file_3}\".format(raw=raw, type_raw=file['type_raw'], namespace=file['namespace'], file_folder=file['file_folder'], file_3=file['file_3'])\n",
    "\n",
    "adl_raw_1 = f\"{var_adls_uri}{raw_path_1}\"\n",
    "adl_raw_2 = f\"{var_adls_uri}{raw_path_2}\"\n",
    "adl_raw_3 = f\"{var_adls_uri}{raw_path_3}\""
   ]
  },
  {
   "cell_type": "markdown",
   "metadata": {
    "application/vnd.databricks.v1+cell": {
     "cellMetadata": {},
     "inputWidgets": {},
     "nuid": "4c3d4c22-6d4b-4407-aedd-106be39ee3c9",
     "showTitle": false,
     "title": ""
    }
   },
   "source": [
    "### Apply transformations and save dataframe"
   ]
  },
  {
   "cell_type": "code",
   "execution_count": 0,
   "metadata": {
    "application/vnd.databricks.v1+cell": {
     "cellMetadata": {
      "byteLimit": 2048000,
      "rowLimit": 10000
     },
     "inputWidgets": {},
     "nuid": "b03f545c-2db2-4e7d-896a-11358ec5264b",
     "showTitle": false,
     "title": ""
    }
   },
   "outputs": [],
   "source": [
    "df_1 = spark.read.format(\"csv\").option(\"header\",\"true\").option(\"encoding\", \"UTF-8\").option('sep', ';').load(adl_uld_1, mode=\"FAILFAST\", ignoreLeadingWhiteSpace=True, ignoreTrailingWhiteSpace=True,inferSchema=True)\n",
    "for c in df_1.columns:\n",
    "  df_1 = df_1.withColumnRenamed(c, re.sub(r'[,;{}()\\n\\t=-]', '', normalize('NFKD', c).encode('ASCII', 'ignore').decode('ASCII').replace(' ', '_').replace('-', '_').upper()))\n",
    "\n",
    "df_2 = spark.read.format(\"csv\").option(\"header\",\"true\").option(\"encoding\", \"UTF-8\").option('sep', ';').load(adl_uld_2, mode=\"FAILFAST\", ignoreLeadingWhiteSpace=True, ignoreTrailingWhiteSpace=True,inferSchema=True)\n",
    "for c in df_2.columns:\n",
    "  df_2 = df_2.withColumnRenamed(c, re.sub(r'[,;{}()\\n\\t=-]', '', normalize('NFKD', c).encode('ASCII', 'ignore').decode('ASCII').replace(' ', '_').replace('-', '_').upper()))\n",
    "\n",
    "df_3 = spark.read.format(\"csv\").option(\"header\",\"true\").option(\"encoding\", \"UTF-8\").option('sep', ';').load(adl_uld_3, mode=\"FAILFAST\", ignoreLeadingWhiteSpace=True, ignoreTrailingWhiteSpace=True,inferSchema=True)\n",
    "for c in df_3.columns:\n",
    "  df_3 = df_3.withColumnRenamed(c, re.sub(r'[,;{}()\\n\\t=-]', '', normalize('NFKD', c).encode('ASCII', 'ignore').decode('ASCII').replace(' ', '_').replace('-', '_').upper()))"
   ]
  },
  {
   "cell_type": "code",
   "execution_count": 0,
   "metadata": {
    "application/vnd.databricks.v1+cell": {
     "cellMetadata": {
      "byteLimit": 2048000,
      "rowLimit": 10000
     },
     "inputWidgets": {},
     "nuid": "eccaeb75-4815-411c-8f12-d4ac8c556163",
     "showTitle": false,
     "title": ""
    }
   },
   "outputs": [],
   "source": [
    "adl_raw_1 = f\"{var_adls_uri}{raw_path_1}\"\n",
    "adl_raw_2 = f\"{var_adls_uri}{raw_path_2}\"\n",
    "adl_raw_3 = f\"{var_adls_uri}{raw_path_3}\"\n",
    "\n",
    "adl_raw = [adl_raw_1, adl_raw_2, adl_raw_3]\n",
    "\n",
    "sparkframe = [df_1, df_2, df_3]\n",
    "for df, adl in zip(sparkframe, adl_raw):\n",
    "  dh_insercao_raw = adf['adf_trigger_time']\n",
    "  if dh_insercao_raw is not None:\n",
    "    dh_insercao_raw = dh_insercao_raw.split(\".\")[0]\n",
    "    df = cf.append_control_columns(df, dh_insercao_raw=dh_insercao_raw)\n",
    "  df.write.parquet(path=adl, mode='overwrite')\n"
   ]
  },
  {
   "cell_type": "code",
   "execution_count": 0,
   "metadata": {
    "application/vnd.databricks.v1+cell": {
     "cellMetadata": {},
     "inputWidgets": {},
     "nuid": "875f5075-f168-4f54-9c65-d372b17a4f1b",
     "showTitle": false,
     "title": ""
    }
   },
   "outputs": [],
   "source": []
  }
 ],
 "metadata": {
  "application/vnd.databricks.v1+notebook": {
   "dashboards": [],
   "environmentMetadata": null,
   "language": "python",
   "notebookMetadata": {
    "pythonIndentUnit": 2
   },
   "notebookName": "org_raw_monitor_de_investimento_dim_cnae_e_empresas_auxiliar_e_estrutura_setorial",
   "widgets": {
    "env": {
     "currentValue": "dev",
     "nuid": "25af05d1-fff6-4e39-867b-4f81e3a1ea32",
     "typedWidgetInfo": {
      "autoCreated": false,
      "defaultValue": "dev",
      "label": null,
      "name": "env",
      "options": {
       "widgetDisplayType": "Text",
       "validationRegex": null
      },
      "parameterDataType": "String"
     },
     "widgetInfo": {
      "widgetType": "text",
      "defaultValue": "dev",
      "label": null,
      "name": "env",
      "options": {
       "widgetType": "text",
       "autoCreated": null,
       "validationRegex": null
      }
     }
    },
    "storage": {
     "currentValue": "{\"url\": \"https://cnibigdatadlsgen2.dfs.core.windows.net\", \"container\": \"datalake\"}",
     "nuid": "641cd9e4-6349-4234-849b-c25fefc35bd5",
     "typedWidgetInfo": {
      "autoCreated": false,
      "defaultValue": "{\"url\": \"https://cnibigdatadlsgen2.dfs.core.windows.net\", \"container\": \"datalake\"}",
      "label": null,
      "name": "storage",
      "options": {
       "widgetDisplayType": "Text",
       "validationRegex": null
      },
      "parameterDataType": "String"
     },
     "widgetInfo": {
      "widgetType": "text",
      "defaultValue": "{\"url\": \"https://cnibigdatadlsgen2.dfs.core.windows.net\", \"container\": \"datalake\"}",
      "label": null,
      "name": "storage",
      "options": {
       "widgetType": "text",
       "autoCreated": null,
       "validationRegex": null
      }
     }
    },
    "user_parameters": {
     "currentValue": "{\"null\": \"null\"}",
     "nuid": "b24a8444-a3c8-4c84-9c39-314151f4cfdd",
     "typedWidgetInfo": {
      "autoCreated": false,
      "defaultValue": "{\"null\": \"null\"}",
      "label": null,
      "name": "user_parameters",
      "options": {
       "widgetDisplayType": "Text",
       "validationRegex": null
      },
      "parameterDataType": "String"
     },
     "widgetInfo": {
      "widgetType": "text",
      "defaultValue": "{\"null\": \"null\"}",
      "label": null,
      "name": "user_parameters",
      "options": {
       "widgetType": "text",
       "autoCreated": null,
       "validationRegex": null
      }
     }
    }
   }
  }
 },
 "nbformat": 4,
 "nbformat_minor": 0
}
