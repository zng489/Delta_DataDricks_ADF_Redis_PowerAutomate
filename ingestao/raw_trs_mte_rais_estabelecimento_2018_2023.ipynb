{
 "cells": [
  {
   "cell_type": "code",
   "execution_count": 0,
   "metadata": {
    "application/vnd.databricks.v1+cell": {
     "cellMetadata": {
      "byteLimit": 2048000,
      "rowLimit": 10000
     },
     "inputWidgets": {},
     "nuid": "e87d599b-ce6c-4a44-b7a3-f7aae607dbd5",
     "showTitle": false,
     "title": ""
    }
   },
   "outputs": [],
   "source": [
    "\n",
    "tables = {\"schema\":\"/mte\", \"type_raw\":\"/usr\", \"type_folder\":\"/oni\", \"file_folder\":\"/rais\", \"file_subfolder\":\"/rais_estabelecimentos_2018_2023\",\"prm_path\":\"/prm/usr/oni/mte/rais_publica_estabelecimento/FIEC_mte_rais_publica_estabelecimento_mapeamento_unificado_trusted.xlsx\"}\n",
    "\n",
    "\n",
    "adf = { \"adf_factory_name\": \"cnibigdatafactory\", \"adf_pipeline_name\": \"raw_trs_tb_email\", \"adf_pipeline_run_id\": \"61fc4f3c-c592-426d-bb36-c85cb184bb82\", \"adf_trigger_id\": \"92abb4ec-2b1f-44e0-8245-7bc165f91016\", \"adf_trigger_name\": \"92abb4ec-2b1f-44e0-8245-7bc165f91016\", \"adf_trigger_time\": \"2024-05-07T00:58:48.0960873Z\", \"adf_trigger_type\": \"PipelineActivity\" }\n",
    "\n",
    "dls = {\"folders\":{\"landing\":\"/tmp/dev/lnd\",\"error\":\"/tmp/dev/err\",\"archive\":\"/tmp/dev/ach\",\"staging\":\"/tmp/dev/stg\",\"log\":\"/tmp/dev/log\",\"raw\":\"/tmp/dev/raw\",\"trusted\":\"/tmp/dev/trs\",\"business\":\"/tmp/dev/biz\",\"prm\":\"/tmp/dev/prm\",\"historico\":\"/tmp/dev/hst\"},\"path_prefix\":\"tmp\",\"uld\":{\"folders\":{\"landing\":\"/tmp/dev/uld\",\"error\":\"/tmp/dev/err\",\"staging\":\"/tmp/dev/stg\",\"log\":\"/tmp/dev/log\",\"raw\":\"/tmp/dev/raw\",\"archive\":\"/tmp/dev/ach\"},\"systems\":{\"raw\":\"usr\"},\"path_prefix\":\"/tmp/dev/\"},\"systems\":{\"raw\":\"usr\"}}\n",
    "\n",
    "dbutils.widgets.text(\"user_parameters\", '{\"null\": \"null\"}')\n",
    "\n",
    "dbutils.widgets.text(\"env\", 'dev')\n",
    "\n",
    "dbutils.widgets.text(\"storage\", '{\"url\": \"https://cnibigdatadlsgen2.dfs.core.windows.net\", \"container\": \"datalake\"}')"
   ]
  },
  {
   "cell_type": "code",
   "execution_count": 0,
   "metadata": {
    "application/vnd.databricks.v1+cell": {
     "cellMetadata": {
      "byteLimit": 2048000,
      "rowLimit": 10000
     },
     "inputWidgets": {},
     "nuid": "70fffa22-5cc2-436a-a346-2299b4e983a9",
     "showTitle": false,
     "title": ""
    }
   },
   "outputs": [
    {
     "output_type": "stream",
     "name": "stderr",
     "output_type": "stream",
     "text": [
      "WARNING:root:No input widget named 'adf' is defined\nWARNING:root:No input widget named 'dls' is defined\nWARNING:root:No input widget named 'table' is defined\nWARNING:root:No input widget named 'tables' is defined\nWARNING:root:No input widget named 'file' is defined\nWARNING:root:Cluster Name: fornecedor_dev\nWARNING:root:Parsed env value is 'dev', and type <class 'str'>\nWARNING:root:Execution env: 'dev'\nWARNING:root:Cluster is interactive: 'True'\n"
     ]
    }
   ],
   "source": [
    "# Biblioteca cni_connectors, que dá acesso aos dados no datalake\n",
    "from cni_connectors import adls_connector as adls_conn\n",
    "\n",
    "# A biblioteca criada para facilitar a declaração dos testes. É necessário importá-la.\n",
    "### from datatest.gx_context_provider import GXContextProvider\n",
    "\n",
    "# Essa declaração é necessária em todos os notebooks. Somente através dela podemos acessar os dados no datalake.\n",
    "var_adls_uri, notebook_params = adls_conn.connect_adls()\n",
    "\n",
    "from pyspark.sql.functions import udf, from_utc_timestamp, current_timestamp, lit, input_file_name, monotonically_increasing_id, substring_index\n",
    "from trs_control_field import trs_control_field as tcf\n",
    "import pyspark.sql.functions as f\n",
    "import crawler.functions as cf\n",
    "from pyspark.sql import SparkSession\n",
    "import time\n",
    "import pandas as pd\n",
    "from pyspark.sql.functions import col, when, explode, lit\n",
    "import json\n",
    "from unicodedata import normalize \n",
    "import datetime\n",
    "import re\n",
    "from core.string_utils import normalize_replace\n",
    "from pyspark.sql.functions import concat, lit, col, substring"
   ]
  },
  {
   "cell_type": "code",
   "execution_count": 0,
   "metadata": {
    "application/vnd.databricks.v1+cell": {
     "cellMetadata": {
      "byteLimit": 2048000,
      "rowLimit": 10000
     },
     "inputWidgets": {},
     "nuid": "6a6be5af-683b-4f0b-a980-5c177928976a",
     "showTitle": false,
     "title": ""
    }
   },
   "outputs": [],
   "source": [
    "# Esses são os dicionários de configuração da transformação enviados pelo ADF e acessados via widgets. Os diretórios de origem e destino das tabelas são compostos por valores em 'dls' e 'tables'.\n",
    "# Parametros necessario para na ingestão\n",
    "\n",
    "#tables = notebook_params.var_tables\n",
    "#dls = notebook_params.var_dls\n",
    "#adf = notebook_params.var_adf"
   ]
  },
  {
   "cell_type": "code",
   "execution_count": 0,
   "metadata": {
    "application/vnd.databricks.v1+cell": {
     "cellMetadata": {
      "byteLimit": 2048000,
      "rowLimit": 10000
     },
     "inputWidgets": {},
     "nuid": "aef4a44f-515c-42b5-9faa-bf625749cac4",
     "showTitle": false,
     "title": ""
    }
   },
   "outputs": [
    {
     "output_type": "stream",
     "name": "stdout",
     "output_type": "stream",
     "text": [
      "/tmp/dev/raw\n/tmp/dev/trs\nusr\n"
     ]
    }
   ],
   "source": [
    "raw = dls['folders']['raw']\n",
    "print(raw)\n",
    "\n",
    "trs = dls['folders']['trusted']\n",
    "print(trs)\n",
    "\n",
    "usr = dls['systems']['raw']\n",
    "print(usr)"
   ]
  },
  {
   "cell_type": "code",
   "execution_count": 0,
   "metadata": {
    "application/vnd.databricks.v1+cell": {
     "cellMetadata": {
      "byteLimit": 2048000,
      "rowLimit": 10000
     },
     "inputWidgets": {},
     "nuid": "22272cbd-517f-4ba3-83ca-91e774d79112",
     "showTitle": false,
     "title": ""
    }
   },
   "outputs": [
    {
     "output_type": "stream",
     "name": "stdout",
     "output_type": "stream",
     "text": [
      "Out[60]: 'abfss://datalake@[REDACTED].dfs.core.windows.net/tmp/dev/raw/usr/oni/mte/rais/rais_estabelecimentos_2018_2023'"
     ]
    }
   ],
   "source": [
    "raw_path = \"{raw}{type_raw}{type_folder}{schema}{file_folder}{file_subfolder}\".format(raw=raw,type_raw=tables['type_raw'], type_folder=tables['type_folder'], schema=tables['schema'], file_folder=tables['file_folder'], file_subfolder=tables['file_subfolder'])\n",
    "adl_raw = f\"{var_adls_uri}{raw_path}\"\n",
    "adl_raw"
   ]
  },
  {
   "cell_type": "code",
   "execution_count": 0,
   "metadata": {
    "application/vnd.databricks.v1+cell": {
     "cellMetadata": {
      "byteLimit": 2048000,
      "rowLimit": 10000
     },
     "inputWidgets": {},
     "nuid": "bb1ef6c1-7b7b-4a8c-92ab-f1d28d2f04e6",
     "showTitle": false,
     "title": ""
    }
   },
   "outputs": [
    {
     "output_type": "stream",
     "name": "stdout",
     "output_type": "stream",
     "text": [
      "Out[61]: 'abfss://datalake@[REDACTED].dfs.core.windows.net/tmp/dev/trs/oni/mte/rais/rais_estabelecimentos_2018_2023'"
     ]
    }
   ],
   "source": [
    "trs_path = \"{trs}{type_folder}{schema}{file_folder}{file_subfolder}\".format(trs=trs, type_folder=tables['type_folder'], schema=tables['schema'], file_folder=tables['file_folder'], file_subfolder=tables['file_subfolder'])\n",
    "adl_trs = f\"{var_adls_uri}{trs_path}\"\n",
    "adl_trs"
   ]
  },
  {
   "cell_type": "code",
   "execution_count": 0,
   "metadata": {
    "application/vnd.databricks.v1+cell": {
     "cellMetadata": {
      "byteLimit": 2048000,
      "rowLimit": 10000
     },
     "inputWidgets": {},
     "nuid": "37b1ea5e-2e38-424f-9349-a41110c9d46a",
     "showTitle": false,
     "title": ""
    }
   },
   "outputs": [
    {
     "output_type": "stream",
     "name": "stdout",
     "output_type": "stream",
     "text": [
      "Out[62]: '/tmp/dev/prm/usr/oni/mte/rais_estabelecimento_2018_2023/mte_rais_estabelecimento_mapeamento_unificado_trusted.xlsx'"
     ]
    }
   ],
   "source": [
    "# prm_path = tables['prm_path']\n",
    "prm_path = '/tmp/dev/prm/usr/oni/mte/rais_estabelecimento_2018_2023/mte_rais_estabelecimento_mapeamento_unificado_trusted.xlsx'\n",
    "prm_path"
   ]
  },
  {
   "cell_type": "code",
   "execution_count": 0,
   "metadata": {
    "application/vnd.databricks.v1+cell": {
     "cellMetadata": {
      "byteLimit": 2048000,
      "rowLimit": 10000
     },
     "inputWidgets": {},
     "nuid": "bfc806a0-10e9-40a6-b18b-6db4b3f36547",
     "showTitle": false,
     "title": ""
    }
   },
   "outputs": [],
   "source": [
    "headers = {\n",
    "  'name_header': 'Campo Origem',\n",
    "  'pos_header': 'C',\n",
    "  'pos_org': 'C',\n",
    "  'pos_dst': 'E',\n",
    "  'pos_type': 'F'\n",
    "}\n",
    "var_prm_dict = cf.parse_ba_doc(dbutils, prm_path, headers=headers)"
   ]
  },
  {
   "cell_type": "code",
   "execution_count": 0,
   "metadata": {
    "application/vnd.databricks.v1+cell": {
     "cellMetadata": {
      "byteLimit": 2048000,
      "rowLimit": 10000
     },
     "inputWidgets": {},
     "nuid": "24be9769-c298-42ff-b167-a26d980d8a2a",
     "showTitle": false,
     "title": ""
    }
   },
   "outputs": [],
   "source": [
    "df = spark.read.parquet(adl_raw)"
   ]
  },
  {
   "cell_type": "code",
   "execution_count": 0,
   "metadata": {
    "application/vnd.databricks.v1+cell": {
     "cellMetadata": {
      "byteLimit": 2048000,
      "rowLimit": 10000
     },
     "inputWidgets": {},
     "nuid": "9f741224-742d-451f-8735-ff9d6f2f946d",
     "showTitle": false,
     "title": ""
    }
   },
   "outputs": [],
   "source": [
    "def __transform_columns(var_prm_dict__sheet_name: dict):\n",
    "  for org, dst, _type in var_prm_dict__sheet_name:\n",
    "    if org == 'N/A':\n",
    "      yield f.lit(None).cast(_type).alias(dst)\n",
    "    else:\n",
    "      yield f.col(org).cast(_type).alias(dst)"
   ]
  },
  {
   "cell_type": "code",
   "execution_count": 0,
   "metadata": {
    "application/vnd.databricks.v1+cell": {
     "cellMetadata": {
      "byteLimit": 2048000,
      "rowLimit": 10000
     },
     "inputWidgets": {},
     "nuid": "bf65300a-60e6-4feb-9226-223f33cd1f92",
     "showTitle": false,
     "title": ""
    }
   },
   "outputs": [],
   "source": [
    "# sheet_name = table['table'].upper()\n",
    "sheet_name = 'RAIS_Identifiad_ESTABELECIMENTO'\n",
    "\n",
    "cf.check_ba_doc(df, parse_ba=var_prm_dict, sheet=sheet_name)\n",
    "df = df.select(*__transform_columns(var_prm_dict[sheet_name]))"
   ]
  },
  {
   "cell_type": "code",
   "execution_count": 0,
   "metadata": {
    "application/vnd.databricks.v1+cell": {
     "cellMetadata": {
      "byteLimit": 2048000,
      "rowLimit": 10000
     },
     "inputWidgets": {},
     "nuid": "67577bfa-d333-4912-ad4d-9347d266591e",
     "showTitle": false,
     "title": ""
    }
   },
   "outputs": [],
   "source": [
    "# var_prm_dict"
   ]
  },
  {
   "cell_type": "code",
   "execution_count": 0,
   "metadata": {
    "application/vnd.databricks.v1+cell": {
     "cellMetadata": {
      "byteLimit": 2048000,
      "rowLimit": 10000
     },
     "inputWidgets": {},
     "nuid": "1e50cc84-3603-49c9-8cfb-ba3d7d61b4ec",
     "showTitle": false,
     "title": ""
    }
   },
   "outputs": [],
   "source": [
    "# Limpar espaços extras nas colunas do tipo string:\n",
    "for column in df.columns:\n",
    "  if df.select(column).dtypes[0][1] == 'string':\n",
    "    df = df.withColumn(column, f.trim(f.col(column)))\n",
    "\n",
    "# Replace empty strings with null values:\n",
    "df = df.replace('', None)"
   ]
  },
  {
   "cell_type": "code",
   "execution_count": 0,
   "metadata": {
    "application/vnd.databricks.v1+cell": {
     "cellMetadata": {
      "byteLimit": 2048000,
      "rowLimit": 10000
     },
     "inputWidgets": {},
     "nuid": "38f13bc2-7dfe-429f-848b-cb1e02305621",
     "showTitle": false,
     "title": ""
    }
   },
   "outputs": [],
   "source": [
    "# Replace \"{ñ class}\" and variations with null values:\n",
    "values_to_replace = [\n",
    "  '{ñ class}',\n",
    "  '{ñ class',#\n",
    "  '{ñ clas',\n",
    "  '{ñ cla',#\n",
    "  '{ñ cl',\n",
    "  '{ñ c',\n",
    "  '{ñ'\n",
    "]\n",
    "for value in values_to_replace:\n",
    "  df = df.replace(value, None)"
   ]
  },
  {
   "cell_type": "code",
   "execution_count": 0,
   "metadata": {
    "application/vnd.databricks.v1+cell": {
     "cellMetadata": {
      "byteLimit": 2048000,
      "rowLimit": 10000
     },
     "inputWidgets": {},
     "nuid": "f36ddf71-9876-4990-b04e-5ed2aad232b5",
     "showTitle": false,
     "title": ""
    }
   },
   "outputs": [],
   "source": [
    "# Extract the first two digits\n",
    "df = df.withColumn(\"SG_UF\", substring(col(\"CD_MUNICIPIO\").cast(\"string\"), 1, 2))"
   ]
  },
  {
   "cell_type": "code",
   "execution_count": 0,
   "metadata": {
    "application/vnd.databricks.v1+cell": {
     "cellMetadata": {
      "byteLimit": 2048000,
      "rowLimit": 10000
     },
     "inputWidgets": {},
     "nuid": "7a7fa419-d119-44a8-9ded-7fbf4cca512d",
     "showTitle": false,
     "title": ""
    }
   },
   "outputs": [],
   "source": [
    "map_dict = {\n",
    "  '11': 'RO',\n",
    "  '12': 'AC',\n",
    "  '13': 'AM',\n",
    "  '14': 'RR',\n",
    "  '15': 'PA',\n",
    "  '16': 'AP',\n",
    "  '17': 'TO',\n",
    "  '21': 'MA',\n",
    "  '22': 'PI',\n",
    "  '23': 'CE',\n",
    "  '24': 'RN',\n",
    "  '25': 'PB',\n",
    "  '26': 'PE',\n",
    "  '27': 'AL',\n",
    "  '28': 'SE',\n",
    "  '29': 'BA',\n",
    "  '31': 'MG',\n",
    "  '32': 'ES',\n",
    "  '33': 'RJ',\n",
    "  '35': 'SP',\n",
    "  '41': 'PR',\n",
    "  '42': 'SC',\n",
    "  '43': 'RS',\n",
    "  '50': 'MS',\n",
    "  '51': 'MT',\n",
    "  '52': 'GO',\n",
    "  '53': 'DF'\n",
    "}\n",
    "df = df.replace(map_dict, subset=['SG_UF'])"
   ]
  },
  {
   "cell_type": "code",
   "execution_count": 0,
   "metadata": {
    "application/vnd.databricks.v1+cell": {
     "cellMetadata": {
      "byteLimit": 2048000,
      "rowLimit": 10000
     },
     "inputWidgets": {},
     "nuid": "e2e6d119-9ae9-4d18-986c-205f37d2c1b2",
     "showTitle": false,
     "title": ""
    }
   },
   "outputs": [],
   "source": [
    "map_dict = {\n",
    "  '01': 'ZERO',\n",
    "  '02': 'ATE 4',\n",
    "  '03': 'DE 5 A 9',\n",
    "  '04': 'DE 10 A 19',\n",
    "  '05': 'DE 20 A 49',\n",
    "  '06': 'DE 50 A 99',\n",
    "  '07': 'DE 100 A 249',\n",
    "  '08': 'DE 250 A 499',\n",
    "  '09': 'DE 500 A 999',\n",
    "  '10': '1000 OU MAIS',\n",
    "  '-1': 'IGNORADO'\n",
    "}\n",
    "df = df.replace(map_dict, subset=['DS_TAMANHO_ESTABELECIMENTO'])"
   ]
  },
  {
   "cell_type": "code",
   "execution_count": 0,
   "metadata": {
    "application/vnd.databricks.v1+cell": {
     "cellMetadata": {
      "byteLimit": 2048000,
      "rowLimit": 10000
     },
     "inputWidgets": {},
     "nuid": "ec47f532-c20a-4944-8e8d-a618ed795c96",
     "showTitle": false,
     "title": ""
    }
   },
   "outputs": [
    {
     "output_type": "stream",
     "name": "stdout",
     "output_type": "stream",
     "text": [
      "['CD_CNAE20_CLASSE', 'CD_CNAE20_SUBCLASSE', 'CD_CNAE10_CLASSE', 'CD_TIPO_ESTAB_ID', 'DS_TIPO_ESTAB', 'CD_UF', 'DT_ABERTURA', 'DT_ENCERRAMENTO', 'DT_BAIXA', 'CD_IBGE_SUBSETOR', 'FL_IND_ATIV_ANO', 'FL_IND_CEI_VINCULADO', 'FL_IND_ESTAB_PARTICIPA_PAT', 'FL_IND_RAIS_NEGAT', 'FL_IND_SIMPLES', 'CD_MUNICIPIO', 'CD_NATUREZA_JURIDICA', 'NR_QTD_VINCULOS_ATIVOS', 'NR_QTD_VINCULOS_CLT', 'NR_QTD_VINCULOS_ESTATUTARIOS', 'CD_TAMANHO_ESTABELECIMENTO', 'DS_TAMANHO_ESTABELECIMENTO', 'ID_CNPJ_RAIZ', 'ID_CNPJ_CEI', 'ID_RAZAO_SOCIAL', 'NR_TELEFONE_EMPRE', 'ID_CEPAO_ESTAB', 'NM_BAIRRO', 'NM_EMAIL', 'NM_LOGRADOURO', 'NR_LOGRADOURO', 'SG_UF']\n['CD_CNAE20_CLASSE', 'CD_CNAE20_SUBCLASSE', 'CD_CNAE10_CLASSE', 'CD_TIPO_ESTAB_ID', 'DS_TIPO_ESTAB', 'CD_UF', 'DT_ABERTURA', 'DT_ENCERRAMENTO', 'DT_BAIXA', 'CD_IBGE_SUBSETOR', 'FL_IND_ATIV_ANO', 'FL_IND_CEI_VINCULADO', 'FL_IND_ESTAB_PARTICIPA_PAT', 'FL_IND_RAIS_NEGAT', 'FL_IND_SIMPLES', 'CD_MUNICIPIO', 'CD_NATUREZA_JURIDICA', 'NR_QTD_VINCULOS_ATIVOS', 'NR_QTD_VINCULOS_CLT', 'NR_QTD_VINCULOS_ESTATUTARIOS', 'CD_TAMANHO_ESTABELECIMENTO', 'DS_TAMANHO_ESTABELECIMENTO', 'ID_CNPJ_RAIZ', 'ID_CNPJ_CEI', 'ID_RAZAO_SOCIAL', 'NR_TELEFONE_EMPRE', 'ID_CEPAO_ESTAB', 'NM_BAIRRO', 'NM_EMAIL', 'NM_LOGRADOURO', 'NR_LOGRADOURO', 'SG_UF', 'ANO AS NR_ANO']\n"
     ]
    }
   ],
   "source": [
    "df.createOrReplaceTempView(\"df\")\n",
    "\n",
    "columns_to_select = [col for col in df.columns if col != 'ANO']\n",
    "\n",
    "columns_to_select.append(\"ANO AS NR_ANO\")\n",
    "\n",
    "select_query = f\"SELECT {', '.join(columns_to_select)} FROM df\"\n",
    "\n",
    "df = spark.sql(select_query)\n"
   ]
  },
  {
   "cell_type": "code",
   "execution_count": 0,
   "metadata": {
    "application/vnd.databricks.v1+cell": {
     "cellMetadata": {
      "byteLimit": 2048000,
      "rowLimit": 10000
     },
     "inputWidgets": {},
     "nuid": "4322e59f-14b9-4308-a570-15379ee58a7d",
     "showTitle": false,
     "title": ""
    }
   },
   "outputs": [],
   "source": [
    "df = tcf.add_control_fields(df, adf)\n",
    "df.write.mode('overwrite').partitionBy('NR_ANO').parquet(path=adl_trs)"
   ]
  },
  {
   "cell_type": "code",
   "execution_count": 0,
   "metadata": {
    "application/vnd.databricks.v1+cell": {
     "cellMetadata": {},
     "inputWidgets": {},
     "nuid": "75a7c773-109b-4e8e-8add-1be25cbb3da6",
     "showTitle": false,
     "title": ""
    }
   },
   "outputs": [],
   "source": []
  }
 ],
 "metadata": {
  "application/vnd.databricks.v1+notebook": {
   "dashboards": [],
   "environmentMetadata": null,
   "language": "python",
   "notebookMetadata": {
    "pythonIndentUnit": 2
   },
   "notebookName": "raw_trs_mte_rais_estabelecimento_2018_2023",
   "widgets": {
    "env": {
     "currentValue": "dev",
     "nuid": "ef2a8122-a1c4-48a8-a056-def86e4f9036",
     "typedWidgetInfo": {
      "autoCreated": false,
      "defaultValue": "dev",
      "label": null,
      "name": "env",
      "options": {
       "widgetDisplayType": "Text",
       "validationRegex": null
      },
      "parameterDataType": "String"
     },
     "widgetInfo": {
      "widgetType": "text",
      "defaultValue": "dev",
      "label": null,
      "name": "env",
      "options": {
       "widgetType": "text",
       "autoCreated": null,
       "validationRegex": null
      }
     }
    },
    "storage": {
     "currentValue": "{\"url\": \"https://cnibigdatadlsgen2.dfs.core.windows.net\", \"container\": \"datalake\"}",
     "nuid": "ba2a0950-3674-41ba-9ccb-fcbc17e39ded",
     "typedWidgetInfo": {
      "autoCreated": false,
      "defaultValue": "{\"url\": \"https://cnibigdatadlsgen2.dfs.core.windows.net\", \"container\": \"datalake\"}",
      "label": null,
      "name": "storage",
      "options": {
       "widgetDisplayType": "Text",
       "validationRegex": null
      },
      "parameterDataType": "String"
     },
     "widgetInfo": {
      "widgetType": "text",
      "defaultValue": "{\"url\": \"https://cnibigdatadlsgen2.dfs.core.windows.net\", \"container\": \"datalake\"}",
      "label": null,
      "name": "storage",
      "options": {
       "widgetType": "text",
       "autoCreated": null,
       "validationRegex": null
      }
     }
    },
    "user_parameters": {
     "currentValue": "{\"null\": \"null\"}",
     "nuid": "870bdb44-153a-43e3-836d-bf4a1bda6b21",
     "typedWidgetInfo": {
      "autoCreated": false,
      "defaultValue": "{\"null\": \"null\"}",
      "label": null,
      "name": "user_parameters",
      "options": {
       "widgetDisplayType": "Text",
       "validationRegex": null
      },
      "parameterDataType": "String"
     },
     "widgetInfo": {
      "widgetType": "text",
      "defaultValue": "{\"null\": \"null\"}",
      "label": null,
      "name": "user_parameters",
      "options": {
       "widgetType": "text",
       "autoCreated": null,
       "validationRegex": null
      }
     }
    }
   }
  }
 },
 "nbformat": 4,
 "nbformat_minor": 0
}
