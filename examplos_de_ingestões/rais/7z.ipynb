{
 "cells": [
  {
   "cell_type": "code",
   "execution_count": 2,
   "metadata": {},
   "outputs": [
    {
     "name": "stdout",
     "output_type": "stream",
     "text": [
      "Extracting C:\\Users\\zhang.yuan\\Desktop\\2020\\202001\\CAGEDMOV202001ID.7z...\n",
      "Extracted CAGEDMOV202001ID.7z to C:\\Users\\zhang.yuan\\Desktop\\2020\\202001\\CAGEDMOV202001ID\n"
     ]
    }
   ],
   "source": [
    "import os\n",
    "import py7zr\n",
    "\n",
    "# Specify the directory containing the .7z files\n",
    "directory = r'C:\\Users\\zhang.yuan\\Desktop\\2020\\202001'\n",
    "\n",
    "# Loop through each file in the directory\n",
    "for filename in os.listdir(directory):\n",
    "    if filename.endswith('.7z'):\n",
    "        file_path = os.path.join(directory, filename)\n",
    "        print(f'Extracting {file_path}...')\n",
    "        \n",
    "        # Extract the 7z file\n",
    "        with py7zr.SevenZipFile(file_path, mode='r') as archive:\n",
    "            archive.extractall(path=os.path.join(directory, filename[:-3]))  # Create a folder for each extracted file\n",
    "\n",
    "        print(f'Extracted {filename} to {os.path.join(directory, filename[:-3])}')\n"
   ]
  },
  {
   "cell_type": "code",
   "execution_count": 3,
   "metadata": {},
   "outputs": [
    {
     "name": "stdout",
     "output_type": "stream",
     "text": [
      "Extraindo C:\\Users\\zhang.yuan\\Desktop\\2020\\202001\\CAGEDMOV202001ID.7z...\n",
      "Extraído CAGEDMOV202001ID.7z para C:\\Users\\zhang.yuan\\Desktop\\2020\\202001\\CAGEDMOV202001ID\n",
      "Extraindo C:\\Users\\zhang.yuan\\Desktop\\2020\\202002\\CAGEDFOR202002ID.7z...\n",
      "Extraído CAGEDFOR202002ID.7z para C:\\Users\\zhang.yuan\\Desktop\\2020\\202002\\CAGEDFOR202002ID\n",
      "Extraindo C:\\Users\\zhang.yuan\\Desktop\\2020\\202002\\CAGEDMOV202002ID.7z...\n",
      "Extraído CAGEDMOV202002ID.7z para C:\\Users\\zhang.yuan\\Desktop\\2020\\202002\\CAGEDMOV202002ID\n",
      "Extraindo C:\\Users\\zhang.yuan\\Desktop\\2020\\202003\\CAGEDFOR202003ID.7z...\n",
      "Extraído CAGEDFOR202003ID.7z para C:\\Users\\zhang.yuan\\Desktop\\2020\\202003\\CAGEDFOR202003ID\n",
      "Extraindo C:\\Users\\zhang.yuan\\Desktop\\2020\\202003\\CAGEDMOV202003ID.7z...\n",
      "Extraído CAGEDMOV202003ID.7z para C:\\Users\\zhang.yuan\\Desktop\\2020\\202003\\CAGEDMOV202003ID\n",
      "Extraindo C:\\Users\\zhang.yuan\\Desktop\\2020\\202004\\CAGEDEXC202004ID.7z...\n",
      "Extraído CAGEDEXC202004ID.7z para C:\\Users\\zhang.yuan\\Desktop\\2020\\202004\\CAGEDEXC202004ID\n",
      "Extraindo C:\\Users\\zhang.yuan\\Desktop\\2020\\202004\\CAGEDFOR202004ID.7z...\n",
      "Extraído CAGEDFOR202004ID.7z para C:\\Users\\zhang.yuan\\Desktop\\2020\\202004\\CAGEDFOR202004ID\n",
      "Extraindo C:\\Users\\zhang.yuan\\Desktop\\2020\\202004\\CAGEDMOV202004ID.7z...\n",
      "Extraído CAGEDMOV202004ID.7z para C:\\Users\\zhang.yuan\\Desktop\\2020\\202004\\CAGEDMOV202004ID\n",
      "Extraindo C:\\Users\\zhang.yuan\\Desktop\\2020\\202005\\CAGEDEXC202005ID.7z...\n",
      "Extraído CAGEDEXC202005ID.7z para C:\\Users\\zhang.yuan\\Desktop\\2020\\202005\\CAGEDEXC202005ID\n",
      "Extraindo C:\\Users\\zhang.yuan\\Desktop\\2020\\202005\\CAGEDFOR202005ID.7z...\n",
      "Extraído CAGEDFOR202005ID.7z para C:\\Users\\zhang.yuan\\Desktop\\2020\\202005\\CAGEDFOR202005ID\n",
      "Extraindo C:\\Users\\zhang.yuan\\Desktop\\2020\\202005\\CAGEDMOV202005ID.7z...\n",
      "Extraído CAGEDMOV202005ID.7z para C:\\Users\\zhang.yuan\\Desktop\\2020\\202005\\CAGEDMOV202005ID\n",
      "Extraindo C:\\Users\\zhang.yuan\\Desktop\\2020\\202006\\CAGEDEXC202006ID.7z...\n",
      "Extraído CAGEDEXC202006ID.7z para C:\\Users\\zhang.yuan\\Desktop\\2020\\202006\\CAGEDEXC202006ID\n",
      "Extraindo C:\\Users\\zhang.yuan\\Desktop\\2020\\202006\\CAGEDFOR202006ID.7z...\n",
      "Extraído CAGEDFOR202006ID.7z para C:\\Users\\zhang.yuan\\Desktop\\2020\\202006\\CAGEDFOR202006ID\n",
      "Extraindo C:\\Users\\zhang.yuan\\Desktop\\2020\\202006\\CAGEDMOV202006ID.7z...\n",
      "Extraído CAGEDMOV202006ID.7z para C:\\Users\\zhang.yuan\\Desktop\\2020\\202006\\CAGEDMOV202006ID\n",
      "Extraindo C:\\Users\\zhang.yuan\\Desktop\\2020\\202007\\CAGEDEXC202007ID.7z...\n",
      "Extraído CAGEDEXC202007ID.7z para C:\\Users\\zhang.yuan\\Desktop\\2020\\202007\\CAGEDEXC202007ID\n",
      "Extraindo C:\\Users\\zhang.yuan\\Desktop\\2020\\202007\\CAGEDFOR202007ID.7z...\n",
      "Extraído CAGEDFOR202007ID.7z para C:\\Users\\zhang.yuan\\Desktop\\2020\\202007\\CAGEDFOR202007ID\n",
      "Extraindo C:\\Users\\zhang.yuan\\Desktop\\2020\\202007\\CAGEDMOV202007ID.7z...\n",
      "Extraído CAGEDMOV202007ID.7z para C:\\Users\\zhang.yuan\\Desktop\\2020\\202007\\CAGEDMOV202007ID\n",
      "Extraindo C:\\Users\\zhang.yuan\\Desktop\\2020\\202008\\CAGEDEXC202008ID.7z...\n",
      "Extraído CAGEDEXC202008ID.7z para C:\\Users\\zhang.yuan\\Desktop\\2020\\202008\\CAGEDEXC202008ID\n",
      "Extraindo C:\\Users\\zhang.yuan\\Desktop\\2020\\202008\\CAGEDFOR202008ID.7z...\n",
      "Extraído CAGEDFOR202008ID.7z para C:\\Users\\zhang.yuan\\Desktop\\2020\\202008\\CAGEDFOR202008ID\n",
      "Extraindo C:\\Users\\zhang.yuan\\Desktop\\2020\\202008\\CAGEDMOV202008ID.7z...\n",
      "Extraído CAGEDMOV202008ID.7z para C:\\Users\\zhang.yuan\\Desktop\\2020\\202008\\CAGEDMOV202008ID\n",
      "Extraindo C:\\Users\\zhang.yuan\\Desktop\\2020\\202009\\CAGEDEXC202009ID.7z...\n",
      "Extraído CAGEDEXC202009ID.7z para C:\\Users\\zhang.yuan\\Desktop\\2020\\202009\\CAGEDEXC202009ID\n",
      "Extraindo C:\\Users\\zhang.yuan\\Desktop\\2020\\202009\\CAGEDFOR202009ID.7z...\n",
      "Extraído CAGEDFOR202009ID.7z para C:\\Users\\zhang.yuan\\Desktop\\2020\\202009\\CAGEDFOR202009ID\n",
      "Extraindo C:\\Users\\zhang.yuan\\Desktop\\2020\\202009\\CAGEDMOV202009ID.7z...\n",
      "Extraído CAGEDMOV202009ID.7z para C:\\Users\\zhang.yuan\\Desktop\\2020\\202009\\CAGEDMOV202009ID\n",
      "Extraindo C:\\Users\\zhang.yuan\\Desktop\\2020\\202010\\CAGEDEXC202010ID.7z...\n",
      "Extraído CAGEDEXC202010ID.7z para C:\\Users\\zhang.yuan\\Desktop\\2020\\202010\\CAGEDEXC202010ID\n",
      "Extraindo C:\\Users\\zhang.yuan\\Desktop\\2020\\202010\\CAGEDFOR202010ID.7z...\n",
      "Extraído CAGEDFOR202010ID.7z para C:\\Users\\zhang.yuan\\Desktop\\2020\\202010\\CAGEDFOR202010ID\n",
      "Extraindo C:\\Users\\zhang.yuan\\Desktop\\2020\\202010\\CAGEDMOV202010ID.7z...\n",
      "Extraído CAGEDMOV202010ID.7z para C:\\Users\\zhang.yuan\\Desktop\\2020\\202010\\CAGEDMOV202010ID\n",
      "Extraindo C:\\Users\\zhang.yuan\\Desktop\\2020\\202011\\CAGEDEXC202011ID.7z...\n",
      "Extraído CAGEDEXC202011ID.7z para C:\\Users\\zhang.yuan\\Desktop\\2020\\202011\\CAGEDEXC202011ID\n",
      "Extraindo C:\\Users\\zhang.yuan\\Desktop\\2020\\202011\\CAGEDFOR202011ID.7z...\n",
      "Extraído CAGEDFOR202011ID.7z para C:\\Users\\zhang.yuan\\Desktop\\2020\\202011\\CAGEDFOR202011ID\n",
      "Extraindo C:\\Users\\zhang.yuan\\Desktop\\2020\\202011\\CAGEDMOV202011ID.7z...\n",
      "Extraído CAGEDMOV202011ID.7z para C:\\Users\\zhang.yuan\\Desktop\\2020\\202011\\CAGEDMOV202011ID\n",
      "Extraindo C:\\Users\\zhang.yuan\\Desktop\\2020\\202012\\CAGEDEXC202012ID.7z...\n",
      "Extraído CAGEDEXC202012ID.7z para C:\\Users\\zhang.yuan\\Desktop\\2020\\202012\\CAGEDEXC202012ID\n",
      "Extraindo C:\\Users\\zhang.yuan\\Desktop\\2020\\202012\\CAGEDFOR202012ID.7z...\n",
      "Extraído CAGEDFOR202012ID.7z para C:\\Users\\zhang.yuan\\Desktop\\2020\\202012\\CAGEDFOR202012ID\n",
      "Extraindo C:\\Users\\zhang.yuan\\Desktop\\2020\\202012\\CAGEDMOV202012ID.7z...\n",
      "Extraído CAGEDMOV202012ID.7z para C:\\Users\\zhang.yuan\\Desktop\\2020\\202012\\CAGEDMOV202012ID\n"
     ]
    }
   ],
   "source": [
    "import os\n",
    "import py7zr\n",
    "\n",
    "# Loop através dos diretórios de 202001 até 202012\n",
    "for year_month in range(202001, 202013):  # 202001 até 202012\n",
    "    directory = rf'C:\\Users\\zhang.yuan\\Desktop\\2020\\{year_month}'  # Caminho do diretório atual\n",
    "\n",
    "    # Verificar se o diretório existe\n",
    "    if os.path.exists(directory):\n",
    "        # Loop através de cada arquivo no diretório\n",
    "        for filename in os.listdir(directory):\n",
    "            if filename.endswith('.7z'):  # Verifica se o arquivo é .7z\n",
    "                file_path = os.path.join(directory, filename)\n",
    "                print(f'Extraindo {file_path}...')\n",
    "\n",
    "                # Extrair o arquivo .7z\n",
    "                with py7zr.SevenZipFile(file_path, mode='r') as archive:\n",
    "                    # Cria uma pasta para cada arquivo extraído\n",
    "                    archive.extractall(path=os.path.join(directory, filename[:-3]))\n",
    "\n",
    "                print(f'Extraído {filename} para {os.path.join(directory, filename[:-3])}')\n",
    "    else:\n",
    "        print(f'Diretório {directory} não encontrado!')\n"
   ]
  },
  {
   "cell_type": "code",
   "execution_count": null,
   "metadata": {},
   "outputs": [],
   "source": []
  }
 ],
 "metadata": {
  "kernelspec": {
   "display_name": "oni_bot",
   "language": "python",
   "name": "python3"
  },
  "language_info": {
   "codemirror_mode": {
    "name": "ipython",
    "version": 3
   },
   "file_extension": ".py",
   "mimetype": "text/x-python",
   "name": "python",
   "nbconvert_exporter": "python",
   "pygments_lexer": "ipython3",
   "version": "3.8.10"
  }
 },
 "nbformat": 4,
 "nbformat_minor": 2
}
