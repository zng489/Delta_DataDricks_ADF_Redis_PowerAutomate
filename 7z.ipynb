{
 "cells": [
  {
   "cell_type": "code",
   "execution_count": 2,
   "metadata": {},
   "outputs": [
    {
     "name": "stdout",
     "output_type": "stream",
     "text": [
      "Extracting C:\\Users\\zhang.yuan\\Desktop\\2023\\RAIS_ESTAB_PUB.7z...\n",
      "Extracted RAIS_ESTAB_PUB.7z to C:\\Users\\zhang.yuan\\Desktop\\2023\\RAIS_ESTAB_PUB\n",
      "Extracting C:\\Users\\zhang.yuan\\Desktop\\2023\\RAIS_VINC_PUB_CENTRO_OESTE.7z...\n",
      "Extracted RAIS_VINC_PUB_CENTRO_OESTE.7z to C:\\Users\\zhang.yuan\\Desktop\\2023\\RAIS_VINC_PUB_CENTRO_OESTE\n",
      "Extracting C:\\Users\\zhang.yuan\\Desktop\\2023\\RAIS_VINC_PUB_MG_ES_RJ.7z...\n",
      "Extracted RAIS_VINC_PUB_MG_ES_RJ.7z to C:\\Users\\zhang.yuan\\Desktop\\2023\\RAIS_VINC_PUB_MG_ES_RJ\n",
      "Extracting C:\\Users\\zhang.yuan\\Desktop\\2023\\RAIS_VINC_PUB_NI.7z...\n",
      "Extracted RAIS_VINC_PUB_NI.7z to C:\\Users\\zhang.yuan\\Desktop\\2023\\RAIS_VINC_PUB_NI\n",
      "Extracting C:\\Users\\zhang.yuan\\Desktop\\2023\\RAIS_VINC_PUB_NORDESTE.7z...\n",
      "Extracted RAIS_VINC_PUB_NORDESTE.7z to C:\\Users\\zhang.yuan\\Desktop\\2023\\RAIS_VINC_PUB_NORDESTE\n",
      "Extracting C:\\Users\\zhang.yuan\\Desktop\\2023\\RAIS_VINC_PUB_NORTE.7z...\n",
      "Extracted RAIS_VINC_PUB_NORTE.7z to C:\\Users\\zhang.yuan\\Desktop\\2023\\RAIS_VINC_PUB_NORTE\n",
      "Extracting C:\\Users\\zhang.yuan\\Desktop\\2023\\RAIS_VINC_PUB_SP.7z...\n",
      "Extracted RAIS_VINC_PUB_SP.7z to C:\\Users\\zhang.yuan\\Desktop\\2023\\RAIS_VINC_PUB_SP\n",
      "Extracting C:\\Users\\zhang.yuan\\Desktop\\2023\\RAIS_VINC_PUB_SUL.7z...\n",
      "Extracted RAIS_VINC_PUB_SUL.7z to C:\\Users\\zhang.yuan\\Desktop\\2023\\RAIS_VINC_PUB_SUL\n"
     ]
    }
   ],
   "source": [
    "import os\n",
    "import py7zr\n",
    "\n",
    "# Specify the directory containing the .7z files\n",
    "directory = r'C:\\Users\\zhang.yuan\\Desktop\\2023'\n",
    "\n",
    "# Loop through each file in the directory\n",
    "for filename in os.listdir(directory):\n",
    "    if filename.endswith('.7z'):\n",
    "        file_path = os.path.join(directory, filename)\n",
    "        print(f'Extracting {file_path}...')\n",
    "        \n",
    "        # Extract the 7z file\n",
    "        with py7zr.SevenZipFile(file_path, mode='r') as archive:\n",
    "            archive.extractall(path=os.path.join(directory, filename[:-3]))  # Create a folder for each extracted file\n",
    "\n",
    "        print(f'Extracted {filename} to {os.path.join(directory, filename[:-3])}')\n"
   ]
  },
  {
   "cell_type": "code",
   "execution_count": 1,
   "metadata": {},
   "outputs": [
    {
     "name": "stdout",
     "output_type": "stream",
     "text": [
      "Diretório C:\\Users\\zhang.yuan\\Desktop\\2024\\202401 não encontrado!\n",
      "Diretório C:\\Users\\zhang.yuan\\Desktop\\2024\\202402 não encontrado!\n",
      "Diretório C:\\Users\\zhang.yuan\\Desktop\\2024\\202403 não encontrado!\n",
      "Diretório C:\\Users\\zhang.yuan\\Desktop\\2024\\202404 não encontrado!\n",
      "Diretório C:\\Users\\zhang.yuan\\Desktop\\2024\\202405 não encontrado!\n",
      "Diretório C:\\Users\\zhang.yuan\\Desktop\\2024\\202406 não encontrado!\n",
      "Diretório C:\\Users\\zhang.yuan\\Desktop\\2024\\202407 não encontrado!\n",
      "Diretório C:\\Users\\zhang.yuan\\Desktop\\2024\\202408 não encontrado!\n",
      "Diretório C:\\Users\\zhang.yuan\\Desktop\\2024\\202409 não encontrado!\n",
      "Extraindo C:\\Users\\zhang.yuan\\Desktop\\2024\\202410\\CAGEDEXC202410ID.7z...\n",
      "Extraído CAGEDEXC202410ID.7z para C:\\Users\\zhang.yuan\\Desktop\\2024\\202410\\CAGEDEXC202410ID\n",
      "Extraindo C:\\Users\\zhang.yuan\\Desktop\\2024\\202410\\CAGEDFOR202410ID.7z...\n",
      "Extraído CAGEDFOR202410ID.7z para C:\\Users\\zhang.yuan\\Desktop\\2024\\202410\\CAGEDFOR202410ID\n",
      "Extraindo C:\\Users\\zhang.yuan\\Desktop\\2024\\202410\\CAGEDMOV202410ID.7z...\n",
      "Extraído CAGEDMOV202410ID.7z para C:\\Users\\zhang.yuan\\Desktop\\2024\\202410\\CAGEDMOV202410ID\n",
      "Extraindo C:\\Users\\zhang.yuan\\Desktop\\2024\\202411\\CAGEDEXC202411ID.7z...\n",
      "Extraído CAGEDEXC202411ID.7z para C:\\Users\\zhang.yuan\\Desktop\\2024\\202411\\CAGEDEXC202411ID\n",
      "Extraindo C:\\Users\\zhang.yuan\\Desktop\\2024\\202411\\CAGEDFOR202411ID.7z...\n",
      "Extraído CAGEDFOR202411ID.7z para C:\\Users\\zhang.yuan\\Desktop\\2024\\202411\\CAGEDFOR202411ID\n",
      "Extraindo C:\\Users\\zhang.yuan\\Desktop\\2024\\202411\\CAGEDMOV202411ID.7z...\n",
      "Extraído CAGEDMOV202411ID.7z para C:\\Users\\zhang.yuan\\Desktop\\2024\\202411\\CAGEDMOV202411ID\n",
      "Diretório C:\\Users\\zhang.yuan\\Desktop\\2024\\202412 não encontrado!\n"
     ]
    }
   ],
   "source": [
    "import os\n",
    "import py7zr\n",
    "\n",
    "# Loop através dos diretórios de 202001 até 202012\n",
    "for year_month in range(202401, 202413):  # 202001 até 202012\n",
    "    directory = rf'C:\\Users\\zhang.yuan\\Desktop\\2024\\{year_month}'  # Caminho do diretório atual\n",
    "\n",
    "    # Verificar se o diretório existe\n",
    "    if os.path.exists(directory):\n",
    "        # Loop através de cada arquivo no diretório\n",
    "        for filename in os.listdir(directory):\n",
    "            if filename.endswith('.7z'):  # Verifica se o arquivo é .7z\n",
    "                file_path = os.path.join(directory, filename)\n",
    "                print(f'Extraindo {file_path}...')\n",
    "\n",
    "                # Extrair o arquivo .7z\n",
    "                with py7zr.SevenZipFile(file_path, mode='r') as archive:\n",
    "                    # Cria uma pasta para cada arquivo extraído\n",
    "                    archive.extractall(path=os.path.join(directory, filename[:-3]))\n",
    "\n",
    "                print(f'Extraído {filename} para {os.path.join(directory, filename[:-3])}')\n",
    "    else:\n",
    "        print(f'Diretório {directory} não encontrado!')\n"
   ]
  },
  {
   "cell_type": "code",
   "execution_count": null,
   "metadata": {},
   "outputs": [],
   "source": []
  }
 ],
 "metadata": {
  "kernelspec": {
   "display_name": "env_bot",
   "language": "python",
   "name": "python3"
  },
  "language_info": {
   "codemirror_mode": {
    "name": "ipython",
    "version": 3
   },
   "file_extension": ".py",
   "mimetype": "text/x-python",
   "name": "python",
   "nbconvert_exporter": "python",
   "pygments_lexer": "ipython3",
   "version": "3.8.18"
  }
 },
 "nbformat": 4,
 "nbformat_minor": 2
}
